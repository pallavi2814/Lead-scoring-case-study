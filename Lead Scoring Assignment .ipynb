{
 "cells": [
  {
   "cell_type": "markdown",
   "id": "15bee368",
   "metadata": {},
   "source": [
    "## LEAD SCORING ASSIGNMENT \n",
    "### Problem Statement\n",
    "Company X Education is an online education plateform which specialises in selling online courses to industry professionals. The company has its course on various various websites and search engines. People who fill up details related to them (such as name, phone number, email address etc) or are referred by other clients are considered as leads (potential clients). X Education receives plenty of leads, however the leads being converted into clients is extremely low. In a 100 leads per day, only 30 of them are converted to clients.\n",
    "\n",
    "### Goals of the Case Study\n",
    "Build a logistic regression model to assign a lead score between 0 and 100 to each of the leads which can be used by the company to target potential leads. A higher score would mean that the lead is hot, i.e. is most likely to convert whereas a lower score would mean that the lead is cold and will mostly not get converted.\n",
    "\n"
   ]
  },
  {
   "cell_type": "code",
   "execution_count": 3,
   "id": "fa86e5c2",
   "metadata": {},
   "outputs": [],
   "source": [
    "#import libraries\n",
    "\n",
    "import numpy as np, pandas as pd\n",
    "import matplotlib.pyplot as plt\n",
    "import seaborn as sns\n",
    "\n",
    "import warnings\n",
    "warnings.filterwarnings('ignore')\n",
    "\n",
    "from sklearn.model_selection import train_test_split\n",
    "from sklearn.preprocessing import StandardScaler"
   ]
  },
  {
   "cell_type": "markdown",
   "id": "c3ae51dc",
   "metadata": {},
   "source": [
    "### Reading the Data set"
   ]
  },
  {
   "cell_type": "code",
   "execution_count": 4,
   "id": "75c30bc9",
   "metadata": {},
   "outputs": [],
   "source": [
    "leads = pd.read_csv('Leads.csv')"
   ]
  },
  {
   "cell_type": "code",
   "execution_count": 5,
   "id": "644a52bf",
   "metadata": {},
   "outputs": [
    {
     "data": {
      "text/html": [
       "<div>\n",
       "<style scoped>\n",
       "    .dataframe tbody tr th:only-of-type {\n",
       "        vertical-align: middle;\n",
       "    }\n",
       "\n",
       "    .dataframe tbody tr th {\n",
       "        vertical-align: top;\n",
       "    }\n",
       "\n",
       "    .dataframe thead th {\n",
       "        text-align: right;\n",
       "    }\n",
       "</style>\n",
       "<table border=\"1\" class=\"dataframe\">\n",
       "  <thead>\n",
       "    <tr style=\"text-align: right;\">\n",
       "      <th></th>\n",
       "      <th>Prospect ID</th>\n",
       "      <th>Lead Number</th>\n",
       "      <th>Lead Origin</th>\n",
       "      <th>Lead Source</th>\n",
       "      <th>Do Not Email</th>\n",
       "      <th>Do Not Call</th>\n",
       "      <th>Converted</th>\n",
       "      <th>TotalVisits</th>\n",
       "      <th>Total Time Spent on Website</th>\n",
       "      <th>Page Views Per Visit</th>\n",
       "      <th>...</th>\n",
       "      <th>Get updates on DM Content</th>\n",
       "      <th>Lead Profile</th>\n",
       "      <th>City</th>\n",
       "      <th>Asymmetrique Activity Index</th>\n",
       "      <th>Asymmetrique Profile Index</th>\n",
       "      <th>Asymmetrique Activity Score</th>\n",
       "      <th>Asymmetrique Profile Score</th>\n",
       "      <th>I agree to pay the amount through cheque</th>\n",
       "      <th>A free copy of Mastering The Interview</th>\n",
       "      <th>Last Notable Activity</th>\n",
       "    </tr>\n",
       "  </thead>\n",
       "  <tbody>\n",
       "    <tr>\n",
       "      <th>0</th>\n",
       "      <td>7927b2df-8bba-4d29-b9a2-b6e0beafe620</td>\n",
       "      <td>660737</td>\n",
       "      <td>API</td>\n",
       "      <td>Olark Chat</td>\n",
       "      <td>No</td>\n",
       "      <td>No</td>\n",
       "      <td>0</td>\n",
       "      <td>0.0</td>\n",
       "      <td>0</td>\n",
       "      <td>0.0</td>\n",
       "      <td>...</td>\n",
       "      <td>No</td>\n",
       "      <td>Select</td>\n",
       "      <td>Select</td>\n",
       "      <td>02.Medium</td>\n",
       "      <td>02.Medium</td>\n",
       "      <td>15.0</td>\n",
       "      <td>15.0</td>\n",
       "      <td>No</td>\n",
       "      <td>No</td>\n",
       "      <td>Modified</td>\n",
       "    </tr>\n",
       "    <tr>\n",
       "      <th>1</th>\n",
       "      <td>2a272436-5132-4136-86fa-dcc88c88f482</td>\n",
       "      <td>660728</td>\n",
       "      <td>API</td>\n",
       "      <td>Organic Search</td>\n",
       "      <td>No</td>\n",
       "      <td>No</td>\n",
       "      <td>0</td>\n",
       "      <td>5.0</td>\n",
       "      <td>674</td>\n",
       "      <td>2.5</td>\n",
       "      <td>...</td>\n",
       "      <td>No</td>\n",
       "      <td>Select</td>\n",
       "      <td>Select</td>\n",
       "      <td>02.Medium</td>\n",
       "      <td>02.Medium</td>\n",
       "      <td>15.0</td>\n",
       "      <td>15.0</td>\n",
       "      <td>No</td>\n",
       "      <td>No</td>\n",
       "      <td>Email Opened</td>\n",
       "    </tr>\n",
       "    <tr>\n",
       "      <th>2</th>\n",
       "      <td>8cc8c611-a219-4f35-ad23-fdfd2656bd8a</td>\n",
       "      <td>660727</td>\n",
       "      <td>Landing Page Submission</td>\n",
       "      <td>Direct Traffic</td>\n",
       "      <td>No</td>\n",
       "      <td>No</td>\n",
       "      <td>1</td>\n",
       "      <td>2.0</td>\n",
       "      <td>1532</td>\n",
       "      <td>2.0</td>\n",
       "      <td>...</td>\n",
       "      <td>No</td>\n",
       "      <td>Potential Lead</td>\n",
       "      <td>Mumbai</td>\n",
       "      <td>02.Medium</td>\n",
       "      <td>01.High</td>\n",
       "      <td>14.0</td>\n",
       "      <td>20.0</td>\n",
       "      <td>No</td>\n",
       "      <td>Yes</td>\n",
       "      <td>Email Opened</td>\n",
       "    </tr>\n",
       "    <tr>\n",
       "      <th>3</th>\n",
       "      <td>0cc2df48-7cf4-4e39-9de9-19797f9b38cc</td>\n",
       "      <td>660719</td>\n",
       "      <td>Landing Page Submission</td>\n",
       "      <td>Direct Traffic</td>\n",
       "      <td>No</td>\n",
       "      <td>No</td>\n",
       "      <td>0</td>\n",
       "      <td>1.0</td>\n",
       "      <td>305</td>\n",
       "      <td>1.0</td>\n",
       "      <td>...</td>\n",
       "      <td>No</td>\n",
       "      <td>Select</td>\n",
       "      <td>Mumbai</td>\n",
       "      <td>02.Medium</td>\n",
       "      <td>01.High</td>\n",
       "      <td>13.0</td>\n",
       "      <td>17.0</td>\n",
       "      <td>No</td>\n",
       "      <td>No</td>\n",
       "      <td>Modified</td>\n",
       "    </tr>\n",
       "    <tr>\n",
       "      <th>4</th>\n",
       "      <td>3256f628-e534-4826-9d63-4a8b88782852</td>\n",
       "      <td>660681</td>\n",
       "      <td>Landing Page Submission</td>\n",
       "      <td>Google</td>\n",
       "      <td>No</td>\n",
       "      <td>No</td>\n",
       "      <td>1</td>\n",
       "      <td>2.0</td>\n",
       "      <td>1428</td>\n",
       "      <td>1.0</td>\n",
       "      <td>...</td>\n",
       "      <td>No</td>\n",
       "      <td>Select</td>\n",
       "      <td>Mumbai</td>\n",
       "      <td>02.Medium</td>\n",
       "      <td>01.High</td>\n",
       "      <td>15.0</td>\n",
       "      <td>18.0</td>\n",
       "      <td>No</td>\n",
       "      <td>No</td>\n",
       "      <td>Modified</td>\n",
       "    </tr>\n",
       "  </tbody>\n",
       "</table>\n",
       "<p>5 rows × 37 columns</p>\n",
       "</div>"
      ],
      "text/plain": [
       "                            Prospect ID  Lead Number              Lead Origin  \\\n",
       "0  7927b2df-8bba-4d29-b9a2-b6e0beafe620       660737                      API   \n",
       "1  2a272436-5132-4136-86fa-dcc88c88f482       660728                      API   \n",
       "2  8cc8c611-a219-4f35-ad23-fdfd2656bd8a       660727  Landing Page Submission   \n",
       "3  0cc2df48-7cf4-4e39-9de9-19797f9b38cc       660719  Landing Page Submission   \n",
       "4  3256f628-e534-4826-9d63-4a8b88782852       660681  Landing Page Submission   \n",
       "\n",
       "      Lead Source Do Not Email Do Not Call  Converted  TotalVisits  \\\n",
       "0      Olark Chat           No          No          0          0.0   \n",
       "1  Organic Search           No          No          0          5.0   \n",
       "2  Direct Traffic           No          No          1          2.0   \n",
       "3  Direct Traffic           No          No          0          1.0   \n",
       "4          Google           No          No          1          2.0   \n",
       "\n",
       "   Total Time Spent on Website  Page Views Per Visit  ...  \\\n",
       "0                            0                   0.0  ...   \n",
       "1                          674                   2.5  ...   \n",
       "2                         1532                   2.0  ...   \n",
       "3                          305                   1.0  ...   \n",
       "4                         1428                   1.0  ...   \n",
       "\n",
       "  Get updates on DM Content    Lead Profile    City  \\\n",
       "0                        No          Select  Select   \n",
       "1                        No          Select  Select   \n",
       "2                        No  Potential Lead  Mumbai   \n",
       "3                        No          Select  Mumbai   \n",
       "4                        No          Select  Mumbai   \n",
       "\n",
       "  Asymmetrique Activity Index Asymmetrique Profile Index  \\\n",
       "0                   02.Medium                  02.Medium   \n",
       "1                   02.Medium                  02.Medium   \n",
       "2                   02.Medium                    01.High   \n",
       "3                   02.Medium                    01.High   \n",
       "4                   02.Medium                    01.High   \n",
       "\n",
       "  Asymmetrique Activity Score Asymmetrique Profile Score  \\\n",
       "0                        15.0                       15.0   \n",
       "1                        15.0                       15.0   \n",
       "2                        14.0                       20.0   \n",
       "3                        13.0                       17.0   \n",
       "4                        15.0                       18.0   \n",
       "\n",
       "  I agree to pay the amount through cheque  \\\n",
       "0                                       No   \n",
       "1                                       No   \n",
       "2                                       No   \n",
       "3                                       No   \n",
       "4                                       No   \n",
       "\n",
       "  A free copy of Mastering The Interview Last Notable Activity  \n",
       "0                                     No              Modified  \n",
       "1                                     No          Email Opened  \n",
       "2                                    Yes          Email Opened  \n",
       "3                                     No              Modified  \n",
       "4                                     No              Modified  \n",
       "\n",
       "[5 rows x 37 columns]"
      ]
     },
     "execution_count": 5,
     "metadata": {},
     "output_type": "execute_result"
    }
   ],
   "source": [
    "leads.head()"
   ]
  },
  {
   "cell_type": "code",
   "execution_count": 6,
   "id": "6daf21fd",
   "metadata": {},
   "outputs": [
    {
     "data": {
      "text/plain": [
       "(9240, 37)"
      ]
     },
     "execution_count": 6,
     "metadata": {},
     "output_type": "execute_result"
    }
   ],
   "source": [
    "#check for shape of data\n",
    "\n",
    "leads.shape "
   ]
  },
  {
   "cell_type": "code",
   "execution_count": 7,
   "id": "bd79e493",
   "metadata": {},
   "outputs": [],
   "source": [
    "# There are total 9240 rows and 37 columns in the data set"
   ]
  },
  {
   "cell_type": "code",
   "execution_count": 8,
   "id": "13fc2525",
   "metadata": {},
   "outputs": [
    {
     "name": "stdout",
     "output_type": "stream",
     "text": [
      "<class 'pandas.core.frame.DataFrame'>\n",
      "RangeIndex: 9240 entries, 0 to 9239\n",
      "Data columns (total 37 columns):\n",
      " #   Column                                         Non-Null Count  Dtype  \n",
      "---  ------                                         --------------  -----  \n",
      " 0   Prospect ID                                    9240 non-null   object \n",
      " 1   Lead Number                                    9240 non-null   int64  \n",
      " 2   Lead Origin                                    9240 non-null   object \n",
      " 3   Lead Source                                    9204 non-null   object \n",
      " 4   Do Not Email                                   9240 non-null   object \n",
      " 5   Do Not Call                                    9240 non-null   object \n",
      " 6   Converted                                      9240 non-null   int64  \n",
      " 7   TotalVisits                                    9103 non-null   float64\n",
      " 8   Total Time Spent on Website                    9240 non-null   int64  \n",
      " 9   Page Views Per Visit                           9103 non-null   float64\n",
      " 10  Last Activity                                  9137 non-null   object \n",
      " 11  Country                                        6779 non-null   object \n",
      " 12  Specialization                                 7802 non-null   object \n",
      " 13  How did you hear about X Education             7033 non-null   object \n",
      " 14  What is your current occupation                6550 non-null   object \n",
      " 15  What matters most to you in choosing a course  6531 non-null   object \n",
      " 16  Search                                         9240 non-null   object \n",
      " 17  Magazine                                       9240 non-null   object \n",
      " 18  Newspaper Article                              9240 non-null   object \n",
      " 19  X Education Forums                             9240 non-null   object \n",
      " 20  Newspaper                                      9240 non-null   object \n",
      " 21  Digital Advertisement                          9240 non-null   object \n",
      " 22  Through Recommendations                        9240 non-null   object \n",
      " 23  Receive More Updates About Our Courses         9240 non-null   object \n",
      " 24  Tags                                           5887 non-null   object \n",
      " 25  Lead Quality                                   4473 non-null   object \n",
      " 26  Update me on Supply Chain Content              9240 non-null   object \n",
      " 27  Get updates on DM Content                      9240 non-null   object \n",
      " 28  Lead Profile                                   6531 non-null   object \n",
      " 29  City                                           7820 non-null   object \n",
      " 30  Asymmetrique Activity Index                    5022 non-null   object \n",
      " 31  Asymmetrique Profile Index                     5022 non-null   object \n",
      " 32  Asymmetrique Activity Score                    5022 non-null   float64\n",
      " 33  Asymmetrique Profile Score                     5022 non-null   float64\n",
      " 34  I agree to pay the amount through cheque       9240 non-null   object \n",
      " 35  A free copy of Mastering The Interview         9240 non-null   object \n",
      " 36  Last Notable Activity                          9240 non-null   object \n",
      "dtypes: float64(4), int64(3), object(30)\n",
      "memory usage: 2.6+ MB\n"
     ]
    }
   ],
   "source": [
    "leads.info()"
   ]
  },
  {
   "cell_type": "code",
   "execution_count": 9,
   "id": "d0ad581e",
   "metadata": {},
   "outputs": [
    {
     "data": {
      "text/html": [
       "<div>\n",
       "<style scoped>\n",
       "    .dataframe tbody tr th:only-of-type {\n",
       "        vertical-align: middle;\n",
       "    }\n",
       "\n",
       "    .dataframe tbody tr th {\n",
       "        vertical-align: top;\n",
       "    }\n",
       "\n",
       "    .dataframe thead th {\n",
       "        text-align: right;\n",
       "    }\n",
       "</style>\n",
       "<table border=\"1\" class=\"dataframe\">\n",
       "  <thead>\n",
       "    <tr style=\"text-align: right;\">\n",
       "      <th></th>\n",
       "      <th>Lead Number</th>\n",
       "      <th>Converted</th>\n",
       "      <th>TotalVisits</th>\n",
       "      <th>Total Time Spent on Website</th>\n",
       "      <th>Page Views Per Visit</th>\n",
       "      <th>Asymmetrique Activity Score</th>\n",
       "      <th>Asymmetrique Profile Score</th>\n",
       "    </tr>\n",
       "  </thead>\n",
       "  <tbody>\n",
       "    <tr>\n",
       "      <th>count</th>\n",
       "      <td>9240.000000</td>\n",
       "      <td>9240.000000</td>\n",
       "      <td>9103.000000</td>\n",
       "      <td>9240.000000</td>\n",
       "      <td>9103.000000</td>\n",
       "      <td>5022.000000</td>\n",
       "      <td>5022.000000</td>\n",
       "    </tr>\n",
       "    <tr>\n",
       "      <th>mean</th>\n",
       "      <td>617188.435606</td>\n",
       "      <td>0.385390</td>\n",
       "      <td>3.445238</td>\n",
       "      <td>487.698268</td>\n",
       "      <td>2.362820</td>\n",
       "      <td>14.306252</td>\n",
       "      <td>16.344883</td>\n",
       "    </tr>\n",
       "    <tr>\n",
       "      <th>std</th>\n",
       "      <td>23405.995698</td>\n",
       "      <td>0.486714</td>\n",
       "      <td>4.854853</td>\n",
       "      <td>548.021466</td>\n",
       "      <td>2.161418</td>\n",
       "      <td>1.386694</td>\n",
       "      <td>1.811395</td>\n",
       "    </tr>\n",
       "    <tr>\n",
       "      <th>min</th>\n",
       "      <td>579533.000000</td>\n",
       "      <td>0.000000</td>\n",
       "      <td>0.000000</td>\n",
       "      <td>0.000000</td>\n",
       "      <td>0.000000</td>\n",
       "      <td>7.000000</td>\n",
       "      <td>11.000000</td>\n",
       "    </tr>\n",
       "    <tr>\n",
       "      <th>25%</th>\n",
       "      <td>596484.500000</td>\n",
       "      <td>0.000000</td>\n",
       "      <td>1.000000</td>\n",
       "      <td>12.000000</td>\n",
       "      <td>1.000000</td>\n",
       "      <td>14.000000</td>\n",
       "      <td>15.000000</td>\n",
       "    </tr>\n",
       "    <tr>\n",
       "      <th>50%</th>\n",
       "      <td>615479.000000</td>\n",
       "      <td>0.000000</td>\n",
       "      <td>3.000000</td>\n",
       "      <td>248.000000</td>\n",
       "      <td>2.000000</td>\n",
       "      <td>14.000000</td>\n",
       "      <td>16.000000</td>\n",
       "    </tr>\n",
       "    <tr>\n",
       "      <th>75%</th>\n",
       "      <td>637387.250000</td>\n",
       "      <td>1.000000</td>\n",
       "      <td>5.000000</td>\n",
       "      <td>936.000000</td>\n",
       "      <td>3.000000</td>\n",
       "      <td>15.000000</td>\n",
       "      <td>18.000000</td>\n",
       "    </tr>\n",
       "    <tr>\n",
       "      <th>max</th>\n",
       "      <td>660737.000000</td>\n",
       "      <td>1.000000</td>\n",
       "      <td>251.000000</td>\n",
       "      <td>2272.000000</td>\n",
       "      <td>55.000000</td>\n",
       "      <td>18.000000</td>\n",
       "      <td>20.000000</td>\n",
       "    </tr>\n",
       "  </tbody>\n",
       "</table>\n",
       "</div>"
      ],
      "text/plain": [
       "         Lead Number    Converted  TotalVisits  Total Time Spent on Website  \\\n",
       "count    9240.000000  9240.000000  9103.000000                  9240.000000   \n",
       "mean   617188.435606     0.385390     3.445238                   487.698268   \n",
       "std     23405.995698     0.486714     4.854853                   548.021466   \n",
       "min    579533.000000     0.000000     0.000000                     0.000000   \n",
       "25%    596484.500000     0.000000     1.000000                    12.000000   \n",
       "50%    615479.000000     0.000000     3.000000                   248.000000   \n",
       "75%    637387.250000     1.000000     5.000000                   936.000000   \n",
       "max    660737.000000     1.000000   251.000000                  2272.000000   \n",
       "\n",
       "       Page Views Per Visit  Asymmetrique Activity Score  \\\n",
       "count           9103.000000                  5022.000000   \n",
       "mean               2.362820                    14.306252   \n",
       "std                2.161418                     1.386694   \n",
       "min                0.000000                     7.000000   \n",
       "25%                1.000000                    14.000000   \n",
       "50%                2.000000                    14.000000   \n",
       "75%                3.000000                    15.000000   \n",
       "max               55.000000                    18.000000   \n",
       "\n",
       "       Asymmetrique Profile Score  \n",
       "count                 5022.000000  \n",
       "mean                    16.344883  \n",
       "std                      1.811395  \n",
       "min                     11.000000  \n",
       "25%                     15.000000  \n",
       "50%                     16.000000  \n",
       "75%                     18.000000  \n",
       "max                     20.000000  "
      ]
     },
     "execution_count": 9,
     "metadata": {},
     "output_type": "execute_result"
    }
   ],
   "source": [
    "leads.describe()"
   ]
  },
  {
   "cell_type": "markdown",
   "id": "7f96875a",
   "metadata": {},
   "source": [
    "## EXPLORATORY DATA ANALYSIS\n",
    "\n",
    "### Data understanding, preparation"
   ]
  },
  {
   "cell_type": "code",
   "execution_count": 10,
   "id": "90ebd4d0",
   "metadata": {},
   "outputs": [
    {
     "data": {
      "text/plain": [
       "0"
      ]
     },
     "execution_count": 10,
     "metadata": {},
     "output_type": "execute_result"
    }
   ],
   "source": [
    "# Checking for unique id \n",
    "\n",
    "sum(leads.duplicated(subset='Prospect ID'))"
   ]
  },
  {
   "cell_type": "markdown",
   "id": "4a29d4cb",
   "metadata": {},
   "source": [
    "<div class=\"alert-info\">\n",
    "It shows that Prospect ID feature is unique for each row\n",
    "\n",
    " </div>"
   ]
  },
  {
   "cell_type": "code",
   "execution_count": 11,
   "id": "8f4d5305",
   "metadata": {},
   "outputs": [
    {
     "data": {
      "text/plain": [
       "0    0.61461\n",
       "1    0.38539\n",
       "Name: Converted, dtype: float64"
      ]
     },
     "execution_count": 11,
     "metadata": {},
     "output_type": "execute_result"
    }
   ],
   "source": [
    "# Checking for conversion rate\n",
    "\n",
    "leads.Converted.value_counts(normalize=True)"
   ]
  },
  {
   "cell_type": "markdown",
   "id": "4c4e907d",
   "metadata": {},
   "source": [
    "<div class=\"alert-info\">\n",
    "From the dataset, we can see that conversion rate is almost 39%\n",
    "\n",
    " </div>"
   ]
  },
  {
   "cell_type": "code",
   "execution_count": 12,
   "id": "0e9abdd6",
   "metadata": {},
   "outputs": [
    {
     "data": {
      "text/plain": [
       "Prospect ID                                       0.00\n",
       "Lead Number                                       0.00\n",
       "Lead Origin                                       0.00\n",
       "Lead Source                                       0.39\n",
       "Do Not Email                                      0.00\n",
       "Do Not Call                                       0.00\n",
       "Converted                                         0.00\n",
       "TotalVisits                                       1.48\n",
       "Total Time Spent on Website                       0.00\n",
       "Page Views Per Visit                              1.48\n",
       "Last Activity                                     1.11\n",
       "Country                                          26.63\n",
       "Specialization                                   36.58\n",
       "How did you hear about X Education               78.46\n",
       "What is your current occupation                  29.11\n",
       "What matters most to you in choosing a course    29.32\n",
       "Search                                            0.00\n",
       "Magazine                                          0.00\n",
       "Newspaper Article                                 0.00\n",
       "X Education Forums                                0.00\n",
       "Newspaper                                         0.00\n",
       "Digital Advertisement                             0.00\n",
       "Through Recommendations                           0.00\n",
       "Receive More Updates About Our Courses            0.00\n",
       "Tags                                             36.29\n",
       "Lead Quality                                     51.59\n",
       "Update me on Supply Chain Content                 0.00\n",
       "Get updates on DM Content                         0.00\n",
       "Lead Profile                                     74.19\n",
       "City                                             39.71\n",
       "Asymmetrique Activity Index                      45.65\n",
       "Asymmetrique Profile Index                       45.65\n",
       "Asymmetrique Activity Score                      45.65\n",
       "Asymmetrique Profile Score                       45.65\n",
       "I agree to pay the amount through cheque          0.00\n",
       "A free copy of Mastering The Interview            0.00\n",
       "Last Notable Activity                             0.00\n",
       "dtype: float64"
      ]
     },
     "execution_count": 12,
     "metadata": {},
     "output_type": "execute_result"
    }
   ],
   "source": [
    "#Before checking null values, lets replace `Select` with NaN\n",
    "\n",
    "leads = leads.replace('Select', np.nan)\n",
    "\n",
    "round(100*leads.isnull().sum()/leads.shape[0],2)"
   ]
  },
  {
   "cell_type": "markdown",
   "id": "51c7aa29",
   "metadata": {},
   "source": [
    "<div class=\"alert-info\">\n",
    "From the above results, we can see that columns with more than 45% missing values can be dropped.\n",
    "    \n",
    "- How did you hear about X Education\n",
    "- Lead Quality\n",
    "- Lead Profile\n",
    "- Asymmetrique Activity Index\n",
    "- Asymmetrique Profile Index\n",
    "- Asymmetrique Activity Score\n",
    "- Asymmetrique Profile Score\n",
    "\n",
    "\n",
    " </div>"
   ]
  },
  {
   "cell_type": "code",
   "execution_count": 13,
   "id": "f6873125",
   "metadata": {},
   "outputs": [
    {
     "data": {
      "text/html": [
       "<div>\n",
       "<style scoped>\n",
       "    .dataframe tbody tr th:only-of-type {\n",
       "        vertical-align: middle;\n",
       "    }\n",
       "\n",
       "    .dataframe tbody tr th {\n",
       "        vertical-align: top;\n",
       "    }\n",
       "\n",
       "    .dataframe thead th {\n",
       "        text-align: right;\n",
       "    }\n",
       "</style>\n",
       "<table border=\"1\" class=\"dataframe\">\n",
       "  <thead>\n",
       "    <tr style=\"text-align: right;\">\n",
       "      <th></th>\n",
       "      <th>Lead Number</th>\n",
       "      <th>Lead Origin</th>\n",
       "      <th>Lead Source</th>\n",
       "      <th>Do Not Email</th>\n",
       "      <th>Do Not Call</th>\n",
       "      <th>Converted</th>\n",
       "      <th>TotalVisits</th>\n",
       "      <th>Total Time Spent on Website</th>\n",
       "      <th>Page Views Per Visit</th>\n",
       "      <th>Last Activity</th>\n",
       "      <th>...</th>\n",
       "      <th>Digital Advertisement</th>\n",
       "      <th>Through Recommendations</th>\n",
       "      <th>Receive More Updates About Our Courses</th>\n",
       "      <th>Tags</th>\n",
       "      <th>Update me on Supply Chain Content</th>\n",
       "      <th>Get updates on DM Content</th>\n",
       "      <th>City</th>\n",
       "      <th>I agree to pay the amount through cheque</th>\n",
       "      <th>A free copy of Mastering The Interview</th>\n",
       "      <th>Last Notable Activity</th>\n",
       "    </tr>\n",
       "  </thead>\n",
       "  <tbody>\n",
       "    <tr>\n",
       "      <th>0</th>\n",
       "      <td>660737</td>\n",
       "      <td>API</td>\n",
       "      <td>Olark Chat</td>\n",
       "      <td>No</td>\n",
       "      <td>No</td>\n",
       "      <td>0</td>\n",
       "      <td>0.0</td>\n",
       "      <td>0</td>\n",
       "      <td>0.0</td>\n",
       "      <td>Page Visited on Website</td>\n",
       "      <td>...</td>\n",
       "      <td>No</td>\n",
       "      <td>No</td>\n",
       "      <td>No</td>\n",
       "      <td>Interested in other courses</td>\n",
       "      <td>No</td>\n",
       "      <td>No</td>\n",
       "      <td>NaN</td>\n",
       "      <td>No</td>\n",
       "      <td>No</td>\n",
       "      <td>Modified</td>\n",
       "    </tr>\n",
       "    <tr>\n",
       "      <th>1</th>\n",
       "      <td>660728</td>\n",
       "      <td>API</td>\n",
       "      <td>Organic Search</td>\n",
       "      <td>No</td>\n",
       "      <td>No</td>\n",
       "      <td>0</td>\n",
       "      <td>5.0</td>\n",
       "      <td>674</td>\n",
       "      <td>2.5</td>\n",
       "      <td>Email Opened</td>\n",
       "      <td>...</td>\n",
       "      <td>No</td>\n",
       "      <td>No</td>\n",
       "      <td>No</td>\n",
       "      <td>Ringing</td>\n",
       "      <td>No</td>\n",
       "      <td>No</td>\n",
       "      <td>NaN</td>\n",
       "      <td>No</td>\n",
       "      <td>No</td>\n",
       "      <td>Email Opened</td>\n",
       "    </tr>\n",
       "    <tr>\n",
       "      <th>2</th>\n",
       "      <td>660727</td>\n",
       "      <td>Landing Page Submission</td>\n",
       "      <td>Direct Traffic</td>\n",
       "      <td>No</td>\n",
       "      <td>No</td>\n",
       "      <td>1</td>\n",
       "      <td>2.0</td>\n",
       "      <td>1532</td>\n",
       "      <td>2.0</td>\n",
       "      <td>Email Opened</td>\n",
       "      <td>...</td>\n",
       "      <td>No</td>\n",
       "      <td>No</td>\n",
       "      <td>No</td>\n",
       "      <td>Will revert after reading the email</td>\n",
       "      <td>No</td>\n",
       "      <td>No</td>\n",
       "      <td>Mumbai</td>\n",
       "      <td>No</td>\n",
       "      <td>Yes</td>\n",
       "      <td>Email Opened</td>\n",
       "    </tr>\n",
       "  </tbody>\n",
       "</table>\n",
       "<p>3 rows × 29 columns</p>\n",
       "</div>"
      ],
      "text/plain": [
       "   Lead Number              Lead Origin     Lead Source Do Not Email  \\\n",
       "0       660737                      API      Olark Chat           No   \n",
       "1       660728                      API  Organic Search           No   \n",
       "2       660727  Landing Page Submission  Direct Traffic           No   \n",
       "\n",
       "  Do Not Call  Converted  TotalVisits  Total Time Spent on Website  \\\n",
       "0          No          0          0.0                            0   \n",
       "1          No          0          5.0                          674   \n",
       "2          No          1          2.0                         1532   \n",
       "\n",
       "   Page Views Per Visit            Last Activity  ... Digital Advertisement  \\\n",
       "0                   0.0  Page Visited on Website  ...                    No   \n",
       "1                   2.5             Email Opened  ...                    No   \n",
       "2                   2.0             Email Opened  ...                    No   \n",
       "\n",
       "  Through Recommendations Receive More Updates About Our Courses  \\\n",
       "0                      No                                     No   \n",
       "1                      No                                     No   \n",
       "2                      No                                     No   \n",
       "\n",
       "                                  Tags Update me on Supply Chain Content  \\\n",
       "0          Interested in other courses                                No   \n",
       "1                              Ringing                                No   \n",
       "2  Will revert after reading the email                                No   \n",
       "\n",
       "  Get updates on DM Content    City I agree to pay the amount through cheque  \\\n",
       "0                        No     NaN                                       No   \n",
       "1                        No     NaN                                       No   \n",
       "2                        No  Mumbai                                       No   \n",
       "\n",
       "  A free copy of Mastering The Interview Last Notable Activity  \n",
       "0                                     No              Modified  \n",
       "1                                     No          Email Opened  \n",
       "2                                    Yes          Email Opened  \n",
       "\n",
       "[3 rows x 29 columns]"
      ]
     },
     "execution_count": 13,
     "metadata": {},
     "output_type": "execute_result"
    }
   ],
   "source": [
    "leads.drop(['Lead Profile','Prospect ID','How did you hear about X Education','Lead Quality','Asymmetrique Activity Index','Asymmetrique Profile Index','Asymmetrique Activity Score','Asymmetrique Profile Score'],axis=1,inplace=True)\n",
    "leads.head(3)"
   ]
  },
  {
   "cell_type": "code",
   "execution_count": 14,
   "id": "c30a3d41",
   "metadata": {},
   "outputs": [
    {
     "data": {
      "text/plain": [
       "Lead Number                                       0.00\n",
       "Lead Origin                                       0.00\n",
       "Lead Source                                       0.39\n",
       "Do Not Email                                      0.00\n",
       "Do Not Call                                       0.00\n",
       "Converted                                         0.00\n",
       "TotalVisits                                       1.48\n",
       "Total Time Spent on Website                       0.00\n",
       "Page Views Per Visit                              1.48\n",
       "Last Activity                                     1.11\n",
       "Country                                          26.63\n",
       "Specialization                                   36.58\n",
       "What is your current occupation                  29.11\n",
       "What matters most to you in choosing a course    29.32\n",
       "Search                                            0.00\n",
       "Magazine                                          0.00\n",
       "Newspaper Article                                 0.00\n",
       "X Education Forums                                0.00\n",
       "Newspaper                                         0.00\n",
       "Digital Advertisement                             0.00\n",
       "Through Recommendations                           0.00\n",
       "Receive More Updates About Our Courses            0.00\n",
       "Tags                                             36.29\n",
       "Update me on Supply Chain Content                 0.00\n",
       "Get updates on DM Content                         0.00\n",
       "City                                             39.71\n",
       "I agree to pay the amount through cheque          0.00\n",
       "A free copy of Mastering The Interview            0.00\n",
       "Last Notable Activity                             0.00\n",
       "dtype: float64"
      ]
     },
     "execution_count": 14,
     "metadata": {},
     "output_type": "execute_result"
    }
   ],
   "source": [
    "#checking missing values again\n",
    "round(100*leads.isnull().sum()/leads.shape[0],2)"
   ]
  },
  {
   "cell_type": "markdown",
   "id": "7a5cd3a8",
   "metadata": {},
   "source": [
    "## Categorical Attributes Analysis:"
   ]
  },
  {
   "cell_type": "code",
   "execution_count": 15,
   "id": "3e5f1bcf",
   "metadata": {},
   "outputs": [
    {
     "data": {
      "text/plain": [
       "Landing Page Submission    4886\n",
       "API                        3580\n",
       "Lead Add Form               718\n",
       "Lead Import                  55\n",
       "Quick Add Form                1\n",
       "Name: Lead Origin, dtype: int64"
      ]
     },
     "execution_count": 15,
     "metadata": {},
     "output_type": "execute_result"
    }
   ],
   "source": [
    "# 1. Analysing Lead Origin feature\n",
    "\n",
    "leads['Lead Origin'].value_counts(dropna=False)"
   ]
  },
  {
   "cell_type": "code",
   "execution_count": 16,
   "id": "314ad7d9",
   "metadata": {},
   "outputs": [
    {
     "data": {
      "image/png": "[encoded data removed]",
      "text/plain": [
       "<Figure size 720x576 with 1 Axes>"
      ]
     },
     "metadata": {
      "needs_background": "light"
     },
     "output_type": "display_data"
    }
   ],
   "source": [
    "plt.figure(figsize=(10,8))\n",
    "sns.countplot(leads['Lead Origin'], hue=leads['Converted'])\n",
    "plt.xticks(rotation=90)\n",
    "plt.title('Lead Origin countplot')\n",
    "plt.show()"
   ]
  },
  {
   "cell_type": "markdown",
   "id": "b318e71b",
   "metadata": {},
   "source": [
    "<div class=\"alert-info\">\n",
    "    \n",
    "From the above graph, we can see that\n",
    "- Lead import and Quick Add Form brought very few leads\n",
    "- API and Landing Page Submission brought more number of leads and conversions are also more. However, conversions for these two Lead Origin can be improved\n",
    "- Lead Add Form has very high conversion rate but count of leads is less. \n",
    " </div>"
   ]
  },
  {
   "cell_type": "code",
   "execution_count": 17,
   "id": "f3be30f2",
   "metadata": {},
   "outputs": [
    {
     "data": {
      "text/plain": [
       "Google               2868\n",
       "Direct Traffic       2543\n",
       "Olark Chat           1755\n",
       "Organic Search       1154\n",
       "Reference             534\n",
       "Welingak Website      142\n",
       "Referral Sites        125\n",
       "Facebook               55\n",
       "NaN                    36\n",
       "bing                    6\n",
       "google                  5\n",
       "Click2call              4\n",
       "Press_Release           2\n",
       "Social Media            2\n",
       "Live Chat               2\n",
       "youtubechannel          1\n",
       "testone                 1\n",
       "Pay per Click Ads       1\n",
       "welearnblog_Home        1\n",
       "WeLearn                 1\n",
       "blog                    1\n",
       "NC_EDM                  1\n",
       "Name: Lead Source, dtype: int64"
      ]
     },
     "execution_count": 17,
     "metadata": {},
     "output_type": "execute_result"
    }
   ],
   "source": [
    "# 2.Analysing Lead Source feature\n",
    "\n",
    "leads['Lead Source'].value_counts(dropna=False)"
   ]
  },
  {
   "cell_type": "code",
   "execution_count": 18,
   "id": "b916a751",
   "metadata": {},
   "outputs": [
    {
     "data": {
      "text/plain": [
       "Google              2873\n",
       "Direct Traffic      2543\n",
       "Olark Chat          1755\n",
       "Organic Search      1154\n",
       "Reference            534\n",
       "Welingak Website     142\n",
       "Referral Sites       125\n",
       "Facebook              57\n",
       "Others                57\n",
       "Name: Lead Source, dtype: int64"
      ]
     },
     "execution_count": 18,
     "metadata": {},
     "output_type": "execute_result"
    }
   ],
   "source": [
    "#combining Spell mistake ,missing values and low frequency values into others category\n",
    "\n",
    "leads['Lead Source'] = leads['Lead Source'].replace('google','Google')\n",
    "leads['Lead Source'] = leads['Lead Source'].replace('Social Media', 'Facebook')\n",
    "leads['Lead Source'] = leads['Lead Source'].replace(np.nan,'Others')\n",
    "leads['Lead Source'] = leads['Lead Source'].replace(['bing', 'Click2call','Press_Release', 'Live Chat', 'youtubechannel', 'testone', 'Pay per Click Ads', 'welearnblog_Home', 'WeLearn', 'blog', 'NC_EDM'], 'Others')\n",
    "\n",
    "leads['Lead Source'].value_counts(dropna=False)"
   ]
  },
  {
   "cell_type": "code",
   "execution_count": 19,
   "id": "63876391",
   "metadata": {},
   "outputs": [
    {
     "data": {
      "image/png": "[encoded data removed]",
      "text/plain": [
       "<Figure size 720x576 with 1 Axes>"
      ]
     },
     "metadata": {
      "needs_background": "light"
     },
     "output_type": "display_data"
    }
   ],
   "source": [
    "plt.figure(figsize=(10,8))\n",
    "sns.countplot(leads['Lead Source'], hue=leads['Converted'])\n",
    "plt.xticks(rotation=90)\n",
    "plt.title('Lead Source countplot')\n",
    "plt.show()"
   ]
  },
  {
   "cell_type": "markdown",
   "id": "07ba8dcb",
   "metadata": {},
   "source": [
    "<div class=\"alert-info\">\n",
    "    \n",
    "From the above graph, we can see that\n",
    "- Conversion rate is higher for Reference and Welingak Website\n",
    "- High number of leads received through Direct Traffic, Google and Olark Chat\n",
    "- Focus should be on getting more leads through Reference and Welingak Website, and improving conversion rate for Direct Traffic, Google, Organic Search and Olark Chat\n",
    "    <div class=\"alert-info\">"
   ]
  },
  {
   "cell_type": "code",
   "execution_count": 20,
   "id": "0cb8e861",
   "metadata": {},
   "outputs": [
    {
     "data": {
      "text/plain": [
       "No     8506\n",
       "Yes     734\n",
       "Name: Do Not Email, dtype: int64"
      ]
     },
     "execution_count": 20,
     "metadata": {},
     "output_type": "execute_result"
    }
   ],
   "source": [
    "#3.lets analyse `Do Not Email` and 'Do Not Call' features\n",
    "\n",
    "leads['Do Not Email'].value_counts()"
   ]
  },
  {
   "cell_type": "code",
   "execution_count": 21,
   "id": "aaa86719",
   "metadata": {},
   "outputs": [
    {
     "data": {
      "text/plain": [
       "No     9238\n",
       "Yes       2\n",
       "Name: Do Not Call, dtype: int64"
      ]
     },
     "execution_count": 21,
     "metadata": {},
     "output_type": "execute_result"
    }
   ],
   "source": [
    "leads['Do Not Call'].value_counts()"
   ]
  },
  {
   "cell_type": "code",
   "execution_count": 22,
   "id": "845a4099",
   "metadata": {},
   "outputs": [
    {
     "data": {
      "text/html": [
       "<div>\n",
       "<style scoped>\n",
       "    .dataframe tbody tr th:only-of-type {\n",
       "        vertical-align: middle;\n",
       "    }\n",
       "\n",
       "    .dataframe tbody tr th {\n",
       "        vertical-align: top;\n",
       "    }\n",
       "\n",
       "    .dataframe thead th {\n",
       "        text-align: right;\n",
       "    }\n",
       "</style>\n",
       "<table border=\"1\" class=\"dataframe\">\n",
       "  <thead>\n",
       "    <tr style=\"text-align: right;\">\n",
       "      <th></th>\n",
       "      <th>Lead Number</th>\n",
       "      <th>Lead Origin</th>\n",
       "      <th>Lead Source</th>\n",
       "      <th>Do Not Email</th>\n",
       "      <th>Converted</th>\n",
       "      <th>TotalVisits</th>\n",
       "      <th>Total Time Spent on Website</th>\n",
       "      <th>Page Views Per Visit</th>\n",
       "      <th>Last Activity</th>\n",
       "      <th>Country</th>\n",
       "      <th>...</th>\n",
       "      <th>Digital Advertisement</th>\n",
       "      <th>Through Recommendations</th>\n",
       "      <th>Receive More Updates About Our Courses</th>\n",
       "      <th>Tags</th>\n",
       "      <th>Update me on Supply Chain Content</th>\n",
       "      <th>Get updates on DM Content</th>\n",
       "      <th>City</th>\n",
       "      <th>I agree to pay the amount through cheque</th>\n",
       "      <th>A free copy of Mastering The Interview</th>\n",
       "      <th>Last Notable Activity</th>\n",
       "    </tr>\n",
       "  </thead>\n",
       "  <tbody>\n",
       "    <tr>\n",
       "      <th>0</th>\n",
       "      <td>660737</td>\n",
       "      <td>API</td>\n",
       "      <td>Olark Chat</td>\n",
       "      <td>No</td>\n",
       "      <td>0</td>\n",
       "      <td>0.0</td>\n",
       "      <td>0</td>\n",
       "      <td>0.0</td>\n",
       "      <td>Page Visited on Website</td>\n",
       "      <td>NaN</td>\n",
       "      <td>...</td>\n",
       "      <td>No</td>\n",
       "      <td>No</td>\n",
       "      <td>No</td>\n",
       "      <td>Interested in other courses</td>\n",
       "      <td>No</td>\n",
       "      <td>No</td>\n",
       "      <td>NaN</td>\n",
       "      <td>No</td>\n",
       "      <td>No</td>\n",
       "      <td>Modified</td>\n",
       "    </tr>\n",
       "    <tr>\n",
       "      <th>1</th>\n",
       "      <td>660728</td>\n",
       "      <td>API</td>\n",
       "      <td>Organic Search</td>\n",
       "      <td>No</td>\n",
       "      <td>0</td>\n",
       "      <td>5.0</td>\n",
       "      <td>674</td>\n",
       "      <td>2.5</td>\n",
       "      <td>Email Opened</td>\n",
       "      <td>India</td>\n",
       "      <td>...</td>\n",
       "      <td>No</td>\n",
       "      <td>No</td>\n",
       "      <td>No</td>\n",
       "      <td>Ringing</td>\n",
       "      <td>No</td>\n",
       "      <td>No</td>\n",
       "      <td>NaN</td>\n",
       "      <td>No</td>\n",
       "      <td>No</td>\n",
       "      <td>Email Opened</td>\n",
       "    </tr>\n",
       "  </tbody>\n",
       "</table>\n",
       "<p>2 rows × 28 columns</p>\n",
       "</div>"
      ],
      "text/plain": [
       "   Lead Number Lead Origin     Lead Source Do Not Email  Converted  \\\n",
       "0       660737         API      Olark Chat           No          0   \n",
       "1       660728         API  Organic Search           No          0   \n",
       "\n",
       "   TotalVisits  Total Time Spent on Website  Page Views Per Visit  \\\n",
       "0          0.0                            0                   0.0   \n",
       "1          5.0                          674                   2.5   \n",
       "\n",
       "             Last Activity Country  ... Digital Advertisement  \\\n",
       "0  Page Visited on Website     NaN  ...                    No   \n",
       "1             Email Opened   India  ...                    No   \n",
       "\n",
       "  Through Recommendations Receive More Updates About Our Courses  \\\n",
       "0                      No                                     No   \n",
       "1                      No                                     No   \n",
       "\n",
       "                          Tags Update me on Supply Chain Content  \\\n",
       "0  Interested in other courses                                No   \n",
       "1                      Ringing                                No   \n",
       "\n",
       "  Get updates on DM Content City I agree to pay the amount through cheque  \\\n",
       "0                        No  NaN                                       No   \n",
       "1                        No  NaN                                       No   \n",
       "\n",
       "  A free copy of Mastering The Interview Last Notable Activity  \n",
       "0                                     No              Modified  \n",
       "1                                     No          Email Opened  \n",
       "\n",
       "[2 rows x 28 columns]"
      ]
     },
     "execution_count": 22,
     "metadata": {},
     "output_type": "execute_result"
    }
   ],
   "source": [
    "#`Do Not Call` feature contains only 2 Yes's, hence we can delete this column\n",
    "leads.drop('Do Not Call', 1, inplace=True)\n",
    "leads.head(2)"
   ]
  },
  {
   "cell_type": "code",
   "execution_count": 23,
   "id": "7f6cde7a",
   "metadata": {},
   "outputs": [
    {
     "data": {
      "image/png": "[encoded data removed]",
      "text/plain": [
       "<Figure size 432x288 with 1 Axes>"
      ]
     },
     "metadata": {
      "needs_background": "light"
     },
     "output_type": "display_data"
    }
   ],
   "source": [
    "#4.lets analyze TotalVisits numerical column\n",
    "\n",
    "sns.boxplot(leads['TotalVisits'])\n",
    "plt.show()"
   ]
  },
  {
   "cell_type": "code",
   "execution_count": 24,
   "id": "8763bc22",
   "metadata": {},
   "outputs": [
    {
     "data": {
      "text/plain": [
       "0.00      0.0\n",
       "0.25      1.0\n",
       "0.50      3.0\n",
       "0.75      5.0\n",
       "0.90      7.0\n",
       "0.95     10.0\n",
       "0.99     17.0\n",
       "1.00    251.0\n",
       "Name: TotalVisits, dtype: float64"
      ]
     },
     "execution_count": 24,
     "metadata": {},
     "output_type": "execute_result"
    }
   ],
   "source": [
    "#From the above graph, we can see that there are outliers in TotalVisits column.\n",
    "\n",
    "leads['TotalVisits'].quantile([0, 0.25, 0.5, 0.75, 0.9, 0.95, 0.99, 1])"
   ]
  },
  {
   "cell_type": "code",
   "execution_count": 25,
   "id": "a9bee169",
   "metadata": {},
   "outputs": [
    {
     "data": {
      "image/png": "[encoded data removed]",
      "text/plain": [
       "<Figure size 1080x504 with 2 Axes>"
      ]
     },
     "metadata": {
      "needs_background": "light"
     },
     "output_type": "display_data"
    }
   ],
   "source": [
    "#As there are having higher values in TotalVisits column above 0.99 and will remove them as part of outlier treatment\n",
    "leads = leads[leads['TotalVisits'] <= leads['TotalVisits'].quantile(0.99)]\n",
    "\n",
    "plt.figure(figsize=(15,7))\n",
    "\n",
    "plt.subplot(1,2,1)\n",
    "sns.boxplot(y=leads['TotalVisits'])\n",
    "\n",
    "plt.subplot(1,2,2)\n",
    "sns.boxplot(data=leads, x='Converted', y='TotalVisits')\n",
    "\n",
    "plt.show()"
   ]
  },
  {
   "cell_type": "markdown",
   "id": "55841636",
   "metadata": {},
   "source": [
    "<div class=\"alert-info\">\n",
    "Major outliers treatment done and medians are at same level as observed above .\n",
    "    <div class=\"alert-info\">"
   ]
  },
  {
   "cell_type": "code",
   "execution_count": 26,
   "id": "44cfd266",
   "metadata": {},
   "outputs": [
    {
     "data": {
      "image/png": "[encoded data removed]",
      "text/plain": [
       "<Figure size 1080x504 with 2 Axes>"
      ]
     },
     "metadata": {
      "needs_background": "light"
     },
     "output_type": "display_data"
    }
   ],
   "source": [
    "#5. lets analyse 'Total Time Spent on Website' numerical column\n",
    "\n",
    "plt.figure(figsize=(15,7))\n",
    "\n",
    "plt.subplot(1,2,1)\n",
    "sns.boxplot(y=leads['Total Time Spent on Website'])\n",
    "\n",
    "plt.subplot(1,2,2)\n",
    "sns.boxplot(data=leads, x= 'Converted' , y='Total Time Spent on Website')\n",
    "plt.show()"
   ]
  },
  {
   "cell_type": "markdown",
   "id": "9cb877d5",
   "metadata": {},
   "source": [
    "<div class=\"alert-info\">\n",
    "There is no any potential outliers observed for outlier treatment .\n",
    "    <div class=\"alert-info\">"
   ]
  },
  {
   "cell_type": "code",
   "execution_count": 27,
   "id": "928dc370",
   "metadata": {},
   "outputs": [
    {
     "data": {
      "image/png": "[encoded data removed]",
      "text/plain": [
       "<Figure size 864x360 with 2 Axes>"
      ]
     },
     "metadata": {
      "needs_background": "light"
     },
     "output_type": "display_data"
    }
   ],
   "source": [
    "#6.lets analyse 'Page Views Per Visit' column\n",
    "plt.figure(figsize=(12,5))\n",
    "\n",
    "plt.subplot(1,2,1)\n",
    "sns.boxplot(y=leads['Page Views Per Visit'])\n",
    "\n",
    "plt.subplot(1,2,2)\n",
    "sns.boxplot(data=leads, x='Converted', y='Page Views Per Visit')\n",
    "\n",
    "plt.show()"
   ]
  },
  {
   "cell_type": "code",
   "execution_count": 28,
   "id": "4ec11c03",
   "metadata": {},
   "outputs": [
    {
     "data": {
      "text/plain": [
       "0.25     1.0\n",
       "0.50     2.0\n",
       "0.75     3.0\n",
       "0.90     5.0\n",
       "0.95     6.0\n",
       "0.99     9.0\n",
       "1.00    16.0\n",
       "Name: Page Views Per Visit, dtype: float64"
      ]
     },
     "execution_count": 28,
     "metadata": {},
     "output_type": "execute_result"
    }
   ],
   "source": [
    "leads['Page Views Per Visit'].quantile([0.25, 0.5, 0.75, 0.9, 0.95, 0.99, 1])"
   ]
  },
  {
   "cell_type": "code",
   "execution_count": 29,
   "id": "5eef1f7a",
   "metadata": {},
   "outputs": [],
   "source": [
    "#outlier treatment on 'Page Views Per Visit' column\n",
    "leads = leads[leads['Page Views Per Visit'] <= leads['Page Views Per Visit'].quantile(0.99)]"
   ]
  },
  {
   "cell_type": "code",
   "execution_count": 30,
   "id": "0ff09384",
   "metadata": {},
   "outputs": [
    {
     "data": {
      "image/png": "[encoded data removed]",
      "text/plain": [
       "<Figure size 864x360 with 2 Axes>"
      ]
     },
     "metadata": {
      "needs_background": "light"
     },
     "output_type": "display_data"
    }
   ],
   "source": [
    "plt.figure(figsize=(12,5))\n",
    "\n",
    "plt.subplot(1,2,1)\n",
    "sns.boxplot(y=leads['Page Views Per Visit'])\n",
    "\n",
    "plt.subplot(1,2,2)\n",
    "sns.boxplot(data=leads, x='Converted', y='Page Views Per Visit')\n",
    "\n",
    "plt.show()"
   ]
  },
  {
   "cell_type": "markdown",
   "id": "8864c9fa",
   "metadata": {},
   "source": [
    "<div class=\"alert-info\">\n",
    "Major outliers treatment done and medians are at same level for both as observed above .\n",
    "    <div class=\"alert-info\">"
   ]
  },
  {
   "cell_type": "code",
   "execution_count": 31,
   "id": "7e2c475a",
   "metadata": {},
   "outputs": [
    {
     "data": {
      "text/plain": [
       "Email Opened                    3390\n",
       "SMS Sent                        2700\n",
       "Olark Chat Conversation          966\n",
       "Page Visited on Website          594\n",
       "Converted to Lead                428\n",
       "Email Bounced                    310\n",
       "Email Link Clicked               264\n",
       "Form Submitted on Website        114\n",
       "Unreachable                       88\n",
       "Unsubscribed                      60\n",
       "Had a Phone Conversation          24\n",
       "Approached upfront                 5\n",
       "View in browser link Clicked       4\n",
       "Email Received                     2\n",
       "Email Marked Spam                  2\n",
       "Visited Booth in Tradeshow         1\n",
       "Resubscribed to emails             1\n",
       "Name: Last Activity, dtype: int64"
      ]
     },
     "execution_count": 31,
     "metadata": {},
     "output_type": "execute_result"
    }
   ],
   "source": [
    "leads['Last Activity'].value_counts(dropna=False)"
   ]
  },
  {
   "cell_type": "code",
   "execution_count": 32,
   "id": "de00a319",
   "metadata": {},
   "outputs": [
    {
     "data": {
      "text/plain": [
       "Email Opened                    3390\n",
       "SMS Sent                        2700\n",
       "Olark Chat Conversation          966\n",
       "Page Visited on Website          594\n",
       "Converted to Lead                428\n",
       "Email Bounced                    310\n",
       "Email Link Clicked               264\n",
       "Form Submitted on Website        114\n",
       "Unreachable                       88\n",
       "Unsubscribed                      60\n",
       "Had a Phone Conversation          24\n",
       "Approached upfront                 5\n",
       "View in browser link Clicked       4\n",
       "Email Received                     2\n",
       "Email Marked Spam                  2\n",
       "Visited Booth in Tradeshow         1\n",
       "Resubscribed to emails             1\n",
       "Name: Last Activity, dtype: int64"
      ]
     },
     "execution_count": 32,
     "metadata": {},
     "output_type": "execute_result"
    }
   ],
   "source": [
    "#7.lets analyse 'Last Activity' column\n",
    "\n",
    "leads['Last Activity'].value_counts(dropna=False)"
   ]
  },
  {
   "cell_type": "code",
   "execution_count": 33,
   "id": "3ceb0b90",
   "metadata": {},
   "outputs": [
    {
     "data": {
      "text/plain": [
       "Email Opened                 3390\n",
       "SMS Sent                     2700\n",
       "Olark Chat Conversation       966\n",
       "Page Visited on Website       594\n",
       "Converted to Lead             428\n",
       "Email Bounced                 310\n",
       "Email Link Clicked            264\n",
       "Others                        127\n",
       "Form Submitted on Website     114\n",
       "Unsubscribed                   60\n",
       "Name: Last Activity, dtype: int64"
      ]
     },
     "execution_count": 33,
     "metadata": {},
     "output_type": "execute_result"
    }
   ],
   "source": [
    "#Lets Club last activity into others where count is less than 90 to simplfy the analysis \n",
    "\n",
    "leads['Last Activity'] = leads['Last Activity'].replace(['Unreachable', 'Unreachable', 'Had a Phone Conversation', 'View in browser link Clicked', 'Approached upfront', 'Email Received', 'Email Marked Spam', 'Visited Booth in Tradeshow', 'Resubscribed to emails'],'Others')\n",
    "leads['Last Activity'].value_counts(dropna=False)"
   ]
  },
  {
   "cell_type": "code",
   "execution_count": 34,
   "id": "c1822665",
   "metadata": {},
   "outputs": [
    {
     "data": {
      "image/png": "[encoded data removed]",
      "text/plain": [
       "<Figure size 864x432 with 1 Axes>"
      ]
     },
     "metadata": {
      "needs_background": "light"
     },
     "output_type": "display_data"
    }
   ],
   "source": [
    "plt.figure(figsize=(12,6))\n",
    "sns.countplot(leads['Last Activity'], hue=leads['Converted'])\n",
    "plt.xticks(rotation=90)\n",
    "plt.show()"
   ]
  },
  {
   "cell_type": "markdown",
   "id": "2b849e63",
   "metadata": {},
   "source": [
    "<div class=\"alert-info\">\n",
    "    \n",
    "From the above graph, we can see that conversion rate is higher where Last Activity is 'SMS Sent'.\n",
    "\n",
    "Conversion rate need to be increased for all other customers majorrly for Email opened,\n"
   ]
  },
  {
   "cell_type": "code",
   "execution_count": 35,
   "id": "0676f2a1",
   "metadata": {},
   "outputs": [
    {
     "data": {
      "text/plain": [
       "India                   6347\n",
       "NaN                     2323\n",
       "United States             68\n",
       "United Arab Emirates      52\n",
       "Singapore                 24\n",
       "Saudi Arabia              21\n",
       "United Kingdom            15\n",
       "Australia                 13\n",
       "Qatar                     10\n",
       "Hong Kong                  7\n",
       "Bahrain                    7\n",
       "Oman                       6\n",
       "France                     6\n",
       "South Africa               4\n",
       "Kuwait                     4\n",
       "Germany                    4\n",
       "unknown                    4\n",
       "Nigeria                    4\n",
       "Canada                     4\n",
       "Sweden                     3\n",
       "China                      2\n",
       "Belgium                    2\n",
       "Asia/Pacific Region        2\n",
       "Uganda                     2\n",
       "Italy                      2\n",
       "Ghana                      2\n",
       "Bangladesh                 2\n",
       "Philippines                2\n",
       "Liberia                    1\n",
       "Vietnam                    1\n",
       "Denmark                    1\n",
       "Switzerland                1\n",
       "Russia                     1\n",
       "Netherlands                1\n",
       "Malaysia                   1\n",
       "Sri Lanka                  1\n",
       "Tanzania                   1\n",
       "Kenya                      1\n",
       "Indonesia                  1\n",
       "Name: Country, dtype: int64"
      ]
     },
     "execution_count": 35,
     "metadata": {},
     "output_type": "execute_result"
    }
   ],
   "source": [
    "#8.lets analyse country column\n",
    "leads['Country'].value_counts(dropna=False)"
   ]
  },
  {
   "cell_type": "code",
   "execution_count": 36,
   "id": "458fb57b",
   "metadata": {},
   "outputs": [
    {
     "data": {
      "text/html": [
       "<div>\n",
       "<style scoped>\n",
       "    .dataframe tbody tr th:only-of-type {\n",
       "        vertical-align: middle;\n",
       "    }\n",
       "\n",
       "    .dataframe tbody tr th {\n",
       "        vertical-align: top;\n",
       "    }\n",
       "\n",
       "    .dataframe thead th {\n",
       "        text-align: right;\n",
       "    }\n",
       "</style>\n",
       "<table border=\"1\" class=\"dataframe\">\n",
       "  <thead>\n",
       "    <tr style=\"text-align: right;\">\n",
       "      <th></th>\n",
       "      <th>Lead Number</th>\n",
       "      <th>Lead Origin</th>\n",
       "      <th>Lead Source</th>\n",
       "      <th>Do Not Email</th>\n",
       "      <th>Converted</th>\n",
       "      <th>TotalVisits</th>\n",
       "      <th>Total Time Spent on Website</th>\n",
       "      <th>Page Views Per Visit</th>\n",
       "      <th>Last Activity</th>\n",
       "      <th>Specialization</th>\n",
       "      <th>...</th>\n",
       "      <th>Digital Advertisement</th>\n",
       "      <th>Through Recommendations</th>\n",
       "      <th>Receive More Updates About Our Courses</th>\n",
       "      <th>Tags</th>\n",
       "      <th>Update me on Supply Chain Content</th>\n",
       "      <th>Get updates on DM Content</th>\n",
       "      <th>City</th>\n",
       "      <th>I agree to pay the amount through cheque</th>\n",
       "      <th>A free copy of Mastering The Interview</th>\n",
       "      <th>Last Notable Activity</th>\n",
       "    </tr>\n",
       "  </thead>\n",
       "  <tbody>\n",
       "    <tr>\n",
       "      <th>0</th>\n",
       "      <td>660737</td>\n",
       "      <td>API</td>\n",
       "      <td>Olark Chat</td>\n",
       "      <td>No</td>\n",
       "      <td>0</td>\n",
       "      <td>0.0</td>\n",
       "      <td>0</td>\n",
       "      <td>0.0</td>\n",
       "      <td>Page Visited on Website</td>\n",
       "      <td>NaN</td>\n",
       "      <td>...</td>\n",
       "      <td>No</td>\n",
       "      <td>No</td>\n",
       "      <td>No</td>\n",
       "      <td>Interested in other courses</td>\n",
       "      <td>No</td>\n",
       "      <td>No</td>\n",
       "      <td>NaN</td>\n",
       "      <td>No</td>\n",
       "      <td>No</td>\n",
       "      <td>Modified</td>\n",
       "    </tr>\n",
       "    <tr>\n",
       "      <th>1</th>\n",
       "      <td>660728</td>\n",
       "      <td>API</td>\n",
       "      <td>Organic Search</td>\n",
       "      <td>No</td>\n",
       "      <td>0</td>\n",
       "      <td>5.0</td>\n",
       "      <td>674</td>\n",
       "      <td>2.5</td>\n",
       "      <td>Email Opened</td>\n",
       "      <td>NaN</td>\n",
       "      <td>...</td>\n",
       "      <td>No</td>\n",
       "      <td>No</td>\n",
       "      <td>No</td>\n",
       "      <td>Ringing</td>\n",
       "      <td>No</td>\n",
       "      <td>No</td>\n",
       "      <td>NaN</td>\n",
       "      <td>No</td>\n",
       "      <td>No</td>\n",
       "      <td>Email Opened</td>\n",
       "    </tr>\n",
       "  </tbody>\n",
       "</table>\n",
       "<p>2 rows × 27 columns</p>\n",
       "</div>"
      ],
      "text/plain": [
       "   Lead Number Lead Origin     Lead Source Do Not Email  Converted  \\\n",
       "0       660737         API      Olark Chat           No          0   \n",
       "1       660728         API  Organic Search           No          0   \n",
       "\n",
       "   TotalVisits  Total Time Spent on Website  Page Views Per Visit  \\\n",
       "0          0.0                            0                   0.0   \n",
       "1          5.0                          674                   2.5   \n",
       "\n",
       "             Last Activity Specialization  ... Digital Advertisement  \\\n",
       "0  Page Visited on Website            NaN  ...                    No   \n",
       "1             Email Opened            NaN  ...                    No   \n",
       "\n",
       "  Through Recommendations Receive More Updates About Our Courses  \\\n",
       "0                      No                                     No   \n",
       "1                      No                                     No   \n",
       "\n",
       "                          Tags Update me on Supply Chain Content  \\\n",
       "0  Interested in other courses                                No   \n",
       "1                      Ringing                                No   \n",
       "\n",
       "  Get updates on DM Content City I agree to pay the amount through cheque  \\\n",
       "0                        No  NaN                                       No   \n",
       "1                        No  NaN                                       No   \n",
       "\n",
       "  A free copy of Mastering The Interview Last Notable Activity  \n",
       "0                                     No              Modified  \n",
       "1                                     No          Email Opened  \n",
       "\n",
       "[2 rows x 27 columns]"
      ]
     },
     "execution_count": 36,
     "metadata": {},
     "output_type": "execute_result"
    }
   ],
   "source": [
    "#We can see that most of the rows contain value as India and unknown. this value is not changing for many records, hence it can be dropped\n",
    "\n",
    "leads.drop('Country',1,inplace=True)\n",
    "\n",
    "leads.head(2)"
   ]
  },
  {
   "cell_type": "code",
   "execution_count": 37,
   "id": "e8a456d8",
   "metadata": {},
   "outputs": [
    {
     "data": {
      "text/plain": [
       "NaN                                  3284\n",
       "Finance Management                    945\n",
       "Human Resource Management             820\n",
       "Marketing Management                  815\n",
       "Operations Management                 495\n",
       "Business Administration               390\n",
       "IT Projects Management                360\n",
       "Supply Chain Management               338\n",
       "Banking, Investment And Insurance     325\n",
       "Media and Advertising                 197\n",
       "Travel and Tourism                    189\n",
       "International Business                171\n",
       "Healthcare Management                 151\n",
       "E-COMMERCE                            107\n",
       "Hospitality Management                107\n",
       "Retail Management                      95\n",
       "Rural and Agribusiness                 70\n",
       "E-Business                             56\n",
       "Services Excellence                    38\n",
       "Name: Specialization, dtype: int64"
      ]
     },
     "execution_count": 37,
     "metadata": {},
     "output_type": "execute_result"
    }
   ],
   "source": [
    "#9.Lets analyse Specialization column\n",
    "\n",
    "leads['Specialization'].value_counts(dropna=False)"
   ]
  },
  {
   "cell_type": "code",
   "execution_count": 38,
   "id": "762cce54",
   "metadata": {},
   "outputs": [
    {
     "data": {
      "text/plain": [
       "Other Specialization                 3284\n",
       "Finance Management                    945\n",
       "Human Resource Management             820\n",
       "Marketing Management                  815\n",
       "Operations Management                 495\n",
       "Business Administration               390\n",
       "IT Projects Management                360\n",
       "Supply Chain Management               338\n",
       "Banking, Investment And Insurance     325\n",
       "Media and Advertising                 197\n",
       "Travel and Tourism                    189\n",
       "International Business                171\n",
       "Healthcare Management                 151\n",
       "E-COMMERCE                            107\n",
       "Hospitality Management                107\n",
       "Retail Management                      95\n",
       "Rural and Agribusiness                 70\n",
       "E-Business                             56\n",
       "Services Excellence                    38\n",
       "Name: Specialization, dtype: int64"
      ]
     },
     "execution_count": 38,
     "metadata": {},
     "output_type": "execute_result"
    }
   ],
   "source": [
    "#replace missing values with new category other Specialization\n",
    "leads['Specialization'] = leads['Specialization'].replace(np.nan, 'Other Specialization')\n",
    "leads['Specialization'].value_counts(dropna=False)"
   ]
  },
  {
   "cell_type": "code",
   "execution_count": 39,
   "id": "cf33827e",
   "metadata": {},
   "outputs": [
    {
     "data": {
      "image/png": "[encoded data removed]",
      "text/plain": [
       "<Figure size 864x432 with 1 Axes>"
      ]
     },
     "metadata": {
      "needs_background": "light"
     },
     "output_type": "display_data"
    }
   ],
   "source": [
    "plt.figure(figsize=(12,6))\n",
    "sns.countplot(leads['Specialization'], hue=leads['Converted'])\n",
    "plt.xticks(rotation=90)\n",
    "plt.show()"
   ]
  },
  {
   "cell_type": "code",
   "execution_count": 40,
   "id": "3a8f8746",
   "metadata": {},
   "outputs": [
    {
     "data": {
      "text/plain": [
       "Management                           4126\n",
       "Other Specialization                 3284\n",
       "Business Administration               390\n",
       "Banking, Investment And Insurance     325\n",
       "Media and Advertising                 197\n",
       "Travel and Tourism                    189\n",
       "International Business                171\n",
       "E-COMMERCE                            107\n",
       "Rural and Agribusiness                 70\n",
       "E-Business                             56\n",
       "Services Excellence                    38\n",
       "Name: Specialization, dtype: int64"
      ]
     },
     "execution_count": 40,
     "metadata": {},
     "output_type": "execute_result"
    }
   ],
   "source": [
    "# lets club all management specializations into one category as its looks similar conversion and is also a same stream .\n",
    "leads['Specialization'] = leads['Specialization'].replace(['Finance Management', 'Human Resource Management', 'Marketing Management', 'Operations Management', 'IT Projects Management', 'Supply Chain Management', 'Healthcare Management', 'Hospitality Management', 'Retail Management'], 'Management')\n",
    "\n",
    "leads['Specialization'].value_counts(dropna=False)"
   ]
  },
  {
   "cell_type": "code",
   "execution_count": 41,
   "id": "001bd680",
   "metadata": {},
   "outputs": [
    {
     "data": {
      "text/plain": [
       "Unemployed              5410\n",
       "NaN                     2643\n",
       "Working Professional     667\n",
       "Student                  204\n",
       "Other                     13\n",
       "Housewife                  9\n",
       "Businessman                7\n",
       "Name: What is your current occupation, dtype: int64"
      ]
     },
     "execution_count": 41,
     "metadata": {},
     "output_type": "execute_result"
    }
   ],
   "source": [
    "#10. lets analyse 'What is your current occupation' column\n",
    "\n",
    "leads['What is your current occupation'].value_counts(dropna=False)"
   ]
  },
  {
   "cell_type": "code",
   "execution_count": 42,
   "id": "7c019293",
   "metadata": {},
   "outputs": [
    {
     "data": {
      "text/plain": [
       "Unemployed              8053\n",
       "Working Professional     667\n",
       "Student                  204\n",
       "Other                     13\n",
       "Housewife                  9\n",
       "Businessman                7\n",
       "Name: What is your current occupation, dtype: int64"
      ]
     },
     "execution_count": 42,
     "metadata": {},
     "output_type": "execute_result"
    }
   ],
   "source": [
    "#replace missing values with mode as its more important factor for customer conversion\n",
    "\n",
    "leads['What is your current occupation'] = leads['What is your current occupation'].replace(np.nan,leads['What is your current occupation'].mode()[0])\n",
    "leads['What is your current occupation'].value_counts(dropna=False)"
   ]
  },
  {
   "cell_type": "code",
   "execution_count": 43,
   "id": "4de8d589",
   "metadata": {},
   "outputs": [
    {
     "data": {
      "image/png": "[encoded data removed]",
      "text/plain": [
       "<Figure size 432x288 with 1 Axes>"
      ]
     },
     "metadata": {
      "needs_background": "light"
     },
     "output_type": "display_data"
    }
   ],
   "source": [
    "sns.countplot(leads['What is your current occupation'], hue=leads['Converted'])\n",
    "plt.xticks(rotation=90)\n",
    "plt.show()"
   ]
  },
  {
   "cell_type": "markdown",
   "id": "44e23224",
   "metadata": {},
   "source": [
    "<div class=\"alert-info\">\n",
    "    \n",
    "-From the above graph, we can see that conversion rate is high for Working Professional.\n",
    "\n",
    "-Company received more leads from Unemployed people in terms of absolute numbers"
   ]
  },
  {
   "cell_type": "code",
   "execution_count": 44,
   "id": "8d516ec1",
   "metadata": {},
   "outputs": [
    {
     "data": {
      "text/plain": [
       "Better Career Prospects      6290\n",
       "NaN                          2661\n",
       "Flexibility & Convenience       1\n",
       "Other                           1\n",
       "Name: What matters most to you in choosing a course, dtype: int64"
      ]
     },
     "execution_count": 44,
     "metadata": {},
     "output_type": "execute_result"
    }
   ],
   "source": [
    "#11. lets analyse 'What matters most to you in choosing a course' column\n",
    "\n",
    "leads['What matters most to you in choosing a course'].value_counts(dropna=False)"
   ]
  },
  {
   "cell_type": "code",
   "execution_count": 45,
   "id": "ca25119d",
   "metadata": {},
   "outputs": [],
   "source": [
    "# There is a major misiing values and only 1 other answer to compare which will not hwlp in analysis and can be dropped \n",
    "leads.drop('What matters most to you in choosing a course',1,inplace=True)"
   ]
  },
  {
   "cell_type": "code",
   "execution_count": 46,
   "id": "260f6ffd",
   "metadata": {},
   "outputs": [
    {
     "data": {
      "text/plain": [
       "No     8940\n",
       "Yes      13\n",
       "Name: Search, dtype: int64"
      ]
     },
     "execution_count": 46,
     "metadata": {},
     "output_type": "execute_result"
    }
   ],
   "source": [
    "#12. lets analyse Search column\n",
    "leads['Search'].value_counts(dropna=False)"
   ]
  },
  {
   "cell_type": "code",
   "execution_count": 47,
   "id": "c5eea10c",
   "metadata": {},
   "outputs": [],
   "source": [
    "#From the above data, we can conclude that Search is imbalanced column, hence we can drop it\n",
    "leads.drop('Search',1,inplace=True)"
   ]
  },
  {
   "cell_type": "code",
   "execution_count": 48,
   "id": "2840743a",
   "metadata": {},
   "outputs": [
    {
     "data": {
      "text/plain": [
       "No    8953\n",
       "Name: Magazine, dtype: int64"
      ]
     },
     "execution_count": 48,
     "metadata": {},
     "output_type": "execute_result"
    }
   ],
   "source": [
    "#13. lets analyse Magazine column\n",
    "leads['Magazine'].value_counts(dropna=False)"
   ]
  },
  {
   "cell_type": "code",
   "execution_count": 49,
   "id": "a28056b4",
   "metadata": {},
   "outputs": [],
   "source": [
    "# Magazine is has only column\n",
    "leads.drop('Magazine',1,inplace=True)"
   ]
  },
  {
   "cell_type": "code",
   "execution_count": 50,
   "id": "42000656",
   "metadata": {},
   "outputs": [
    {
     "data": {
      "text/plain": [
       "No     8952\n",
       "Yes       1\n",
       "Name: Newspaper Article, dtype: int64"
      ]
     },
     "execution_count": 50,
     "metadata": {},
     "output_type": "execute_result"
    }
   ],
   "source": [
    "#14. lets analyse Newspaper Article column\n",
    "\n",
    "leads['Newspaper Article'].value_counts()"
   ]
  },
  {
   "cell_type": "code",
   "execution_count": 51,
   "id": "0e6e7472",
   "metadata": {},
   "outputs": [],
   "source": [
    "# Newspaper Article is imbalanced column\n",
    "leads.drop('Newspaper Article',1,inplace=True)"
   ]
  },
  {
   "cell_type": "code",
   "execution_count": 52,
   "id": "2408b779",
   "metadata": {},
   "outputs": [
    {
     "data": {
      "text/plain": [
       "No    8953\n",
       "Name: X Education Forums, dtype: int64"
      ]
     },
     "execution_count": 52,
     "metadata": {},
     "output_type": "execute_result"
    }
   ],
   "source": [
    "#15. lets analyse X Education Forums column\n",
    "leads['X Education Forums'].value_counts()"
   ]
  },
  {
   "cell_type": "code",
   "execution_count": 53,
   "id": "c5d7c74b",
   "metadata": {},
   "outputs": [],
   "source": [
    "# X Education Forums has only column\n",
    "leads.drop('X Education Forums',1,inplace=True)"
   ]
  },
  {
   "cell_type": "code",
   "execution_count": 54,
   "id": "0bd90c07",
   "metadata": {},
   "outputs": [
    {
     "data": {
      "text/plain": [
       "No     8952\n",
       "Yes       1\n",
       "Name: Newspaper, dtype: int64"
      ]
     },
     "execution_count": 54,
     "metadata": {},
     "output_type": "execute_result"
    }
   ],
   "source": [
    "#16. lets analyse Newspaper column\n",
    "leads['Newspaper'].value_counts(dropna=False)"
   ]
  },
  {
   "cell_type": "code",
   "execution_count": 55,
   "id": "31a806d8",
   "metadata": {},
   "outputs": [],
   "source": [
    "# Newspaper is imbalanced column\n",
    "leads.drop('Newspaper',1,inplace=True)"
   ]
  },
  {
   "cell_type": "code",
   "execution_count": 56,
   "id": "db1815dc",
   "metadata": {},
   "outputs": [
    {
     "data": {
      "text/plain": [
       "No     8950\n",
       "Yes       3\n",
       "Name: Digital Advertisement, dtype: int64"
      ]
     },
     "execution_count": 56,
     "metadata": {},
     "output_type": "execute_result"
    }
   ],
   "source": [
    "#17. lets analyse Digital Advertisement column\n",
    "leads['Digital Advertisement'].value_counts(dropna=False)"
   ]
  },
  {
   "cell_type": "code",
   "execution_count": 57,
   "id": "ea985b0d",
   "metadata": {},
   "outputs": [],
   "source": [
    "# Digital Advertisement is imbalanced column\n",
    "leads.drop('Digital Advertisement', 1, inplace=True)"
   ]
  },
  {
   "cell_type": "code",
   "execution_count": 58,
   "id": "d3ba3bca",
   "metadata": {},
   "outputs": [
    {
     "data": {
      "text/plain": [
       "No     8947\n",
       "Yes       6\n",
       "Name: Through Recommendations, dtype: int64"
      ]
     },
     "execution_count": 58,
     "metadata": {},
     "output_type": "execute_result"
    }
   ],
   "source": [
    "# 18 lets analyse Through Recommendations column\n",
    "leads['Through Recommendations'].value_counts(dropna=False)"
   ]
  },
  {
   "cell_type": "code",
   "execution_count": 59,
   "id": "1079006d",
   "metadata": {},
   "outputs": [],
   "source": [
    "# Through Recommendations is imbalanced column\n",
    "leads.drop('Through Recommendations', 1, inplace=True)"
   ]
  },
  {
   "cell_type": "code",
   "execution_count": 60,
   "id": "13413a7c",
   "metadata": {},
   "outputs": [
    {
     "data": {
      "text/plain": [
       "No    8953\n",
       "Name: Receive More Updates About Our Courses, dtype: int64"
      ]
     },
     "execution_count": 60,
     "metadata": {},
     "output_type": "execute_result"
    }
   ],
   "source": [
    "# 19 lets analyse Through Receive More Updates About Our Courses column\n",
    "\n",
    "leads['Receive More Updates About Our Courses'].value_counts(dropna=False)\n"
   ]
  },
  {
   "cell_type": "code",
   "execution_count": 61,
   "id": "1dcfce2a",
   "metadata": {},
   "outputs": [],
   "source": [
    "# Receive More Updates About Our Courses is imbalanced column\n",
    "\n",
    "leads.drop('Receive More Updates About Our Courses', 1, inplace=True)"
   ]
  },
  {
   "cell_type": "code",
   "execution_count": 62,
   "id": "aaf3b9c6",
   "metadata": {},
   "outputs": [
    {
     "data": {
      "text/plain": [
       "No    8953\n",
       "Name: Update me on Supply Chain Content, dtype: int64"
      ]
     },
     "execution_count": 62,
     "metadata": {},
     "output_type": "execute_result"
    }
   ],
   "source": [
    "# 20 lets analyse 'Update me on Supply Chain Content' column\n",
    "\n",
    "leads['Update me on Supply Chain Content'].value_counts(dropna=False)"
   ]
  },
  {
   "cell_type": "code",
   "execution_count": 63,
   "id": "724f497a",
   "metadata": {},
   "outputs": [],
   "source": [
    "# Update me on Supply Chain Content has only column\n",
    "\n",
    "leads.drop('Update me on Supply Chain Content', 1, inplace=True)"
   ]
  },
  {
   "cell_type": "code",
   "execution_count": 64,
   "id": "7ebd2c1b",
   "metadata": {},
   "outputs": [
    {
     "data": {
      "text/plain": [
       "No    8953\n",
       "Name: Get updates on DM Content, dtype: int64"
      ]
     },
     "execution_count": 64,
     "metadata": {},
     "output_type": "execute_result"
    }
   ],
   "source": [
    "#21 lets analyse 'Get updates on DM Content' column\n",
    "leads['Get updates on DM Content'].value_counts(dropna=False)"
   ]
  },
  {
   "cell_type": "code",
   "execution_count": 65,
   "id": "f7f8bf0a",
   "metadata": {},
   "outputs": [],
   "source": [
    "# Get updates on DM Content has only column\n",
    "\n",
    "leads.drop('Get updates on DM Content', 1, inplace=True)"
   ]
  },
  {
   "cell_type": "code",
   "execution_count": 66,
   "id": "47805542",
   "metadata": {},
   "outputs": [
    {
     "data": {
      "text/plain": [
       "NaN                                                  3284\n",
       "Will revert after reading the email                  2002\n",
       "Ringing                                              1162\n",
       "Interested in other courses                           505\n",
       "Already a student                                     461\n",
       "Closed by Horizzon                                    290\n",
       "switched off                                          237\n",
       "Busy                                                  183\n",
       "Lost to EINS                                          169\n",
       "Not doing further education                           137\n",
       "Interested  in full time MBA                          116\n",
       "Graduation in progress                                110\n",
       "invalid number                                         81\n",
       "Diploma holder (Not Eligible)                          63\n",
       "wrong number given                                     46\n",
       "opp hangup                                             33\n",
       "number not provided                                    26\n",
       "in touch with EINS                                     12\n",
       "Lost to Others                                          7\n",
       "Still Thinking                                          6\n",
       "In confusion whether part time or DLP                   5\n",
       "Interested in Next batch                                5\n",
       "Want to take admission but has financial problems       5\n",
       "Lateral student                                         3\n",
       "Shall take in the next coming month                     2\n",
       "University not recognized                               2\n",
       "Recognition issue (DEC approval)                        1\n",
       "Name: Tags, dtype: int64"
      ]
     },
     "execution_count": 66,
     "metadata": {},
     "output_type": "execute_result"
    }
   ],
   "source": [
    "#22 lets analyse 'Get updates on DM Content' column\n",
    "\n",
    "leads['Tags'].value_counts(dropna=False)"
   ]
  },
  {
   "cell_type": "code",
   "execution_count": 67,
   "id": "ead82ccd",
   "metadata": {},
   "outputs": [
    {
     "data": {
      "text/plain": [
       "Not mentioned                          3284\n",
       "Will revert after reading the email    2002\n",
       "Ringing                                1162\n",
       "Interested in other courses             505\n",
       "Already a student                       461\n",
       "Others                                  403\n",
       "Closed by Horizzon                      290\n",
       "switched off                            237\n",
       "Busy                                    183\n",
       "Not doing further education             137\n",
       "Interested  in full time MBA            116\n",
       "Graduation in progress                  110\n",
       "Diploma holder (Not Eligible)            63\n",
       "Name: Tags, dtype: int64"
      ]
     },
     "execution_count": 67,
     "metadata": {},
     "output_type": "execute_result"
    }
   ],
   "source": [
    "leads['Tags'] = leads['Tags'].replace(np.nan, 'Not mentioned')\n",
    "\n",
    "leads['Tags'] = leads['Tags'].replace(['Recognition issue (DEC approval)', 'University not recognized', 'Shall take in the next coming month', 'Lateral student', 'Want to take admission but has financial problems', 'Interested in Next batch', 'In confusion whether part time or DLP', 'Still Thinking', 'Lost to Others', 'in touch with EINS', 'in touch with EINS', 'number not provided', 'opp hangup', 'wrong number given','invalid number', 'Lost to EINS'], 'Others')\n",
    "\n",
    "leads['Tags'].value_counts(dropna=False)"
   ]
  },
  {
   "cell_type": "code",
   "execution_count": 68,
   "id": "2eef51eb",
   "metadata": {},
   "outputs": [
    {
     "data": {
      "image/png": "[encoded data removed]",
      "text/plain": [
       "<Figure size 864x432 with 1 Axes>"
      ]
     },
     "metadata": {
      "needs_background": "light"
     },
     "output_type": "display_data"
    }
   ],
   "source": [
    "plt.figure(figsize=(12,6))\n",
    "sns.countplot(leads['Tags'], hue=leads['Converted'])\n",
    "plt.xticks(rotation=90)\n",
    "plt.show()"
   ]
  },
  {
   "cell_type": "markdown",
   "id": "aa29e2f3",
   "metadata": {},
   "source": [
    "<div class=\"alert-info\">\n",
    "    \n",
    "- From the above graph, we can see that conversion rate is high for `Will revert after reading the email` and `Closed by Horizzon`tags\n",
    "\n",
    "- Conversion rate is very low for rows having Interested in other courses, Interested  in full time MBA and Ringing tags"
   ]
  },
  {
   "cell_type": "code",
   "execution_count": 69,
   "id": "0fa61dc5",
   "metadata": {},
   "outputs": [
    {
     "data": {
      "text/plain": [
       "NaN                            3578\n",
       "Mumbai                         3109\n",
       "Thane & Outskirts               723\n",
       "Other Cities                    669\n",
       "Other Cities of Maharashtra     438\n",
       "Other Metro Cities              364\n",
       "Tier II Cities                   72\n",
       "Name: City, dtype: int64"
      ]
     },
     "execution_count": 69,
     "metadata": {},
     "output_type": "execute_result"
    }
   ],
   "source": [
    "# 23 lets start analysing categorical variables\n",
    "\n",
    "leads['City'].value_counts(dropna=False)"
   ]
  },
  {
   "cell_type": "code",
   "execution_count": 70,
   "id": "f7779207",
   "metadata": {},
   "outputs": [
    {
     "data": {
      "text/plain": [
       "Mumbai                         6687\n",
       "Thane & Outskirts               723\n",
       "Other Cities                    669\n",
       "Other Cities of Maharashtra     438\n",
       "Other Metro Cities              364\n",
       "Tier II Cities                   72\n",
       "Name: City, dtype: int64"
      ]
     },
     "execution_count": 70,
     "metadata": {},
     "output_type": "execute_result"
    }
   ],
   "source": [
    "#lets replace missing values in City column with mode of the column as it is important column for analysis \n",
    "\n",
    "leads['City'] = leads['City'].replace(np.nan, 'Mumbai')\n",
    "leads['City'].value_counts(dropna=False)"
   ]
  },
  {
   "cell_type": "code",
   "execution_count": 71,
   "id": "2382e263",
   "metadata": {},
   "outputs": [
    {
     "data": {
      "image/png": "[encoded data removed]",
      "text/plain": [
       "<Figure size 720x576 with 1 Axes>"
      ]
     },
     "metadata": {
      "needs_background": "light"
     },
     "output_type": "display_data"
    }
   ],
   "source": [
    "plt.figure(figsize=(10,8))\n",
    "sns.countplot(leads['City'], hue=leads['Converted'])\n",
    "plt.xticks(rotation=90)\n",
    "plt.title('Citywise countplot')\n",
    "plt.show()"
   ]
  },
  {
   "cell_type": "markdown",
   "id": "3aca2c1a",
   "metadata": {},
   "source": [
    "<div class=\"alert-info\">\n",
    "    \n",
    "- From the above graph, we can see that conversion rate is low for all the cities and need to be improved"
   ]
  },
  {
   "cell_type": "code",
   "execution_count": 72,
   "id": "99ed2033",
   "metadata": {},
   "outputs": [
    {
     "data": {
      "text/plain": [
       "No    8953\n",
       "Name: I agree to pay the amount through cheque, dtype: int64"
      ]
     },
     "execution_count": 72,
     "metadata": {},
     "output_type": "execute_result"
    }
   ],
   "source": [
    "#24 lets analyse 'I agree to pay the amount through cheque' column\n",
    "\n",
    "leads['I agree to pay the amount through cheque'].value_counts(dropna=False)"
   ]
  },
  {
   "cell_type": "code",
   "execution_count": 73,
   "id": "58f64448",
   "metadata": {},
   "outputs": [],
   "source": [
    "# I agree to pay the amount through cheque has only column\n",
    "leads.drop('I agree to pay the amount through cheque', 1, inplace=True)"
   ]
  },
  {
   "cell_type": "code",
   "execution_count": 74,
   "id": "6e6aafd1",
   "metadata": {},
   "outputs": [
    {
     "data": {
      "text/plain": [
       "No     6155\n",
       "Yes    2798\n",
       "Name: A free copy of Mastering The Interview, dtype: int64"
      ]
     },
     "execution_count": 74,
     "metadata": {},
     "output_type": "execute_result"
    }
   ],
   "source": [
    "#25 lets analyse 'A free copy of Mastering The Interview' column\n",
    "\n",
    "leads['A free copy of Mastering The Interview'].value_counts(dropna=False)"
   ]
  },
  {
   "cell_type": "code",
   "execution_count": 75,
   "id": "4bf5b5e1",
   "metadata": {},
   "outputs": [
    {
     "data": {
      "image/png": "[encoded data removed]",
      "text/plain": [
       "<Figure size 432x288 with 1 Axes>"
      ]
     },
     "metadata": {
      "needs_background": "light"
     },
     "output_type": "display_data"
    }
   ],
   "source": [
    "sns.countplot(leads['A free copy of Mastering The Interview'], hue=leads['Converted'])\n",
    "plt.show()"
   ]
  },
  {
   "cell_type": "markdown",
   "id": "d3edf713",
   "metadata": {},
   "source": [
    "<div class=\"alert-info\">\n",
    "Similar trend for converted and non-converted customers"
   ]
  },
  {
   "cell_type": "code",
   "execution_count": 76,
   "id": "bdca14f7",
   "metadata": {},
   "outputs": [
    {
     "data": {
      "text/plain": [
       "Modified                        3224\n",
       "Email Opened                    2789\n",
       "SMS Sent                        2143\n",
       "Page Visited on Website          288\n",
       "Olark Chat Conversation          182\n",
       "Email Link Clicked               170\n",
       "Email Bounced                     59\n",
       "Unsubscribed                      46\n",
       "Unreachable                       32\n",
       "Had a Phone Conversation          13\n",
       "Email Marked Spam                  2\n",
       "Approached upfront                 1\n",
       "Resubscribed to emails             1\n",
       "View in browser link Clicked       1\n",
       "Form Submitted on Website          1\n",
       "Email Received                     1\n",
       "Name: Last Notable Activity, dtype: int64"
      ]
     },
     "execution_count": 76,
     "metadata": {},
     "output_type": "execute_result"
    }
   ],
   "source": [
    "#26 lets analyse 'Last Notable Activity' column\n",
    "\n",
    "leads['Last Notable Activity'].value_counts(dropna=False)"
   ]
  },
  {
   "cell_type": "code",
   "execution_count": 77,
   "id": "cc1e9ce0",
   "metadata": {},
   "outputs": [
    {
     "data": {
      "text/plain": [
       "Modified                   3224\n",
       "Email Opened               2789\n",
       "SMS Sent                   2143\n",
       "Page Visited on Website     288\n",
       "Olark Chat Conversation     182\n",
       "Email Link Clicked          170\n",
       "Email Bounced                59\n",
       "Others                       52\n",
       "Unsubscribed                 46\n",
       "Name: Last Notable Activity, dtype: int64"
      ]
     },
     "execution_count": 77,
     "metadata": {},
     "output_type": "execute_result"
    }
   ],
   "source": [
    "#27 lets club low frequency categories into others for better analysis\n",
    "\n",
    "leads['Last Notable Activity'] = leads['Last Notable Activity'].replace(['Unreachable', 'Had a Phone Conversation', 'Email Marked Spam', 'Email Marked Spam', 'Approached upfront', 'Resubscribed to emails', 'View in browser link Clicked', 'Form Submitted on Website', 'Email Received'], 'Others')\n",
    "\n",
    "leads['Last Notable Activity'].value_counts(dropna=False)"
   ]
  },
  {
   "cell_type": "code",
   "execution_count": 78,
   "id": "fe444c31",
   "metadata": {},
   "outputs": [
    {
     "data": {
      "image/png": "[encoded data removed]",
      "text/plain": [
       "<Figure size 864x432 with 1 Axes>"
      ]
     },
     "metadata": {
      "needs_background": "light"
     },
     "output_type": "display_data"
    }
   ],
   "source": [
    "plt.figure(figsize=(12,6))\n",
    "sns.countplot(leads['Last Notable Activity'], hue=leads['Converted'])\n",
    "plt.xticks(rotation=90)\n",
    "plt.show()"
   ]
  },
  {
   "cell_type": "markdown",
   "id": "0c7feeec",
   "metadata": {},
   "source": [
    "<div class=\"alert-info\">\n",
    "    \n",
    "-we can see that conversion rate is high again where Last notable activity is 'SMS Sent' .\n",
    "    \n",
    "-conversion rate is low where activity is 'Modified', 'Olark Chat Conersation' or 'Email Opened'."
   ]
  },
  {
   "cell_type": "markdown",
   "id": "5662d661",
   "metadata": {},
   "source": [
    "### CORRELATION CHECK"
   ]
  },
  {
   "cell_type": "code",
   "execution_count": 79,
   "id": "987c6e2e",
   "metadata": {},
   "outputs": [
    {
     "data": {
      "image/png": "[encoded data removed]",
      "text/plain": [
       "<Figure size 432x288 with 2 Axes>"
      ]
     },
     "metadata": {
      "needs_background": "light"
     },
     "output_type": "display_data"
    }
   ],
   "source": [
    "#lets analyse correlation using heatmap\n",
    "sns.heatmap(leads.corr(), annot=True, cmap='Reds')\n",
    "plt.show()"
   ]
  },
  {
   "cell_type": "markdown",
   "id": "607215a9",
   "metadata": {},
   "source": [
    "<div class=\"alert-info\">\n",
    "\n",
    "Heatmap shows that `Page Views Per Visit` is highly correlated with `TotalVisits`."
   ]
  },
  {
   "cell_type": "code",
   "execution_count": 80,
   "id": "ae2f6fe4",
   "metadata": {},
   "outputs": [
    {
     "name": "stdout",
     "output_type": "stream",
     "text": [
      "<class 'pandas.core.frame.DataFrame'>\n",
      "Int64Index: 8953 entries, 0 to 9239\n",
      "Data columns (total 15 columns):\n",
      " #   Column                                  Non-Null Count  Dtype  \n",
      "---  ------                                  --------------  -----  \n",
      " 0   Lead Number                             8953 non-null   int64  \n",
      " 1   Lead Origin                             8953 non-null   object \n",
      " 2   Lead Source                             8953 non-null   object \n",
      " 3   Do Not Email                            8953 non-null   object \n",
      " 4   Converted                               8953 non-null   int64  \n",
      " 5   TotalVisits                             8953 non-null   float64\n",
      " 6   Total Time Spent on Website             8953 non-null   int64  \n",
      " 7   Page Views Per Visit                    8953 non-null   float64\n",
      " 8   Last Activity                           8953 non-null   object \n",
      " 9   Specialization                          8953 non-null   object \n",
      " 10  What is your current occupation         8953 non-null   object \n",
      " 11  Tags                                    8953 non-null   object \n",
      " 12  City                                    8953 non-null   object \n",
      " 13  A free copy of Mastering The Interview  8953 non-null   object \n",
      " 14  Last Notable Activity                   8953 non-null   object \n",
      "dtypes: float64(2), int64(3), object(10)\n",
      "memory usage: 1.1+ MB\n"
     ]
    }
   ],
   "source": [
    "#Recheck for missing values\n",
    "leads.info()"
   ]
  },
  {
   "cell_type": "markdown",
   "id": "2dc6a60c",
   "metadata": {},
   "source": [
    "## BINARY CONVERSION OF COLUMNS "
   ]
  },
  {
   "cell_type": "code",
   "execution_count": 81,
   "id": "43d15c87",
   "metadata": {},
   "outputs": [
    {
     "data": {
      "text/html": [
       "<div>\n",
       "<style scoped>\n",
       "    .dataframe tbody tr th:only-of-type {\n",
       "        vertical-align: middle;\n",
       "    }\n",
       "\n",
       "    .dataframe tbody tr th {\n",
       "        vertical-align: top;\n",
       "    }\n",
       "\n",
       "    .dataframe thead th {\n",
       "        text-align: right;\n",
       "    }\n",
       "</style>\n",
       "<table border=\"1\" class=\"dataframe\">\n",
       "  <thead>\n",
       "    <tr style=\"text-align: right;\">\n",
       "      <th></th>\n",
       "      <th>Lead Number</th>\n",
       "      <th>Lead Origin</th>\n",
       "      <th>Lead Source</th>\n",
       "      <th>Do Not Email</th>\n",
       "      <th>Converted</th>\n",
       "      <th>TotalVisits</th>\n",
       "      <th>Total Time Spent on Website</th>\n",
       "      <th>Page Views Per Visit</th>\n",
       "      <th>Last Activity</th>\n",
       "      <th>Specialization</th>\n",
       "      <th>What is your current occupation</th>\n",
       "      <th>Tags</th>\n",
       "      <th>City</th>\n",
       "      <th>A free copy of Mastering The Interview</th>\n",
       "      <th>Last Notable Activity</th>\n",
       "    </tr>\n",
       "  </thead>\n",
       "  <tbody>\n",
       "    <tr>\n",
       "      <th>0</th>\n",
       "      <td>660737</td>\n",
       "      <td>API</td>\n",
       "      <td>Olark Chat</td>\n",
       "      <td>No</td>\n",
       "      <td>0</td>\n",
       "      <td>0.0</td>\n",
       "      <td>0</td>\n",
       "      <td>0.0</td>\n",
       "      <td>Page Visited on Website</td>\n",
       "      <td>Other Specialization</td>\n",
       "      <td>Unemployed</td>\n",
       "      <td>Interested in other courses</td>\n",
       "      <td>Mumbai</td>\n",
       "      <td>No</td>\n",
       "      <td>Modified</td>\n",
       "    </tr>\n",
       "    <tr>\n",
       "      <th>1</th>\n",
       "      <td>660728</td>\n",
       "      <td>API</td>\n",
       "      <td>Organic Search</td>\n",
       "      <td>No</td>\n",
       "      <td>0</td>\n",
       "      <td>5.0</td>\n",
       "      <td>674</td>\n",
       "      <td>2.5</td>\n",
       "      <td>Email Opened</td>\n",
       "      <td>Other Specialization</td>\n",
       "      <td>Unemployed</td>\n",
       "      <td>Ringing</td>\n",
       "      <td>Mumbai</td>\n",
       "      <td>No</td>\n",
       "      <td>Email Opened</td>\n",
       "    </tr>\n",
       "    <tr>\n",
       "      <th>2</th>\n",
       "      <td>660727</td>\n",
       "      <td>Landing Page Submission</td>\n",
       "      <td>Direct Traffic</td>\n",
       "      <td>No</td>\n",
       "      <td>1</td>\n",
       "      <td>2.0</td>\n",
       "      <td>1532</td>\n",
       "      <td>2.0</td>\n",
       "      <td>Email Opened</td>\n",
       "      <td>Business Administration</td>\n",
       "      <td>Student</td>\n",
       "      <td>Will revert after reading the email</td>\n",
       "      <td>Mumbai</td>\n",
       "      <td>Yes</td>\n",
       "      <td>Email Opened</td>\n",
       "    </tr>\n",
       "    <tr>\n",
       "      <th>3</th>\n",
       "      <td>660719</td>\n",
       "      <td>Landing Page Submission</td>\n",
       "      <td>Direct Traffic</td>\n",
       "      <td>No</td>\n",
       "      <td>0</td>\n",
       "      <td>1.0</td>\n",
       "      <td>305</td>\n",
       "      <td>1.0</td>\n",
       "      <td>Others</td>\n",
       "      <td>Media and Advertising</td>\n",
       "      <td>Unemployed</td>\n",
       "      <td>Ringing</td>\n",
       "      <td>Mumbai</td>\n",
       "      <td>No</td>\n",
       "      <td>Modified</td>\n",
       "    </tr>\n",
       "    <tr>\n",
       "      <th>4</th>\n",
       "      <td>660681</td>\n",
       "      <td>Landing Page Submission</td>\n",
       "      <td>Google</td>\n",
       "      <td>No</td>\n",
       "      <td>1</td>\n",
       "      <td>2.0</td>\n",
       "      <td>1428</td>\n",
       "      <td>1.0</td>\n",
       "      <td>Converted to Lead</td>\n",
       "      <td>Other Specialization</td>\n",
       "      <td>Unemployed</td>\n",
       "      <td>Will revert after reading the email</td>\n",
       "      <td>Mumbai</td>\n",
       "      <td>No</td>\n",
       "      <td>Modified</td>\n",
       "    </tr>\n",
       "  </tbody>\n",
       "</table>\n",
       "</div>"
      ],
      "text/plain": [
       "   Lead Number              Lead Origin     Lead Source Do Not Email  \\\n",
       "0       660737                      API      Olark Chat           No   \n",
       "1       660728                      API  Organic Search           No   \n",
       "2       660727  Landing Page Submission  Direct Traffic           No   \n",
       "3       660719  Landing Page Submission  Direct Traffic           No   \n",
       "4       660681  Landing Page Submission          Google           No   \n",
       "\n",
       "   Converted  TotalVisits  Total Time Spent on Website  Page Views Per Visit  \\\n",
       "0          0          0.0                            0                   0.0   \n",
       "1          0          5.0                          674                   2.5   \n",
       "2          1          2.0                         1532                   2.0   \n",
       "3          0          1.0                          305                   1.0   \n",
       "4          1          2.0                         1428                   1.0   \n",
       "\n",
       "             Last Activity           Specialization  \\\n",
       "0  Page Visited on Website     Other Specialization   \n",
       "1             Email Opened     Other Specialization   \n",
       "2             Email Opened  Business Administration   \n",
       "3                   Others    Media and Advertising   \n",
       "4        Converted to Lead     Other Specialization   \n",
       "\n",
       "  What is your current occupation                                 Tags  \\\n",
       "0                      Unemployed          Interested in other courses   \n",
       "1                      Unemployed                              Ringing   \n",
       "2                         Student  Will revert after reading the email   \n",
       "3                      Unemployed                              Ringing   \n",
       "4                      Unemployed  Will revert after reading the email   \n",
       "\n",
       "     City A free copy of Mastering The Interview Last Notable Activity  \n",
       "0  Mumbai                                     No              Modified  \n",
       "1  Mumbai                                     No          Email Opened  \n",
       "2  Mumbai                                    Yes          Email Opened  \n",
       "3  Mumbai                                     No              Modified  \n",
       "4  Mumbai                                     No              Modified  "
      ]
     },
     "execution_count": 81,
     "metadata": {},
     "output_type": "execute_result"
    }
   ],
   "source": [
    "leads.head()"
   ]
  },
  {
   "cell_type": "code",
   "execution_count": 82,
   "id": "010b94f3",
   "metadata": {},
   "outputs": [
    {
     "data": {
      "text/html": [
       "<div>\n",
       "<style scoped>\n",
       "    .dataframe tbody tr th:only-of-type {\n",
       "        vertical-align: middle;\n",
       "    }\n",
       "\n",
       "    .dataframe tbody tr th {\n",
       "        vertical-align: top;\n",
       "    }\n",
       "\n",
       "    .dataframe thead th {\n",
       "        text-align: right;\n",
       "    }\n",
       "</style>\n",
       "<table border=\"1\" class=\"dataframe\">\n",
       "  <thead>\n",
       "    <tr style=\"text-align: right;\">\n",
       "      <th></th>\n",
       "      <th>Lead Number</th>\n",
       "      <th>Lead Origin</th>\n",
       "      <th>Lead Source</th>\n",
       "      <th>Do Not Email</th>\n",
       "      <th>Converted</th>\n",
       "      <th>TotalVisits</th>\n",
       "      <th>Total Time Spent on Website</th>\n",
       "      <th>Page Views Per Visit</th>\n",
       "      <th>Last Activity</th>\n",
       "      <th>Specialization</th>\n",
       "      <th>What is your current occupation</th>\n",
       "      <th>Tags</th>\n",
       "      <th>City</th>\n",
       "      <th>A free copy of Mastering The Interview</th>\n",
       "      <th>Last Notable Activity</th>\n",
       "    </tr>\n",
       "  </thead>\n",
       "  <tbody>\n",
       "    <tr>\n",
       "      <th>0</th>\n",
       "      <td>660737</td>\n",
       "      <td>API</td>\n",
       "      <td>Olark Chat</td>\n",
       "      <td>0</td>\n",
       "      <td>0</td>\n",
       "      <td>0.0</td>\n",
       "      <td>0</td>\n",
       "      <td>0.0</td>\n",
       "      <td>Page Visited on Website</td>\n",
       "      <td>Other Specialization</td>\n",
       "      <td>Unemployed</td>\n",
       "      <td>Interested in other courses</td>\n",
       "      <td>Mumbai</td>\n",
       "      <td>0</td>\n",
       "      <td>Modified</td>\n",
       "    </tr>\n",
       "    <tr>\n",
       "      <th>1</th>\n",
       "      <td>660728</td>\n",
       "      <td>API</td>\n",
       "      <td>Organic Search</td>\n",
       "      <td>0</td>\n",
       "      <td>0</td>\n",
       "      <td>5.0</td>\n",
       "      <td>674</td>\n",
       "      <td>2.5</td>\n",
       "      <td>Email Opened</td>\n",
       "      <td>Other Specialization</td>\n",
       "      <td>Unemployed</td>\n",
       "      <td>Ringing</td>\n",
       "      <td>Mumbai</td>\n",
       "      <td>0</td>\n",
       "      <td>Email Opened</td>\n",
       "    </tr>\n",
       "    <tr>\n",
       "      <th>2</th>\n",
       "      <td>660727</td>\n",
       "      <td>Landing Page Submission</td>\n",
       "      <td>Direct Traffic</td>\n",
       "      <td>0</td>\n",
       "      <td>1</td>\n",
       "      <td>2.0</td>\n",
       "      <td>1532</td>\n",
       "      <td>2.0</td>\n",
       "      <td>Email Opened</td>\n",
       "      <td>Business Administration</td>\n",
       "      <td>Student</td>\n",
       "      <td>Will revert after reading the email</td>\n",
       "      <td>Mumbai</td>\n",
       "      <td>1</td>\n",
       "      <td>Email Opened</td>\n",
       "    </tr>\n",
       "    <tr>\n",
       "      <th>3</th>\n",
       "      <td>660719</td>\n",
       "      <td>Landing Page Submission</td>\n",
       "      <td>Direct Traffic</td>\n",
       "      <td>0</td>\n",
       "      <td>0</td>\n",
       "      <td>1.0</td>\n",
       "      <td>305</td>\n",
       "      <td>1.0</td>\n",
       "      <td>Others</td>\n",
       "      <td>Media and Advertising</td>\n",
       "      <td>Unemployed</td>\n",
       "      <td>Ringing</td>\n",
       "      <td>Mumbai</td>\n",
       "      <td>0</td>\n",
       "      <td>Modified</td>\n",
       "    </tr>\n",
       "    <tr>\n",
       "      <th>4</th>\n",
       "      <td>660681</td>\n",
       "      <td>Landing Page Submission</td>\n",
       "      <td>Google</td>\n",
       "      <td>0</td>\n",
       "      <td>1</td>\n",
       "      <td>2.0</td>\n",
       "      <td>1428</td>\n",
       "      <td>1.0</td>\n",
       "      <td>Converted to Lead</td>\n",
       "      <td>Other Specialization</td>\n",
       "      <td>Unemployed</td>\n",
       "      <td>Will revert after reading the email</td>\n",
       "      <td>Mumbai</td>\n",
       "      <td>0</td>\n",
       "      <td>Modified</td>\n",
       "    </tr>\n",
       "  </tbody>\n",
       "</table>\n",
       "</div>"
      ],
      "text/plain": [
       "   Lead Number              Lead Origin     Lead Source  Do Not Email  \\\n",
       "0       660737                      API      Olark Chat             0   \n",
       "1       660728                      API  Organic Search             0   \n",
       "2       660727  Landing Page Submission  Direct Traffic             0   \n",
       "3       660719  Landing Page Submission  Direct Traffic             0   \n",
       "4       660681  Landing Page Submission          Google             0   \n",
       "\n",
       "   Converted  TotalVisits  Total Time Spent on Website  Page Views Per Visit  \\\n",
       "0          0          0.0                            0                   0.0   \n",
       "1          0          5.0                          674                   2.5   \n",
       "2          1          2.0                         1532                   2.0   \n",
       "3          0          1.0                          305                   1.0   \n",
       "4          1          2.0                         1428                   1.0   \n",
       "\n",
       "             Last Activity           Specialization  \\\n",
       "0  Page Visited on Website     Other Specialization   \n",
       "1             Email Opened     Other Specialization   \n",
       "2             Email Opened  Business Administration   \n",
       "3                   Others    Media and Advertising   \n",
       "4        Converted to Lead     Other Specialization   \n",
       "\n",
       "  What is your current occupation                                 Tags  \\\n",
       "0                      Unemployed          Interested in other courses   \n",
       "1                      Unemployed                              Ringing   \n",
       "2                         Student  Will revert after reading the email   \n",
       "3                      Unemployed                              Ringing   \n",
       "4                      Unemployed  Will revert after reading the email   \n",
       "\n",
       "     City  A free copy of Mastering The Interview Last Notable Activity  \n",
       "0  Mumbai                                       0              Modified  \n",
       "1  Mumbai                                       0          Email Opened  \n",
       "2  Mumbai                                       1          Email Opened  \n",
       "3  Mumbai                                       0              Modified  \n",
       "4  Mumbai                                       0              Modified  "
      ]
     },
     "execution_count": 82,
     "metadata": {},
     "output_type": "execute_result"
    }
   ],
   "source": [
    "# There are 2 columns with YES and NO which shoul be converted to binary var\n",
    "\n",
    "binary_var = ['Do Not Email', 'A free copy of Mastering The Interview']\n",
    "\n",
    "def binary_transform(x):\n",
    "    return x.map({'Yes':1, 'No':0})\n",
    "\n",
    "leads[binary_var] = leads[binary_var].apply(binary_transform)\n",
    "\n",
    "leads.head()"
   ]
  },
  {
   "cell_type": "markdown",
   "id": "63241ce7",
   "metadata": {},
   "source": [
    "## DUMMY VARIABLES CREATION TO CONVERT CATG VAR FOR MODELLING\n"
   ]
  },
  {
   "cell_type": "code",
   "execution_count": 83,
   "id": "206ed4b9",
   "metadata": {},
   "outputs": [],
   "source": [
    "#Creating dummy variables for 'Lead Origin' feature\n",
    "df = pd.get_dummies(leads[['Lead Origin']], drop_first=True)\n",
    "\n",
    "leads = pd.concat([leads, df], 1)\n",
    "\n",
    "leads.drop(['Lead Origin'], axis=1, inplace=True)"
   ]
  },
  {
   "cell_type": "code",
   "execution_count": 157,
   "id": "dab87cb1",
   "metadata": {},
   "outputs": [
    {
     "data": {
      "text/html": [
       "<div>\n",
       "<style scoped>\n",
       "    .dataframe tbody tr th:only-of-type {\n",
       "        vertical-align: middle;\n",
       "    }\n",
       "\n",
       "    .dataframe tbody tr th {\n",
       "        vertical-align: top;\n",
       "    }\n",
       "\n",
       "    .dataframe thead th {\n",
       "        text-align: right;\n",
       "    }\n",
       "</style>\n",
       "<table border=\"1\" class=\"dataframe\">\n",
       "  <thead>\n",
       "    <tr style=\"text-align: right;\">\n",
       "      <th></th>\n",
       "      <th>Lead Number</th>\n",
       "      <th>Do Not Email</th>\n",
       "      <th>Converted</th>\n",
       "      <th>TotalVisits</th>\n",
       "      <th>Total Time Spent on Website</th>\n",
       "      <th>Page Views Per Visit</th>\n",
       "      <th>A free copy of Mastering The Interview</th>\n",
       "      <th>Lead Origin_Landing Page Submission</th>\n",
       "      <th>Lead Origin_Lead Add Form</th>\n",
       "      <th>Lead Origin_Lead Import</th>\n",
       "      <th>...</th>\n",
       "      <th>Tags_Will revert after reading the email</th>\n",
       "      <th>Tags_switched off</th>\n",
       "      <th>Last Notable Activity_Email Bounced</th>\n",
       "      <th>Last Notable Activity_Email Link Clicked</th>\n",
       "      <th>Last Notable Activity_Email Opened</th>\n",
       "      <th>Last Notable Activity_Modified</th>\n",
       "      <th>Last Notable Activity_Olark Chat Conversation</th>\n",
       "      <th>Last Notable Activity_Page Visited on Website</th>\n",
       "      <th>Last Notable Activity_SMS Sent</th>\n",
       "      <th>Last Notable Activity_Unsubscribed</th>\n",
       "    </tr>\n",
       "  </thead>\n",
       "  <tbody>\n",
       "    <tr>\n",
       "      <th>0</th>\n",
       "      <td>660737</td>\n",
       "      <td>0</td>\n",
       "      <td>0</td>\n",
       "      <td>0.0</td>\n",
       "      <td>0</td>\n",
       "      <td>0.0</td>\n",
       "      <td>0</td>\n",
       "      <td>0</td>\n",
       "      <td>0</td>\n",
       "      <td>0</td>\n",
       "      <td>...</td>\n",
       "      <td>0</td>\n",
       "      <td>0</td>\n",
       "      <td>0</td>\n",
       "      <td>0</td>\n",
       "      <td>0</td>\n",
       "      <td>1</td>\n",
       "      <td>0</td>\n",
       "      <td>0</td>\n",
       "      <td>0</td>\n",
       "      <td>0</td>\n",
       "    </tr>\n",
       "    <tr>\n",
       "      <th>1</th>\n",
       "      <td>660728</td>\n",
       "      <td>0</td>\n",
       "      <td>0</td>\n",
       "      <td>5.0</td>\n",
       "      <td>674</td>\n",
       "      <td>2.5</td>\n",
       "      <td>0</td>\n",
       "      <td>0</td>\n",
       "      <td>0</td>\n",
       "      <td>0</td>\n",
       "      <td>...</td>\n",
       "      <td>0</td>\n",
       "      <td>0</td>\n",
       "      <td>0</td>\n",
       "      <td>0</td>\n",
       "      <td>1</td>\n",
       "      <td>0</td>\n",
       "      <td>0</td>\n",
       "      <td>0</td>\n",
       "      <td>0</td>\n",
       "      <td>0</td>\n",
       "    </tr>\n",
       "    <tr>\n",
       "      <th>2</th>\n",
       "      <td>660727</td>\n",
       "      <td>0</td>\n",
       "      <td>1</td>\n",
       "      <td>2.0</td>\n",
       "      <td>1532</td>\n",
       "      <td>2.0</td>\n",
       "      <td>1</td>\n",
       "      <td>1</td>\n",
       "      <td>0</td>\n",
       "      <td>0</td>\n",
       "      <td>...</td>\n",
       "      <td>1</td>\n",
       "      <td>0</td>\n",
       "      <td>0</td>\n",
       "      <td>0</td>\n",
       "      <td>1</td>\n",
       "      <td>0</td>\n",
       "      <td>0</td>\n",
       "      <td>0</td>\n",
       "      <td>0</td>\n",
       "      <td>0</td>\n",
       "    </tr>\n",
       "    <tr>\n",
       "      <th>3</th>\n",
       "      <td>660719</td>\n",
       "      <td>0</td>\n",
       "      <td>0</td>\n",
       "      <td>1.0</td>\n",
       "      <td>305</td>\n",
       "      <td>1.0</td>\n",
       "      <td>0</td>\n",
       "      <td>1</td>\n",
       "      <td>0</td>\n",
       "      <td>0</td>\n",
       "      <td>...</td>\n",
       "      <td>0</td>\n",
       "      <td>0</td>\n",
       "      <td>0</td>\n",
       "      <td>0</td>\n",
       "      <td>0</td>\n",
       "      <td>1</td>\n",
       "      <td>0</td>\n",
       "      <td>0</td>\n",
       "      <td>0</td>\n",
       "      <td>0</td>\n",
       "    </tr>\n",
       "    <tr>\n",
       "      <th>4</th>\n",
       "      <td>660681</td>\n",
       "      <td>0</td>\n",
       "      <td>1</td>\n",
       "      <td>2.0</td>\n",
       "      <td>1428</td>\n",
       "      <td>1.0</td>\n",
       "      <td>0</td>\n",
       "      <td>1</td>\n",
       "      <td>0</td>\n",
       "      <td>0</td>\n",
       "      <td>...</td>\n",
       "      <td>1</td>\n",
       "      <td>0</td>\n",
       "      <td>0</td>\n",
       "      <td>0</td>\n",
       "      <td>0</td>\n",
       "      <td>1</td>\n",
       "      <td>0</td>\n",
       "      <td>0</td>\n",
       "      <td>0</td>\n",
       "      <td>0</td>\n",
       "    </tr>\n",
       "  </tbody>\n",
       "</table>\n",
       "<p>5 rows × 67 columns</p>\n",
       "</div>"
      ],
      "text/plain": [
       "   Lead Number  Do Not Email  Converted  TotalVisits  \\\n",
       "0       660737             0          0          0.0   \n",
       "1       660728             0          0          5.0   \n",
       "2       660727             0          1          2.0   \n",
       "3       660719             0          0          1.0   \n",
       "4       660681             0          1          2.0   \n",
       "\n",
       "   Total Time Spent on Website  Page Views Per Visit  \\\n",
       "0                            0                   0.0   \n",
       "1                          674                   2.5   \n",
       "2                         1532                   2.0   \n",
       "3                          305                   1.0   \n",
       "4                         1428                   1.0   \n",
       "\n",
       "   A free copy of Mastering The Interview  \\\n",
       "0                                       0   \n",
       "1                                       0   \n",
       "2                                       1   \n",
       "3                                       0   \n",
       "4                                       0   \n",
       "\n",
       "   Lead Origin_Landing Page Submission  Lead Origin_Lead Add Form  \\\n",
       "0                                    0                          0   \n",
       "1                                    0                          0   \n",
       "2                                    1                          0   \n",
       "3                                    1                          0   \n",
       "4                                    1                          0   \n",
       "\n",
       "   Lead Origin_Lead Import  ...  Tags_Will revert after reading the email  \\\n",
       "0                        0  ...                                         0   \n",
       "1                        0  ...                                         0   \n",
       "2                        0  ...                                         1   \n",
       "3                        0  ...                                         0   \n",
       "4                        0  ...                                         1   \n",
       "\n",
       "   Tags_switched off  Last Notable Activity_Email Bounced  \\\n",
       "0                  0                                    0   \n",
       "1                  0                                    0   \n",
       "2                  0                                    0   \n",
       "3                  0                                    0   \n",
       "4                  0                                    0   \n",
       "\n",
       "   Last Notable Activity_Email Link Clicked  \\\n",
       "0                                         0   \n",
       "1                                         0   \n",
       "2                                         0   \n",
       "3                                         0   \n",
       "4                                         0   \n",
       "\n",
       "   Last Notable Activity_Email Opened  Last Notable Activity_Modified  \\\n",
       "0                                   0                               1   \n",
       "1                                   1                               0   \n",
       "2                                   1                               0   \n",
       "3                                   0                               1   \n",
       "4                                   0                               1   \n",
       "\n",
       "   Last Notable Activity_Olark Chat Conversation  \\\n",
       "0                                              0   \n",
       "1                                              0   \n",
       "2                                              0   \n",
       "3                                              0   \n",
       "4                                              0   \n",
       "\n",
       "   Last Notable Activity_Page Visited on Website  \\\n",
       "0                                              0   \n",
       "1                                              0   \n",
       "2                                              0   \n",
       "3                                              0   \n",
       "4                                              0   \n",
       "\n",
       "   Last Notable Activity_SMS Sent  Last Notable Activity_Unsubscribed  \n",
       "0                               0                                   0  \n",
       "1                               0                                   0  \n",
       "2                               0                                   0  \n",
       "3                               0                                   0  \n",
       "4                               0                                   0  \n",
       "\n",
       "[5 rows x 67 columns]"
      ]
     },
     "execution_count": 157,
     "metadata": {},
     "output_type": "execute_result"
    }
   ],
   "source": [
    "leads.head()"
   ]
  },
  {
   "cell_type": "code",
   "execution_count": 85,
   "id": "c7c99f6c",
   "metadata": {},
   "outputs": [],
   "source": [
    "#Creating dummy variables for 'Lead Source' feature\n",
    "df = pd.get_dummies(leads['Lead Source'], prefix='Lead Source')\n",
    "\n",
    "df.drop('Lead Source_Others', 1, inplace=True)\n",
    "\n",
    "leads = pd.concat([leads, df], axis=1)\n",
    "\n",
    "leads.drop(['Lead Source'], axis=1, inplace=True)"
   ]
  },
  {
   "cell_type": "code",
   "execution_count": 86,
   "id": "bdff8a6e",
   "metadata": {},
   "outputs": [
    {
     "data": {
      "text/plain": [
       "Management                           4126\n",
       "Other Specialization                 3284\n",
       "Business Administration               390\n",
       "Banking, Investment And Insurance     325\n",
       "Media and Advertising                 197\n",
       "Travel and Tourism                    189\n",
       "International Business                171\n",
       "E-COMMERCE                            107\n",
       "Rural and Agribusiness                 70\n",
       "E-Business                             56\n",
       "Services Excellence                    38\n",
       "Name: Specialization, dtype: int64"
      ]
     },
     "execution_count": 86,
     "metadata": {},
     "output_type": "execute_result"
    }
   ],
   "source": [
    "leads['Specialization'].value_counts()"
   ]
  },
  {
   "cell_type": "code",
   "execution_count": 87,
   "id": "17579b1e",
   "metadata": {},
   "outputs": [],
   "source": [
    "#Creating dummy variables for 'Specialization' feature\n",
    "df = pd.get_dummies(leads['Specialization'], prefix='Specialization')\n",
    "\n",
    "df.drop('Specialization_Other Specialization', 1, inplace=True)\n",
    "\n",
    "leads = pd.concat([leads, df], axis=1)\n",
    "\n",
    "leads.drop(['Specialization'], axis=1, inplace=True)"
   ]
  },
  {
   "cell_type": "code",
   "execution_count": 88,
   "id": "8f74457f",
   "metadata": {},
   "outputs": [
    {
     "data": {
      "text/plain": [
       "Unemployed              8053\n",
       "Working Professional     667\n",
       "Student                  204\n",
       "Other                     13\n",
       "Housewife                  9\n",
       "Businessman                7\n",
       "Name: What is your current occupation, dtype: int64"
      ]
     },
     "execution_count": 88,
     "metadata": {},
     "output_type": "execute_result"
    }
   ],
   "source": [
    "leads['What is your current occupation'].value_counts()"
   ]
  },
  {
   "cell_type": "code",
   "execution_count": 89,
   "id": "42ebed2f",
   "metadata": {},
   "outputs": [],
   "source": [
    "###Creating dummy variables for 'What is your current occupation' feature\n",
    "df = pd.get_dummies(leads['What is your current occupation'], prefix='Occupation')\n",
    "\n",
    "df.drop('Occupation_Other',1,inplace=True)\n",
    "\n",
    "leads = pd.concat([leads, df], 1)\n",
    "\n",
    "leads.drop('What is your current occupation', 1, inplace=True)"
   ]
  },
  {
   "cell_type": "code",
   "execution_count": 90,
   "id": "23fcaf42",
   "metadata": {},
   "outputs": [
    {
     "data": {
      "text/plain": [
       "Mumbai                         6687\n",
       "Thane & Outskirts               723\n",
       "Other Cities                    669\n",
       "Other Cities of Maharashtra     438\n",
       "Other Metro Cities              364\n",
       "Tier II Cities                   72\n",
       "Name: City, dtype: int64"
      ]
     },
     "execution_count": 90,
     "metadata": {},
     "output_type": "execute_result"
    }
   ],
   "source": [
    "leads.City.value_counts()"
   ]
  },
  {
   "cell_type": "code",
   "execution_count": 91,
   "id": "499f407a",
   "metadata": {},
   "outputs": [],
   "source": [
    "##Creating dummy variables for 'City' feature\n",
    "df = pd.get_dummies(leads['City'], prefix='City')\n",
    "\n",
    "df.drop('City_Other Cities',1,inplace=True)\n",
    "\n",
    "leads = pd.concat([leads, df], 1)\n",
    "\n",
    "leads.drop('City', 1, inplace=True)"
   ]
  },
  {
   "cell_type": "code",
   "execution_count": 92,
   "id": "38e80dd4",
   "metadata": {},
   "outputs": [],
   "source": [
    "#Creating dummy variable for 'Last Activity' feature\n",
    "df = pd.get_dummies(leads['Last Activity'], prefix='Last Activity')\n",
    "\n",
    "df.drop('Last Activity_Others',1,inplace=True)\n",
    "\n",
    "leads = pd.concat([leads, df], 1)\n",
    "\n",
    "leads.drop('Last Activity', 1, inplace=True)"
   ]
  },
  {
   "cell_type": "code",
   "execution_count": 93,
   "id": "28d7d6a2",
   "metadata": {},
   "outputs": [
    {
     "data": {
      "text/plain": [
       "Not mentioned                          3284\n",
       "Will revert after reading the email    2002\n",
       "Ringing                                1162\n",
       "Interested in other courses             505\n",
       "Already a student                       461\n",
       "Others                                  403\n",
       "Closed by Horizzon                      290\n",
       "switched off                            237\n",
       "Busy                                    183\n",
       "Not doing further education             137\n",
       "Interested  in full time MBA            116\n",
       "Graduation in progress                  110\n",
       "Diploma holder (Not Eligible)            63\n",
       "Name: Tags, dtype: int64"
      ]
     },
     "execution_count": 93,
     "metadata": {},
     "output_type": "execute_result"
    }
   ],
   "source": [
    "leads.Tags.value_counts()"
   ]
  },
  {
   "cell_type": "code",
   "execution_count": 94,
   "id": "29381504",
   "metadata": {},
   "outputs": [],
   "source": [
    "#Creating dummy variable for 'Tags' feature\n",
    "df = pd.get_dummies(leads['Tags'], prefix='Tags')\n",
    "\n",
    "df.drop('Tags_Not mentioned',1,inplace=True)\n",
    "\n",
    "leads = pd.concat([leads, df], 1)\n",
    "\n",
    "leads.drop('Tags', 1, inplace=True)"
   ]
  },
  {
   "cell_type": "code",
   "execution_count": 95,
   "id": "ea8433b5",
   "metadata": {},
   "outputs": [],
   "source": [
    "#Creating dummy variable for 'Last Notable Activity' feature\n",
    "df = pd.get_dummies(leads['Last Notable Activity'], prefix='Last Notable Activity')\n",
    "\n",
    "df.drop('Last Notable Activity_Others',1,inplace=True)\n",
    "\n",
    "leads = pd.concat([leads, df], 1)\n",
    "\n",
    "leads.drop('Last Notable Activity', 1, inplace=True)"
   ]
  },
  {
   "cell_type": "code",
   "execution_count": 96,
   "id": "a623047a",
   "metadata": {},
   "outputs": [
    {
     "name": "stdout",
     "output_type": "stream",
     "text": [
      "<class 'pandas.core.frame.DataFrame'>\n",
      "Int64Index: 8953 entries, 0 to 9239\n",
      "Data columns (total 67 columns):\n",
      " #   Column                                            Non-Null Count  Dtype  \n",
      "---  ------                                            --------------  -----  \n",
      " 0   Lead Number                                       8953 non-null   int64  \n",
      " 1   Do Not Email                                      8953 non-null   int64  \n",
      " 2   Converted                                         8953 non-null   int64  \n",
      " 3   TotalVisits                                       8953 non-null   float64\n",
      " 4   Total Time Spent on Website                       8953 non-null   int64  \n",
      " 5   Page Views Per Visit                              8953 non-null   float64\n",
      " 6   A free copy of Mastering The Interview            8953 non-null   int64  \n",
      " 7   Lead Origin_Landing Page Submission               8953 non-null   uint8  \n",
      " 8   Lead Origin_Lead Add Form                         8953 non-null   uint8  \n",
      " 9   Lead Origin_Lead Import                           8953 non-null   uint8  \n",
      " 10  Lead Source_Direct Traffic                        8953 non-null   uint8  \n",
      " 11  Lead Source_Facebook                              8953 non-null   uint8  \n",
      " 12  Lead Source_Google                                8953 non-null   uint8  \n",
      " 13  Lead Source_Olark Chat                            8953 non-null   uint8  \n",
      " 14  Lead Source_Organic Search                        8953 non-null   uint8  \n",
      " 15  Lead Source_Reference                             8953 non-null   uint8  \n",
      " 16  Lead Source_Referral Sites                        8953 non-null   uint8  \n",
      " 17  Lead Source_Welingak Website                      8953 non-null   uint8  \n",
      " 18  Specialization_Banking, Investment And Insurance  8953 non-null   uint8  \n",
      " 19  Specialization_Business Administration            8953 non-null   uint8  \n",
      " 20  Specialization_E-Business                         8953 non-null   uint8  \n",
      " 21  Specialization_E-COMMERCE                         8953 non-null   uint8  \n",
      " 22  Specialization_International Business             8953 non-null   uint8  \n",
      " 23  Specialization_Management                         8953 non-null   uint8  \n",
      " 24  Specialization_Media and Advertising              8953 non-null   uint8  \n",
      " 25  Specialization_Rural and Agribusiness             8953 non-null   uint8  \n",
      " 26  Specialization_Services Excellence                8953 non-null   uint8  \n",
      " 27  Specialization_Travel and Tourism                 8953 non-null   uint8  \n",
      " 28  Occupation_Businessman                            8953 non-null   uint8  \n",
      " 29  Occupation_Housewife                              8953 non-null   uint8  \n",
      " 30  Occupation_Student                                8953 non-null   uint8  \n",
      " 31  Occupation_Unemployed                             8953 non-null   uint8  \n",
      " 32  Occupation_Working Professional                   8953 non-null   uint8  \n",
      " 33  City_Mumbai                                       8953 non-null   uint8  \n",
      " 34  City_Other Cities of Maharashtra                  8953 non-null   uint8  \n",
      " 35  City_Other Metro Cities                           8953 non-null   uint8  \n",
      " 36  City_Thane & Outskirts                            8953 non-null   uint8  \n",
      " 37  City_Tier II Cities                               8953 non-null   uint8  \n",
      " 38  Last Activity_Converted to Lead                   8953 non-null   uint8  \n",
      " 39  Last Activity_Email Bounced                       8953 non-null   uint8  \n",
      " 40  Last Activity_Email Link Clicked                  8953 non-null   uint8  \n",
      " 41  Last Activity_Email Opened                        8953 non-null   uint8  \n",
      " 42  Last Activity_Form Submitted on Website           8953 non-null   uint8  \n",
      " 43  Last Activity_Olark Chat Conversation             8953 non-null   uint8  \n",
      " 44  Last Activity_Page Visited on Website             8953 non-null   uint8  \n",
      " 45  Last Activity_SMS Sent                            8953 non-null   uint8  \n",
      " 46  Last Activity_Unsubscribed                        8953 non-null   uint8  \n",
      " 47  Tags_Already a student                            8953 non-null   uint8  \n",
      " 48  Tags_Busy                                         8953 non-null   uint8  \n",
      " 49  Tags_Closed by Horizzon                           8953 non-null   uint8  \n",
      " 50  Tags_Diploma holder (Not Eligible)                8953 non-null   uint8  \n",
      " 51  Tags_Graduation in progress                       8953 non-null   uint8  \n",
      " 52  Tags_Interested  in full time MBA                 8953 non-null   uint8  \n",
      " 53  Tags_Interested in other courses                  8953 non-null   uint8  \n",
      " 54  Tags_Not doing further education                  8953 non-null   uint8  \n",
      " 55  Tags_Others                                       8953 non-null   uint8  \n",
      " 56  Tags_Ringing                                      8953 non-null   uint8  \n",
      " 57  Tags_Will revert after reading the email          8953 non-null   uint8  \n",
      " 58  Tags_switched off                                 8953 non-null   uint8  \n",
      " 59  Last Notable Activity_Email Bounced               8953 non-null   uint8  \n",
      " 60  Last Notable Activity_Email Link Clicked          8953 non-null   uint8  \n",
      " 61  Last Notable Activity_Email Opened                8953 non-null   uint8  \n",
      " 62  Last Notable Activity_Modified                    8953 non-null   uint8  \n",
      " 63  Last Notable Activity_Olark Chat Conversation     8953 non-null   uint8  \n",
      " 64  Last Notable Activity_Page Visited on Website     8953 non-null   uint8  \n",
      " 65  Last Notable Activity_SMS Sent                    8953 non-null   uint8  \n",
      " 66  Last Notable Activity_Unsubscribed                8953 non-null   uint8  \n",
      "dtypes: float64(2), int64(5), uint8(60)\n",
      "memory usage: 1.1 MB\n"
     ]
    }
   ],
   "source": [
    "leads.info()"
   ]
  },
  {
   "cell_type": "markdown",
   "id": "e1a2cdc9",
   "metadata": {},
   "source": [
    "<div class=\"alert-info\">\n",
    "\n",
    "From above we can see that there are no any categorical variables present ."
   ]
  },
  {
   "cell_type": "markdown",
   "id": "4b084f43",
   "metadata": {},
   "source": [
    "## Test and Train split"
   ]
  },
  {
   "cell_type": "code",
   "execution_count": 97,
   "id": "c97d4d77",
   "metadata": {},
   "outputs": [],
   "source": [
    "# Creating X and y variables for modelling\n",
    "\n",
    "from sklearn.model_selection import train_test_split\n",
    "\n",
    "y = leads['Converted']\n",
    "\n",
    "X = leads.drop('Converted', 1)"
   ]
  },
  {
   "cell_type": "code",
   "execution_count": 98,
   "id": "e011e8cf",
   "metadata": {},
   "outputs": [
    {
     "data": {
      "text/html": [
       "<div>\n",
       "<style scoped>\n",
       "    .dataframe tbody tr th:only-of-type {\n",
       "        vertical-align: middle;\n",
       "    }\n",
       "\n",
       "    .dataframe tbody tr th {\n",
       "        vertical-align: top;\n",
       "    }\n",
       "\n",
       "    .dataframe thead th {\n",
       "        text-align: right;\n",
       "    }\n",
       "</style>\n",
       "<table border=\"1\" class=\"dataframe\">\n",
       "  <thead>\n",
       "    <tr style=\"text-align: right;\">\n",
       "      <th></th>\n",
       "      <th>Lead Number</th>\n",
       "      <th>Do Not Email</th>\n",
       "      <th>TotalVisits</th>\n",
       "      <th>Total Time Spent on Website</th>\n",
       "      <th>Page Views Per Visit</th>\n",
       "      <th>A free copy of Mastering The Interview</th>\n",
       "      <th>Lead Origin_Landing Page Submission</th>\n",
       "      <th>Lead Origin_Lead Add Form</th>\n",
       "      <th>Lead Origin_Lead Import</th>\n",
       "      <th>Lead Source_Direct Traffic</th>\n",
       "      <th>...</th>\n",
       "      <th>Tags_Will revert after reading the email</th>\n",
       "      <th>Tags_switched off</th>\n",
       "      <th>Last Notable Activity_Email Bounced</th>\n",
       "      <th>Last Notable Activity_Email Link Clicked</th>\n",
       "      <th>Last Notable Activity_Email Opened</th>\n",
       "      <th>Last Notable Activity_Modified</th>\n",
       "      <th>Last Notable Activity_Olark Chat Conversation</th>\n",
       "      <th>Last Notable Activity_Page Visited on Website</th>\n",
       "      <th>Last Notable Activity_SMS Sent</th>\n",
       "      <th>Last Notable Activity_Unsubscribed</th>\n",
       "    </tr>\n",
       "  </thead>\n",
       "  <tbody>\n",
       "    <tr>\n",
       "      <th>0</th>\n",
       "      <td>660737</td>\n",
       "      <td>0</td>\n",
       "      <td>0.0</td>\n",
       "      <td>0</td>\n",
       "      <td>0.0</td>\n",
       "      <td>0</td>\n",
       "      <td>0</td>\n",
       "      <td>0</td>\n",
       "      <td>0</td>\n",
       "      <td>0</td>\n",
       "      <td>...</td>\n",
       "      <td>0</td>\n",
       "      <td>0</td>\n",
       "      <td>0</td>\n",
       "      <td>0</td>\n",
       "      <td>0</td>\n",
       "      <td>1</td>\n",
       "      <td>0</td>\n",
       "      <td>0</td>\n",
       "      <td>0</td>\n",
       "      <td>0</td>\n",
       "    </tr>\n",
       "    <tr>\n",
       "      <th>1</th>\n",
       "      <td>660728</td>\n",
       "      <td>0</td>\n",
       "      <td>5.0</td>\n",
       "      <td>674</td>\n",
       "      <td>2.5</td>\n",
       "      <td>0</td>\n",
       "      <td>0</td>\n",
       "      <td>0</td>\n",
       "      <td>0</td>\n",
       "      <td>0</td>\n",
       "      <td>...</td>\n",
       "      <td>0</td>\n",
       "      <td>0</td>\n",
       "      <td>0</td>\n",
       "      <td>0</td>\n",
       "      <td>1</td>\n",
       "      <td>0</td>\n",
       "      <td>0</td>\n",
       "      <td>0</td>\n",
       "      <td>0</td>\n",
       "      <td>0</td>\n",
       "    </tr>\n",
       "    <tr>\n",
       "      <th>2</th>\n",
       "      <td>660727</td>\n",
       "      <td>0</td>\n",
       "      <td>2.0</td>\n",
       "      <td>1532</td>\n",
       "      <td>2.0</td>\n",
       "      <td>1</td>\n",
       "      <td>1</td>\n",
       "      <td>0</td>\n",
       "      <td>0</td>\n",
       "      <td>1</td>\n",
       "      <td>...</td>\n",
       "      <td>1</td>\n",
       "      <td>0</td>\n",
       "      <td>0</td>\n",
       "      <td>0</td>\n",
       "      <td>1</td>\n",
       "      <td>0</td>\n",
       "      <td>0</td>\n",
       "      <td>0</td>\n",
       "      <td>0</td>\n",
       "      <td>0</td>\n",
       "    </tr>\n",
       "    <tr>\n",
       "      <th>3</th>\n",
       "      <td>660719</td>\n",
       "      <td>0</td>\n",
       "      <td>1.0</td>\n",
       "      <td>305</td>\n",
       "      <td>1.0</td>\n",
       "      <td>0</td>\n",
       "      <td>1</td>\n",
       "      <td>0</td>\n",
       "      <td>0</td>\n",
       "      <td>1</td>\n",
       "      <td>...</td>\n",
       "      <td>0</td>\n",
       "      <td>0</td>\n",
       "      <td>0</td>\n",
       "      <td>0</td>\n",
       "      <td>0</td>\n",
       "      <td>1</td>\n",
       "      <td>0</td>\n",
       "      <td>0</td>\n",
       "      <td>0</td>\n",
       "      <td>0</td>\n",
       "    </tr>\n",
       "    <tr>\n",
       "      <th>4</th>\n",
       "      <td>660681</td>\n",
       "      <td>0</td>\n",
       "      <td>2.0</td>\n",
       "      <td>1428</td>\n",
       "      <td>1.0</td>\n",
       "      <td>0</td>\n",
       "      <td>1</td>\n",
       "      <td>0</td>\n",
       "      <td>0</td>\n",
       "      <td>0</td>\n",
       "      <td>...</td>\n",
       "      <td>1</td>\n",
       "      <td>0</td>\n",
       "      <td>0</td>\n",
       "      <td>0</td>\n",
       "      <td>0</td>\n",
       "      <td>1</td>\n",
       "      <td>0</td>\n",
       "      <td>0</td>\n",
       "      <td>0</td>\n",
       "      <td>0</td>\n",
       "    </tr>\n",
       "  </tbody>\n",
       "</table>\n",
       "<p>5 rows × 66 columns</p>\n",
       "</div>"
      ],
      "text/plain": [
       "   Lead Number  Do Not Email  TotalVisits  Total Time Spent on Website  \\\n",
       "0       660737             0          0.0                            0   \n",
       "1       660728             0          5.0                          674   \n",
       "2       660727             0          2.0                         1532   \n",
       "3       660719             0          1.0                          305   \n",
       "4       660681             0          2.0                         1428   \n",
       "\n",
       "   Page Views Per Visit  A free copy of Mastering The Interview  \\\n",
       "0                   0.0                                       0   \n",
       "1                   2.5                                       0   \n",
       "2                   2.0                                       1   \n",
       "3                   1.0                                       0   \n",
       "4                   1.0                                       0   \n",
       "\n",
       "   Lead Origin_Landing Page Submission  Lead Origin_Lead Add Form  \\\n",
       "0                                    0                          0   \n",
       "1                                    0                          0   \n",
       "2                                    1                          0   \n",
       "3                                    1                          0   \n",
       "4                                    1                          0   \n",
       "\n",
       "   Lead Origin_Lead Import  Lead Source_Direct Traffic  ...  \\\n",
       "0                        0                           0  ...   \n",
       "1                        0                           0  ...   \n",
       "2                        0                           1  ...   \n",
       "3                        0                           1  ...   \n",
       "4                        0                           0  ...   \n",
       "\n",
       "   Tags_Will revert after reading the email  Tags_switched off  \\\n",
       "0                                         0                  0   \n",
       "1                                         0                  0   \n",
       "2                                         1                  0   \n",
       "3                                         0                  0   \n",
       "4                                         1                  0   \n",
       "\n",
       "   Last Notable Activity_Email Bounced  \\\n",
       "0                                    0   \n",
       "1                                    0   \n",
       "2                                    0   \n",
       "3                                    0   \n",
       "4                                    0   \n",
       "\n",
       "   Last Notable Activity_Email Link Clicked  \\\n",
       "0                                         0   \n",
       "1                                         0   \n",
       "2                                         0   \n",
       "3                                         0   \n",
       "4                                         0   \n",
       "\n",
       "   Last Notable Activity_Email Opened  Last Notable Activity_Modified  \\\n",
       "0                                   0                               1   \n",
       "1                                   1                               0   \n",
       "2                                   1                               0   \n",
       "3                                   0                               1   \n",
       "4                                   0                               1   \n",
       "\n",
       "   Last Notable Activity_Olark Chat Conversation  \\\n",
       "0                                              0   \n",
       "1                                              0   \n",
       "2                                              0   \n",
       "3                                              0   \n",
       "4                                              0   \n",
       "\n",
       "   Last Notable Activity_Page Visited on Website  \\\n",
       "0                                              0   \n",
       "1                                              0   \n",
       "2                                              0   \n",
       "3                                              0   \n",
       "4                                              0   \n",
       "\n",
       "   Last Notable Activity_SMS Sent  Last Notable Activity_Unsubscribed  \n",
       "0                               0                                   0  \n",
       "1                               0                                   0  \n",
       "2                               0                                   0  \n",
       "3                               0                                   0  \n",
       "4                               0                                   0  \n",
       "\n",
       "[5 rows x 66 columns]"
      ]
     },
     "execution_count": 98,
     "metadata": {},
     "output_type": "execute_result"
    }
   ],
   "source": [
    "X.head()"
   ]
  },
  {
   "cell_type": "code",
   "execution_count": 99,
   "id": "f8fd9bdd",
   "metadata": {},
   "outputs": [
    {
     "data": {
      "text/plain": [
       "0    0\n",
       "1    0\n",
       "2    1\n",
       "3    0\n",
       "4    1\n",
       "Name: Converted, dtype: int64"
      ]
     },
     "execution_count": 99,
     "metadata": {},
     "output_type": "execute_result"
    }
   ],
   "source": [
    "y.head()"
   ]
  },
  {
   "cell_type": "code",
   "execution_count": 100,
   "id": "e1363feb",
   "metadata": {},
   "outputs": [
    {
     "data": {
      "text/plain": [
       "(8953, 66)"
      ]
     },
     "execution_count": 100,
     "metadata": {},
     "output_type": "execute_result"
    }
   ],
   "source": [
    "X.shape"
   ]
  },
  {
   "cell_type": "code",
   "execution_count": 101,
   "id": "a020926e",
   "metadata": {},
   "outputs": [],
   "source": [
    "X_train, X_test, y_train, y_test =  train_test_split(X, y, train_size=0.7, test_size=0.3, random_state=100)"
   ]
  },
  {
   "cell_type": "code",
   "execution_count": 102,
   "id": "a8d4b391",
   "metadata": {},
   "outputs": [],
   "source": [
    "final_train_leads = X_train['Lead Number']\n",
    "final_test_leads = X_test['Lead Number']\n",
    "\n",
    "X_train.drop('Lead Number', 1, inplace=True)\n",
    "X_test.drop('Lead Number', 1, inplace=True)"
   ]
  },
  {
   "cell_type": "code",
   "execution_count": 103,
   "id": "0d026132",
   "metadata": {},
   "outputs": [
    {
     "data": {
      "text/plain": [
       "(6267, 65)"
      ]
     },
     "execution_count": 103,
     "metadata": {},
     "output_type": "execute_result"
    }
   ],
   "source": [
    "X_train.shape"
   ]
  },
  {
   "cell_type": "code",
   "execution_count": 104,
   "id": "793e98ed",
   "metadata": {},
   "outputs": [
    {
     "data": {
      "text/plain": [
       "(2686, 65)"
      ]
     },
     "execution_count": 104,
     "metadata": {},
     "output_type": "execute_result"
    }
   ],
   "source": [
    "X_test.shape"
   ]
  },
  {
   "cell_type": "markdown",
   "id": "407502c8",
   "metadata": {},
   "source": [
    "## FEATURE SCALING"
   ]
  },
  {
   "cell_type": "code",
   "execution_count": 105,
   "id": "4fc4760f",
   "metadata": {},
   "outputs": [],
   "source": [
    "#Scaling the variables using StandardScaler\n",
    "\n",
    "from sklearn.preprocessing import StandardScaler"
   ]
  },
  {
   "cell_type": "code",
   "execution_count": 106,
   "id": "2fd313ca",
   "metadata": {},
   "outputs": [
    {
     "data": {
      "text/html": [
       "<div>\n",
       "<style scoped>\n",
       "    .dataframe tbody tr th:only-of-type {\n",
       "        vertical-align: middle;\n",
       "    }\n",
       "\n",
       "    .dataframe tbody tr th {\n",
       "        vertical-align: top;\n",
       "    }\n",
       "\n",
       "    .dataframe thead th {\n",
       "        text-align: right;\n",
       "    }\n",
       "</style>\n",
       "<table border=\"1\" class=\"dataframe\">\n",
       "  <thead>\n",
       "    <tr style=\"text-align: right;\">\n",
       "      <th></th>\n",
       "      <th>Do Not Email</th>\n",
       "      <th>TotalVisits</th>\n",
       "      <th>Total Time Spent on Website</th>\n",
       "      <th>Page Views Per Visit</th>\n",
       "      <th>A free copy of Mastering The Interview</th>\n",
       "      <th>Lead Origin_Landing Page Submission</th>\n",
       "      <th>Lead Origin_Lead Add Form</th>\n",
       "      <th>Lead Origin_Lead Import</th>\n",
       "      <th>Lead Source_Direct Traffic</th>\n",
       "      <th>Lead Source_Facebook</th>\n",
       "      <th>...</th>\n",
       "      <th>Tags_Will revert after reading the email</th>\n",
       "      <th>Tags_switched off</th>\n",
       "      <th>Last Notable Activity_Email Bounced</th>\n",
       "      <th>Last Notable Activity_Email Link Clicked</th>\n",
       "      <th>Last Notable Activity_Email Opened</th>\n",
       "      <th>Last Notable Activity_Modified</th>\n",
       "      <th>Last Notable Activity_Olark Chat Conversation</th>\n",
       "      <th>Last Notable Activity_Page Visited on Website</th>\n",
       "      <th>Last Notable Activity_SMS Sent</th>\n",
       "      <th>Last Notable Activity_Unsubscribed</th>\n",
       "    </tr>\n",
       "  </thead>\n",
       "  <tbody>\n",
       "    <tr>\n",
       "      <th>9196</th>\n",
       "      <td>0</td>\n",
       "      <td>0.668862</td>\n",
       "      <td>1.848117</td>\n",
       "      <td>1.455819</td>\n",
       "      <td>0</td>\n",
       "      <td>1</td>\n",
       "      <td>0</td>\n",
       "      <td>0</td>\n",
       "      <td>0</td>\n",
       "      <td>0</td>\n",
       "      <td>...</td>\n",
       "      <td>0</td>\n",
       "      <td>0</td>\n",
       "      <td>0</td>\n",
       "      <td>0</td>\n",
       "      <td>0</td>\n",
       "      <td>0</td>\n",
       "      <td>0</td>\n",
       "      <td>0</td>\n",
       "      <td>1</td>\n",
       "      <td>0</td>\n",
       "    </tr>\n",
       "    <tr>\n",
       "      <th>4696</th>\n",
       "      <td>0</td>\n",
       "      <td>-0.030697</td>\n",
       "      <td>-0.037832</td>\n",
       "      <td>0.399961</td>\n",
       "      <td>0</td>\n",
       "      <td>1</td>\n",
       "      <td>0</td>\n",
       "      <td>0</td>\n",
       "      <td>1</td>\n",
       "      <td>0</td>\n",
       "      <td>...</td>\n",
       "      <td>0</td>\n",
       "      <td>0</td>\n",
       "      <td>0</td>\n",
       "      <td>0</td>\n",
       "      <td>0</td>\n",
       "      <td>0</td>\n",
       "      <td>0</td>\n",
       "      <td>0</td>\n",
       "      <td>1</td>\n",
       "      <td>0</td>\n",
       "    </tr>\n",
       "    <tr>\n",
       "      <th>3274</th>\n",
       "      <td>0</td>\n",
       "      <td>0.319082</td>\n",
       "      <td>-0.642138</td>\n",
       "      <td>-0.127967</td>\n",
       "      <td>0</td>\n",
       "      <td>1</td>\n",
       "      <td>0</td>\n",
       "      <td>0</td>\n",
       "      <td>0</td>\n",
       "      <td>0</td>\n",
       "      <td>...</td>\n",
       "      <td>0</td>\n",
       "      <td>0</td>\n",
       "      <td>0</td>\n",
       "      <td>0</td>\n",
       "      <td>0</td>\n",
       "      <td>0</td>\n",
       "      <td>0</td>\n",
       "      <td>0</td>\n",
       "      <td>1</td>\n",
       "      <td>0</td>\n",
       "    </tr>\n",
       "    <tr>\n",
       "      <th>2164</th>\n",
       "      <td>0</td>\n",
       "      <td>-0.380477</td>\n",
       "      <td>-0.154676</td>\n",
       "      <td>-0.127967</td>\n",
       "      <td>0</td>\n",
       "      <td>0</td>\n",
       "      <td>0</td>\n",
       "      <td>0</td>\n",
       "      <td>0</td>\n",
       "      <td>0</td>\n",
       "      <td>...</td>\n",
       "      <td>0</td>\n",
       "      <td>0</td>\n",
       "      <td>0</td>\n",
       "      <td>0</td>\n",
       "      <td>0</td>\n",
       "      <td>1</td>\n",
       "      <td>0</td>\n",
       "      <td>0</td>\n",
       "      <td>0</td>\n",
       "      <td>0</td>\n",
       "    </tr>\n",
       "    <tr>\n",
       "      <th>1667</th>\n",
       "      <td>0</td>\n",
       "      <td>0.319082</td>\n",
       "      <td>1.258415</td>\n",
       "      <td>-0.481679</td>\n",
       "      <td>0</td>\n",
       "      <td>0</td>\n",
       "      <td>0</td>\n",
       "      <td>0</td>\n",
       "      <td>0</td>\n",
       "      <td>0</td>\n",
       "      <td>...</td>\n",
       "      <td>1</td>\n",
       "      <td>0</td>\n",
       "      <td>0</td>\n",
       "      <td>0</td>\n",
       "      <td>1</td>\n",
       "      <td>0</td>\n",
       "      <td>0</td>\n",
       "      <td>0</td>\n",
       "      <td>0</td>\n",
       "      <td>0</td>\n",
       "    </tr>\n",
       "  </tbody>\n",
       "</table>\n",
       "<p>5 rows × 65 columns</p>\n",
       "</div>"
      ],
      "text/plain": [
       "      Do Not Email  TotalVisits  Total Time Spent on Website  \\\n",
       "9196             0     0.668862                     1.848117   \n",
       "4696             0    -0.030697                    -0.037832   \n",
       "3274             0     0.319082                    -0.642138   \n",
       "2164             0    -0.380477                    -0.154676   \n",
       "1667             0     0.319082                     1.258415   \n",
       "\n",
       "      Page Views Per Visit  A free copy of Mastering The Interview  \\\n",
       "9196              1.455819                                       0   \n",
       "4696              0.399961                                       0   \n",
       "3274             -0.127967                                       0   \n",
       "2164             -0.127967                                       0   \n",
       "1667             -0.481679                                       0   \n",
       "\n",
       "      Lead Origin_Landing Page Submission  Lead Origin_Lead Add Form  \\\n",
       "9196                                    1                          0   \n",
       "4696                                    1                          0   \n",
       "3274                                    1                          0   \n",
       "2164                                    0                          0   \n",
       "1667                                    0                          0   \n",
       "\n",
       "      Lead Origin_Lead Import  Lead Source_Direct Traffic  \\\n",
       "9196                        0                           0   \n",
       "4696                        0                           1   \n",
       "3274                        0                           0   \n",
       "2164                        0                           0   \n",
       "1667                        0                           0   \n",
       "\n",
       "      Lead Source_Facebook  ...  Tags_Will revert after reading the email  \\\n",
       "9196                     0  ...                                         0   \n",
       "4696                     0  ...                                         0   \n",
       "3274                     0  ...                                         0   \n",
       "2164                     0  ...                                         0   \n",
       "1667                     0  ...                                         1   \n",
       "\n",
       "      Tags_switched off  Last Notable Activity_Email Bounced  \\\n",
       "9196                  0                                    0   \n",
       "4696                  0                                    0   \n",
       "3274                  0                                    0   \n",
       "2164                  0                                    0   \n",
       "1667                  0                                    0   \n",
       "\n",
       "      Last Notable Activity_Email Link Clicked  \\\n",
       "9196                                         0   \n",
       "4696                                         0   \n",
       "3274                                         0   \n",
       "2164                                         0   \n",
       "1667                                         0   \n",
       "\n",
       "      Last Notable Activity_Email Opened  Last Notable Activity_Modified  \\\n",
       "9196                                   0                               0   \n",
       "4696                                   0                               0   \n",
       "3274                                   0                               0   \n",
       "2164                                   0                               1   \n",
       "1667                                   1                               0   \n",
       "\n",
       "      Last Notable Activity_Olark Chat Conversation  \\\n",
       "9196                                              0   \n",
       "4696                                              0   \n",
       "3274                                              0   \n",
       "2164                                              0   \n",
       "1667                                              0   \n",
       "\n",
       "      Last Notable Activity_Page Visited on Website  \\\n",
       "9196                                              0   \n",
       "4696                                              0   \n",
       "3274                                              0   \n",
       "2164                                              0   \n",
       "1667                                              0   \n",
       "\n",
       "      Last Notable Activity_SMS Sent  Last Notable Activity_Unsubscribed  \n",
       "9196                               1                                   0  \n",
       "4696                               1                                   0  \n",
       "3274                               1                                   0  \n",
       "2164                               0                                   0  \n",
       "1667                               0                                   0  \n",
       "\n",
       "[5 rows x 65 columns]"
      ]
     },
     "execution_count": 106,
     "metadata": {},
     "output_type": "execute_result"
    }
   ],
   "source": [
    "scaler = StandardScaler()\n",
    "\n",
    "X_train[['TotalVisits', 'Total Time Spent on Website', 'Page Views Per Visit']] = scaler.fit_transform(X_train[['TotalVisits', 'Total Time Spent on Website', 'Page Views Per Visit']])\n",
    "\n",
    "X_train.head()"
   ]
  },
  {
   "cell_type": "code",
   "execution_count": 107,
   "id": "4e94d699",
   "metadata": {},
   "outputs": [
    {
     "data": {
      "text/plain": [
       "37.92025019546521"
      ]
     },
     "execution_count": 107,
     "metadata": {},
     "output_type": "execute_result"
    }
   ],
   "source": [
    "# Checking for conversion rate\n",
    "Coversion = (sum(leads['Converted'])/len(leads['Converted'].index))*100\n",
    "Coversion"
   ]
  },
  {
   "cell_type": "markdown",
   "id": "e15ec935",
   "metadata": {},
   "source": [
    "<div class=\"alert-info\">\n",
    "From the dataset, we can see that conversion rate is almost 38%\n",
    "\n",
    " </div>"
   ]
  },
  {
   "cell_type": "markdown",
   "id": "8617e347",
   "metadata": {},
   "source": [
    "## MODEL BUILDING"
   ]
  },
  {
   "cell_type": "code",
   "execution_count": 108,
   "id": "6a88c1a7",
   "metadata": {},
   "outputs": [],
   "source": [
    "import statsmodels.api as sm"
   ]
  },
  {
   "cell_type": "code",
   "execution_count": 109,
   "id": "32201c30",
   "metadata": {},
   "outputs": [
    {
     "data": {
      "text/html": [
       "<table class=\"simpletable\">\n",
       "<caption>Generalized Linear Model Regression Results</caption>\n",
       "<tr>\n",
       "  <th>Dep. Variable:</th>       <td>Converted</td>    <th>  No. Observations:  </th>  <td>  6267</td> \n",
       "</tr>\n",
       "<tr>\n",
       "  <th>Model:</th>                  <td>GLM</td>       <th>  Df Residuals:      </th>  <td>  6201</td> \n",
       "</tr>\n",
       "<tr>\n",
       "  <th>Model Family:</th>        <td>Binomial</td>     <th>  Df Model:          </th>  <td>    65</td> \n",
       "</tr>\n",
       "<tr>\n",
       "  <th>Link Function:</th>         <td>Logit</td>      <th>  Scale:             </th> <td>  1.0000</td>\n",
       "</tr>\n",
       "<tr>\n",
       "  <th>Method:</th>                <td>IRLS</td>       <th>  Log-Likelihood:    </th> <td> -1292.2</td>\n",
       "</tr>\n",
       "<tr>\n",
       "  <th>Date:</th>            <td>Sun, 26 Feb 2023</td> <th>  Deviance:          </th> <td>  2584.3</td>\n",
       "</tr>\n",
       "<tr>\n",
       "  <th>Time:</th>                <td>14:33:17</td>     <th>  Pearson chi2:      </th> <td>9.34e+03</td>\n",
       "</tr>\n",
       "<tr>\n",
       "  <th>No. Iterations:</th>         <td>21</td>        <th>  Pseudo R-squ. (CS):</th>  <td>0.6000</td> \n",
       "</tr>\n",
       "<tr>\n",
       "  <th>Covariance Type:</th>     <td>nonrobust</td>    <th>                     </th>     <td> </td>   \n",
       "</tr>\n",
       "</table>\n",
       "<table class=\"simpletable\">\n",
       "<tr>\n",
       "                          <td></td>                            <th>coef</th>     <th>std err</th>      <th>z</th>      <th>P>|z|</th>  <th>[0.025</th>    <th>0.975]</th>  \n",
       "</tr>\n",
       "<tr>\n",
       "  <th>const</th>                                            <td>   -0.0998</td> <td>    1.890</td> <td>   -0.053</td> <td> 0.958</td> <td>   -3.804</td> <td>    3.605</td>\n",
       "</tr>\n",
       "<tr>\n",
       "  <th>Do Not Email</th>                                     <td>   -1.0433</td> <td>    0.303</td> <td>   -3.441</td> <td> 0.001</td> <td>   -1.638</td> <td>   -0.449</td>\n",
       "</tr>\n",
       "<tr>\n",
       "  <th>TotalVisits</th>                                      <td>    0.2719</td> <td>    0.074</td> <td>    3.692</td> <td> 0.000</td> <td>    0.128</td> <td>    0.416</td>\n",
       "</tr>\n",
       "<tr>\n",
       "  <th>Total Time Spent on Website</th>                      <td>    1.1173</td> <td>    0.061</td> <td>   18.281</td> <td> 0.000</td> <td>    0.997</td> <td>    1.237</td>\n",
       "</tr>\n",
       "<tr>\n",
       "  <th>Page Views Per Visit</th>                             <td>   -0.3696</td> <td>    0.091</td> <td>   -4.050</td> <td> 0.000</td> <td>   -0.548</td> <td>   -0.191</td>\n",
       "</tr>\n",
       "<tr>\n",
       "  <th>A free copy of Mastering The Interview</th>           <td>   -0.1149</td> <td>    0.175</td> <td>   -0.656</td> <td> 0.512</td> <td>   -0.458</td> <td>    0.229</td>\n",
       "</tr>\n",
       "<tr>\n",
       "  <th>Lead Origin_Landing Page Submission</th>              <td>   -0.5653</td> <td>    0.224</td> <td>   -2.526</td> <td> 0.012</td> <td>   -1.004</td> <td>   -0.127</td>\n",
       "</tr>\n",
       "<tr>\n",
       "  <th>Lead Origin_Lead Add Form</th>                        <td>    1.3198</td> <td>    1.146</td> <td>    1.152</td> <td> 0.249</td> <td>   -0.926</td> <td>    3.566</td>\n",
       "</tr>\n",
       "<tr>\n",
       "  <th>Lead Origin_Lead Import</th>                          <td>   22.8473</td> <td> 2.46e+04</td> <td>    0.001</td> <td> 0.999</td> <td>-4.82e+04</td> <td> 4.83e+04</td>\n",
       "</tr>\n",
       "<tr>\n",
       "  <th>Lead Source_Direct Traffic</th>                       <td>   -1.7127</td> <td>    0.922</td> <td>   -1.858</td> <td> 0.063</td> <td>   -3.519</td> <td>    0.094</td>\n",
       "</tr>\n",
       "<tr>\n",
       "  <th>Lead Source_Facebook</th>                             <td>  -23.7287</td> <td> 2.46e+04</td> <td>   -0.001</td> <td> 0.999</td> <td>-4.83e+04</td> <td> 4.82e+04</td>\n",
       "</tr>\n",
       "<tr>\n",
       "  <th>Lead Source_Google</th>                               <td>   -1.4873</td> <td>    0.913</td> <td>   -1.630</td> <td> 0.103</td> <td>   -3.276</td> <td>    0.301</td>\n",
       "</tr>\n",
       "<tr>\n",
       "  <th>Lead Source_Olark Chat</th>                           <td>   -0.6858</td> <td>    0.921</td> <td>   -0.745</td> <td> 0.456</td> <td>   -2.490</td> <td>    1.119</td>\n",
       "</tr>\n",
       "<tr>\n",
       "  <th>Lead Source_Organic Search</th>                       <td>   -1.5955</td> <td>    0.927</td> <td>   -1.721</td> <td> 0.085</td> <td>   -3.412</td> <td>    0.221</td>\n",
       "</tr>\n",
       "<tr>\n",
       "  <th>Lead Source_Reference</th>                            <td>   -1.5212</td> <td>    1.014</td> <td>   -1.501</td> <td> 0.133</td> <td>   -3.508</td> <td>    0.465</td>\n",
       "</tr>\n",
       "<tr>\n",
       "  <th>Lead Source_Referral Sites</th>                       <td>   -1.8407</td> <td>    1.028</td> <td>   -1.790</td> <td> 0.073</td> <td>   -3.856</td> <td>    0.175</td>\n",
       "</tr>\n",
       "<tr>\n",
       "  <th>Lead Source_Welingak Website</th>                     <td>    3.0113</td> <td>    1.363</td> <td>    2.210</td> <td> 0.027</td> <td>    0.341</td> <td>    5.682</td>\n",
       "</tr>\n",
       "<tr>\n",
       "  <th>Specialization_Banking, Investment And Insurance</th> <td>    0.5353</td> <td>    0.359</td> <td>    1.491</td> <td> 0.136</td> <td>   -0.168</td> <td>    1.239</td>\n",
       "</tr>\n",
       "<tr>\n",
       "  <th>Specialization_Business Administration</th>           <td>    0.1057</td> <td>    0.331</td> <td>    0.320</td> <td> 0.749</td> <td>   -0.542</td> <td>    0.754</td>\n",
       "</tr>\n",
       "<tr>\n",
       "  <th>Specialization_E-Business</th>                        <td>    0.1910</td> <td>    0.621</td> <td>    0.308</td> <td> 0.758</td> <td>   -1.026</td> <td>    1.408</td>\n",
       "</tr>\n",
       "<tr>\n",
       "  <th>Specialization_E-COMMERCE</th>                        <td>    0.3677</td> <td>    0.502</td> <td>    0.733</td> <td> 0.464</td> <td>   -0.616</td> <td>    1.351</td>\n",
       "</tr>\n",
       "<tr>\n",
       "  <th>Specialization_International Business</th>            <td>   -0.2021</td> <td>    0.446</td> <td>   -0.453</td> <td> 0.651</td> <td>   -1.077</td> <td>    0.673</td>\n",
       "</tr>\n",
       "<tr>\n",
       "  <th>Specialization_Management</th>                        <td>    0.0818</td> <td>    0.225</td> <td>    0.364</td> <td> 0.716</td> <td>   -0.359</td> <td>    0.523</td>\n",
       "</tr>\n",
       "<tr>\n",
       "  <th>Specialization_Media and Advertising</th>             <td>   -0.1586</td> <td>    0.399</td> <td>   -0.397</td> <td> 0.691</td> <td>   -0.941</td> <td>    0.624</td>\n",
       "</tr>\n",
       "<tr>\n",
       "  <th>Specialization_Rural and Agribusiness</th>            <td>    0.0554</td> <td>    0.740</td> <td>    0.075</td> <td> 0.940</td> <td>   -1.396</td> <td>    1.507</td>\n",
       "</tr>\n",
       "<tr>\n",
       "  <th>Specialization_Services Excellence</th>               <td>   -0.5749</td> <td>    0.820</td> <td>   -0.701</td> <td> 0.483</td> <td>   -2.182</td> <td>    1.032</td>\n",
       "</tr>\n",
       "<tr>\n",
       "  <th>Specialization_Travel and Tourism</th>                <td>   -1.0253</td> <td>    0.504</td> <td>   -2.032</td> <td> 0.042</td> <td>   -2.014</td> <td>   -0.037</td>\n",
       "</tr>\n",
       "<tr>\n",
       "  <th>Occupation_Businessman</th>                           <td>    0.8468</td> <td>    2.278</td> <td>    0.372</td> <td> 0.710</td> <td>   -3.619</td> <td>    5.312</td>\n",
       "</tr>\n",
       "<tr>\n",
       "  <th>Occupation_Housewife</th>                             <td>   20.4158</td> <td> 1.97e+04</td> <td>    0.001</td> <td> 0.999</td> <td>-3.85e+04</td> <td> 3.85e+04</td>\n",
       "</tr>\n",
       "<tr>\n",
       "  <th>Occupation_Student</th>                               <td>    1.4023</td> <td>    1.651</td> <td>    0.849</td> <td> 0.396</td> <td>   -1.834</td> <td>    4.638</td>\n",
       "</tr>\n",
       "<tr>\n",
       "  <th>Occupation_Unemployed</th>                            <td>    0.8758</td> <td>    1.527</td> <td>    0.574</td> <td> 0.566</td> <td>   -2.117</td> <td>    3.868</td>\n",
       "</tr>\n",
       "<tr>\n",
       "  <th>Occupation_Working Professional</th>                  <td>    2.0127</td> <td>    1.571</td> <td>    1.281</td> <td> 0.200</td> <td>   -1.067</td> <td>    5.092</td>\n",
       "</tr>\n",
       "<tr>\n",
       "  <th>City_Mumbai</th>                                      <td>   -0.0619</td> <td>    0.217</td> <td>   -0.285</td> <td> 0.776</td> <td>   -0.488</td> <td>    0.364</td>\n",
       "</tr>\n",
       "<tr>\n",
       "  <th>City_Other Cities of Maharashtra</th>                 <td>   -0.1822</td> <td>    0.323</td> <td>   -0.564</td> <td> 0.572</td> <td>   -0.815</td> <td>    0.450</td>\n",
       "</tr>\n",
       "<tr>\n",
       "  <th>City_Other Metro Cities</th>                          <td>   -0.2726</td> <td>    0.332</td> <td>   -0.822</td> <td> 0.411</td> <td>   -0.922</td> <td>    0.377</td>\n",
       "</tr>\n",
       "<tr>\n",
       "  <th>City_Thane & Outskirts</th>                           <td>   -0.1430</td> <td>    0.279</td> <td>   -0.513</td> <td> 0.608</td> <td>   -0.689</td> <td>    0.403</td>\n",
       "</tr>\n",
       "<tr>\n",
       "  <th>City_Tier II Cities</th>                              <td>    0.0972</td> <td>    0.585</td> <td>    0.166</td> <td> 0.868</td> <td>   -1.049</td> <td>    1.244</td>\n",
       "</tr>\n",
       "<tr>\n",
       "  <th>Last Activity_Converted to Lead</th>                  <td>   -0.7278</td> <td>    0.727</td> <td>   -1.001</td> <td> 0.317</td> <td>   -2.154</td> <td>    0.698</td>\n",
       "</tr>\n",
       "<tr>\n",
       "  <th>Last Activity_Email Bounced</th>                      <td>   -1.2976</td> <td>    0.975</td> <td>   -1.331</td> <td> 0.183</td> <td>   -3.209</td> <td>    0.614</td>\n",
       "</tr>\n",
       "<tr>\n",
       "  <th>Last Activity_Email Link Clicked</th>                 <td>    0.0545</td> <td>    0.843</td> <td>    0.065</td> <td> 0.948</td> <td>   -1.599</td> <td>    1.708</td>\n",
       "</tr>\n",
       "<tr>\n",
       "  <th>Last Activity_Email Opened</th>                       <td>    0.3317</td> <td>    0.688</td> <td>    0.482</td> <td> 0.630</td> <td>   -1.016</td> <td>    1.680</td>\n",
       "</tr>\n",
       "<tr>\n",
       "  <th>Last Activity_Form Submitted on Website</th>          <td>    0.3576</td> <td>    0.777</td> <td>    0.460</td> <td> 0.646</td> <td>   -1.166</td> <td>    1.881</td>\n",
       "</tr>\n",
       "<tr>\n",
       "  <th>Last Activity_Olark Chat Conversation</th>            <td>   -1.2447</td> <td>    0.706</td> <td>   -1.762</td> <td> 0.078</td> <td>   -2.629</td> <td>    0.140</td>\n",
       "</tr>\n",
       "<tr>\n",
       "  <th>Last Activity_Page Visited on Website</th>            <td>   -0.7711</td> <td>    0.757</td> <td>   -1.018</td> <td> 0.309</td> <td>   -2.255</td> <td>    0.713</td>\n",
       "</tr>\n",
       "<tr>\n",
       "  <th>Last Activity_SMS Sent</th>                           <td>    0.7559</td> <td>    0.688</td> <td>    1.099</td> <td> 0.272</td> <td>   -0.592</td> <td>    2.103</td>\n",
       "</tr>\n",
       "<tr>\n",
       "  <th>Last Activity_Unsubscribed</th>                       <td>   -2.9156</td> <td>    4.591</td> <td>   -0.635</td> <td> 0.525</td> <td>  -11.915</td> <td>    6.083</td>\n",
       "</tr>\n",
       "<tr>\n",
       "  <th>Tags_Already a student</th>                           <td>   -3.4343</td> <td>    0.744</td> <td>   -4.619</td> <td> 0.000</td> <td>   -4.892</td> <td>   -1.977</td>\n",
       "</tr>\n",
       "<tr>\n",
       "  <th>Tags_Busy</th>                                        <td>    0.8684</td> <td>    0.237</td> <td>    3.666</td> <td> 0.000</td> <td>    0.404</td> <td>    1.333</td>\n",
       "</tr>\n",
       "<tr>\n",
       "  <th>Tags_Closed by Horizzon</th>                          <td>    6.7836</td> <td>    1.035</td> <td>    6.556</td> <td> 0.000</td> <td>    4.755</td> <td>    8.812</td>\n",
       "</tr>\n",
       "<tr>\n",
       "  <th>Tags_Diploma holder (Not Eligible)</th>               <td>   -2.1091</td> <td>    1.065</td> <td>   -1.980</td> <td> 0.048</td> <td>   -4.197</td> <td>   -0.021</td>\n",
       "</tr>\n",
       "<tr>\n",
       "  <th>Tags_Graduation in progress</th>                      <td>   -0.8295</td> <td>    0.516</td> <td>   -1.608</td> <td> 0.108</td> <td>   -1.841</td> <td>    0.182</td>\n",
       "</tr>\n",
       "<tr>\n",
       "  <th>Tags_Interested  in full time MBA</th>                <td>   -1.6958</td> <td>    0.637</td> <td>   -2.663</td> <td> 0.008</td> <td>   -2.944</td> <td>   -0.448</td>\n",
       "</tr>\n",
       "<tr>\n",
       "  <th>Tags_Interested in other courses</th>                 <td>   -2.3636</td> <td>    0.405</td> <td>   -5.831</td> <td> 0.000</td> <td>   -3.158</td> <td>   -1.569</td>\n",
       "</tr>\n",
       "<tr>\n",
       "  <th>Tags_Not doing further education</th>                 <td>   -2.2223</td> <td>    1.026</td> <td>   -2.166</td> <td> 0.030</td> <td>   -4.233</td> <td>   -0.212</td>\n",
       "</tr>\n",
       "<tr>\n",
       "  <th>Tags_Others</th>                                      <td>    1.2515</td> <td>    0.175</td> <td>    7.150</td> <td> 0.000</td> <td>    0.908</td> <td>    1.595</td>\n",
       "</tr>\n",
       "<tr>\n",
       "  <th>Tags_Ringing</th>                                     <td>   -3.2551</td> <td>    0.245</td> <td>  -13.278</td> <td> 0.000</td> <td>   -3.736</td> <td>   -2.775</td>\n",
       "</tr>\n",
       "<tr>\n",
       "  <th>Tags_Will revert after reading the email</th>         <td>    4.5185</td> <td>    0.206</td> <td>   21.936</td> <td> 0.000</td> <td>    4.115</td> <td>    4.922</td>\n",
       "</tr>\n",
       "<tr>\n",
       "  <th>Tags_switched off</th>                                <td>   -3.6500</td> <td>    0.621</td> <td>   -5.876</td> <td> 0.000</td> <td>   -4.868</td> <td>   -2.432</td>\n",
       "</tr>\n",
       "<tr>\n",
       "  <th>Last Notable Activity_Email Bounced</th>              <td>    1.5890</td> <td>    1.233</td> <td>    1.288</td> <td> 0.198</td> <td>   -0.828</td> <td>    4.006</td>\n",
       "</tr>\n",
       "<tr>\n",
       "  <th>Last Notable Activity_Email Link Clicked</th>         <td>   -1.5554</td> <td>    1.081</td> <td>   -1.438</td> <td> 0.150</td> <td>   -3.675</td> <td>    0.564</td>\n",
       "</tr>\n",
       "<tr>\n",
       "  <th>Last Notable Activity_Email Opened</th>               <td>   -0.8790</td> <td>    0.882</td> <td>   -0.997</td> <td> 0.319</td> <td>   -2.608</td> <td>    0.850</td>\n",
       "</tr>\n",
       "<tr>\n",
       "  <th>Last Notable Activity_Modified</th>                   <td>   -1.1106</td> <td>    0.860</td> <td>   -1.292</td> <td> 0.196</td> <td>   -2.796</td> <td>    0.575</td>\n",
       "</tr>\n",
       "<tr>\n",
       "  <th>Last Notable Activity_Olark Chat Conversation</th>    <td>   -1.3866</td> <td>    1.005</td> <td>   -1.380</td> <td> 0.168</td> <td>   -3.356</td> <td>    0.582</td>\n",
       "</tr>\n",
       "<tr>\n",
       "  <th>Last Notable Activity_Page Visited on Website</th>    <td>   -0.3685</td> <td>    0.984</td> <td>   -0.374</td> <td> 0.708</td> <td>   -2.297</td> <td>    1.560</td>\n",
       "</tr>\n",
       "<tr>\n",
       "  <th>Last Notable Activity_SMS Sent</th>                   <td>    0.7651</td> <td>    0.885</td> <td>    0.865</td> <td> 0.387</td> <td>   -0.969</td> <td>    2.499</td>\n",
       "</tr>\n",
       "<tr>\n",
       "  <th>Last Notable Activity_Unsubscribed</th>               <td>    2.6199</td> <td>    4.683</td> <td>    0.559</td> <td> 0.576</td> <td>   -6.559</td> <td>   11.799</td>\n",
       "</tr>\n",
       "</table>"
      ],
      "text/plain": [
       "<class 'statsmodels.iolib.summary.Summary'>\n",
       "\"\"\"\n",
       "                 Generalized Linear Model Regression Results                  \n",
       "==============================================================================\n",
       "Dep. Variable:              Converted   No. Observations:                 6267\n",
       "Model:                            GLM   Df Residuals:                     6201\n",
       "Model Family:                Binomial   Df Model:                           65\n",
       "Link Function:                  Logit   Scale:                          1.0000\n",
       "Method:                          IRLS   Log-Likelihood:                -1292.2\n",
       "Date:                Sun, 26 Feb 2023   Deviance:                       2584.3\n",
       "Time:                        14:33:17   Pearson chi2:                 9.34e+03\n",
       "No. Iterations:                    21   Pseudo R-squ. (CS):             0.6000\n",
       "Covariance Type:            nonrobust                                         \n",
       "====================================================================================================================\n",
       "                                                       coef    std err          z      P>|z|      [0.025      0.975]\n",
       "--------------------------------------------------------------------------------------------------------------------\n",
       "const                                               -0.0998      1.890     -0.053      0.958      -3.804       3.605\n",
       "Do Not Email                                        -1.0433      0.303     -3.441      0.001      -1.638      -0.449\n",
       "TotalVisits                                          0.2719      0.074      3.692      0.000       0.128       0.416\n",
       "Total Time Spent on Website                          1.1173      0.061     18.281      0.000       0.997       1.237\n",
       "Page Views Per Visit                                -0.3696      0.091     -4.050      0.000      -0.548      -0.191\n",
       "A free copy of Mastering The Interview              -0.1149      0.175     -0.656      0.512      -0.458       0.229\n",
       "Lead Origin_Landing Page Submission                 -0.5653      0.224     -2.526      0.012      -1.004      -0.127\n",
       "Lead Origin_Lead Add Form                            1.3198      1.146      1.152      0.249      -0.926       3.566\n",
       "Lead Origin_Lead Import                             22.8473   2.46e+04      0.001      0.999   -4.82e+04    4.83e+04\n",
       "Lead Source_Direct Traffic                          -1.7127      0.922     -1.858      0.063      -3.519       0.094\n",
       "Lead Source_Facebook                               -23.7287   2.46e+04     -0.001      0.999   -4.83e+04    4.82e+04\n",
       "Lead Source_Google                                  -1.4873      0.913     -1.630      0.103      -3.276       0.301\n",
       "Lead Source_Olark Chat                              -0.6858      0.921     -0.745      0.456      -2.490       1.119\n",
       "Lead Source_Organic Search                          -1.5955      0.927     -1.721      0.085      -3.412       0.221\n",
       "Lead Source_Reference                               -1.5212      1.014     -1.501      0.133      -3.508       0.465\n",
       "Lead Source_Referral Sites                          -1.8407      1.028     -1.790      0.073      -3.856       0.175\n",
       "Lead Source_Welingak Website                         3.0113      1.363      2.210      0.027       0.341       5.682\n",
       "Specialization_Banking, Investment And Insurance     0.5353      0.359      1.491      0.136      -0.168       1.239\n",
       "Specialization_Business Administration               0.1057      0.331      0.320      0.749      -0.542       0.754\n",
       "Specialization_E-Business                            0.1910      0.621      0.308      0.758      -1.026       1.408\n",
       "Specialization_E-COMMERCE                            0.3677      0.502      0.733      0.464      -0.616       1.351\n",
       "Specialization_International Business               -0.2021      0.446     -0.453      0.651      -1.077       0.673\n",
       "Specialization_Management                            0.0818      0.225      0.364      0.716      -0.359       0.523\n",
       "Specialization_Media and Advertising                -0.1586      0.399     -0.397      0.691      -0.941       0.624\n",
       "Specialization_Rural and Agribusiness                0.0554      0.740      0.075      0.940      -1.396       1.507\n",
       "Specialization_Services Excellence                  -0.5749      0.820     -0.701      0.483      -2.182       1.032\n",
       "Specialization_Travel and Tourism                   -1.0253      0.504     -2.032      0.042      -2.014      -0.037\n",
       "Occupation_Businessman                               0.8468      2.278      0.372      0.710      -3.619       5.312\n",
       "Occupation_Housewife                                20.4158   1.97e+04      0.001      0.999   -3.85e+04    3.85e+04\n",
       "Occupation_Student                                   1.4023      1.651      0.849      0.396      -1.834       4.638\n",
       "Occupation_Unemployed                                0.8758      1.527      0.574      0.566      -2.117       3.868\n",
       "Occupation_Working Professional                      2.0127      1.571      1.281      0.200      -1.067       5.092\n",
       "City_Mumbai                                         -0.0619      0.217     -0.285      0.776      -0.488       0.364\n",
       "City_Other Cities of Maharashtra                    -0.1822      0.323     -0.564      0.572      -0.815       0.450\n",
       "City_Other Metro Cities                             -0.2726      0.332     -0.822      0.411      -0.922       0.377\n",
       "City_Thane & Outskirts                              -0.1430      0.279     -0.513      0.608      -0.689       0.403\n",
       "City_Tier II Cities                                  0.0972      0.585      0.166      0.868      -1.049       1.244\n",
       "Last Activity_Converted to Lead                     -0.7278      0.727     -1.001      0.317      -2.154       0.698\n",
       "Last Activity_Email Bounced                         -1.2976      0.975     -1.331      0.183      -3.209       0.614\n",
       "Last Activity_Email Link Clicked                     0.0545      0.843      0.065      0.948      -1.599       1.708\n",
       "Last Activity_Email Opened                           0.3317      0.688      0.482      0.630      -1.016       1.680\n",
       "Last Activity_Form Submitted on Website              0.3576      0.777      0.460      0.646      -1.166       1.881\n",
       "Last Activity_Olark Chat Conversation               -1.2447      0.706     -1.762      0.078      -2.629       0.140\n",
       "Last Activity_Page Visited on Website               -0.7711      0.757     -1.018      0.309      -2.255       0.713\n",
       "Last Activity_SMS Sent                               0.7559      0.688      1.099      0.272      -0.592       2.103\n",
       "Last Activity_Unsubscribed                          -2.9156      4.591     -0.635      0.525     -11.915       6.083\n",
       "Tags_Already a student                              -3.4343      0.744     -4.619      0.000      -4.892      -1.977\n",
       "Tags_Busy                                            0.8684      0.237      3.666      0.000       0.404       1.333\n",
       "Tags_Closed by Horizzon                              6.7836      1.035      6.556      0.000       4.755       8.812\n",
       "Tags_Diploma holder (Not Eligible)                  -2.1091      1.065     -1.980      0.048      -4.197      -0.021\n",
       "Tags_Graduation in progress                         -0.8295      0.516     -1.608      0.108      -1.841       0.182\n",
       "Tags_Interested  in full time MBA                   -1.6958      0.637     -2.663      0.008      -2.944      -0.448\n",
       "Tags_Interested in other courses                    -2.3636      0.405     -5.831      0.000      -3.158      -1.569\n",
       "Tags_Not doing further education                    -2.2223      1.026     -2.166      0.030      -4.233      -0.212\n",
       "Tags_Others                                          1.2515      0.175      7.150      0.000       0.908       1.595\n",
       "Tags_Ringing                                        -3.2551      0.245    -13.278      0.000      -3.736      -2.775\n",
       "Tags_Will revert after reading the email             4.5185      0.206     21.936      0.000       4.115       4.922\n",
       "Tags_switched off                                   -3.6500      0.621     -5.876      0.000      -4.868      -2.432\n",
       "Last Notable Activity_Email Bounced                  1.5890      1.233      1.288      0.198      -0.828       4.006\n",
       "Last Notable Activity_Email Link Clicked            -1.5554      1.081     -1.438      0.150      -3.675       0.564\n",
       "Last Notable Activity_Email Opened                  -0.8790      0.882     -0.997      0.319      -2.608       0.850\n",
       "Last Notable Activity_Modified                      -1.1106      0.860     -1.292      0.196      -2.796       0.575\n",
       "Last Notable Activity_Olark Chat Conversation       -1.3866      1.005     -1.380      0.168      -3.356       0.582\n",
       "Last Notable Activity_Page Visited on Website       -0.3685      0.984     -0.374      0.708      -2.297       1.560\n",
       "Last Notable Activity_SMS Sent                       0.7651      0.885      0.865      0.387      -0.969       2.499\n",
       "Last Notable Activity_Unsubscribed                   2.6199      4.683      0.559      0.576      -6.559      11.799\n",
       "====================================================================================================================\n",
       "\"\"\""
      ]
     },
     "execution_count": 109,
     "metadata": {},
     "output_type": "execute_result"
    }
   ],
   "source": [
    "# Logistic regression model\n",
    "logm1 = sm.GLM(y_train,(sm.add_constant(X_train)), family = sm.families.Binomial())\n",
    "logm1.fit().summary()"
   ]
  },
  {
   "cell_type": "markdown",
   "id": "55c78d34",
   "metadata": {},
   "source": [
    "## FEATURE SELECTION USING RFE"
   ]
  },
  {
   "cell_type": "code",
   "execution_count": 110,
   "id": "f2f82715",
   "metadata": {},
   "outputs": [],
   "source": [
    "from sklearn.linear_model import LogisticRegression\n",
    "\n",
    "log_reg = LogisticRegression()"
   ]
  },
  {
   "cell_type": "code",
   "execution_count": 111,
   "id": "07c535ad",
   "metadata": {},
   "outputs": [],
   "source": [
    "#select top 15 features using RFE\n",
    "\n",
    "from sklearn.feature_selection import RFE\n",
    "\n",
    "rfe = RFE(log_reg,n_features_to_select=15)\n",
    "\n",
    "rfe = rfe.fit(X_train, y_train)"
   ]
  },
  {
   "cell_type": "code",
   "execution_count": 112,
   "id": "0cc41346",
   "metadata": {},
   "outputs": [
    {
     "data": {
      "text/plain": [
       "array([ True, False, False, False, False, False,  True, False, False,\n",
       "       False, False, False, False, False,  True,  True, False, False,\n",
       "       False, False, False, False, False, False, False, False, False,\n",
       "       False, False, False, False, False, False, False, False, False,\n",
       "       False, False, False, False, False,  True, False, False, False,\n",
       "        True, False,  True,  True, False,  True,  True,  True, False,\n",
       "        True,  True,  True, False, False, False, False, False, False,\n",
       "        True, False])"
      ]
     },
     "execution_count": 112,
     "metadata": {},
     "output_type": "execute_result"
    }
   ],
   "source": [
    "rfe.support_"
   ]
  },
  {
   "cell_type": "code",
   "execution_count": 113,
   "id": "49914d3f",
   "metadata": {},
   "outputs": [
    {
     "data": {
      "text/plain": [
       "[('Do Not Email', True, 1),\n",
       " ('TotalVisits', False, 28),\n",
       " ('Total Time Spent on Website', False, 5),\n",
       " ('Page Views Per Visit', False, 27),\n",
       " ('A free copy of Mastering The Interview', False, 41),\n",
       " ('Lead Origin_Landing Page Submission', False, 17),\n",
       " ('Lead Origin_Lead Add Form', True, 1),\n",
       " ('Lead Origin_Lead Import', False, 31),\n",
       " ('Lead Source_Direct Traffic', False, 2),\n",
       " ('Lead Source_Facebook', False, 22),\n",
       " ('Lead Source_Google', False, 4),\n",
       " ('Lead Source_Olark Chat', False, 32),\n",
       " ('Lead Source_Organic Search', False, 3),\n",
       " ('Lead Source_Reference', False, 14),\n",
       " ('Lead Source_Referral Sites', True, 1),\n",
       " ('Lead Source_Welingak Website', True, 1),\n",
       " ('Specialization_Banking, Investment And Insurance', False, 21),\n",
       " ('Specialization_Business Administration', False, 43),\n",
       " ('Specialization_E-Business', False, 40),\n",
       " ('Specialization_E-COMMERCE', False, 29),\n",
       " ('Specialization_International Business', False, 45),\n",
       " ('Specialization_Management', False, 42),\n",
       " ('Specialization_Media and Advertising', False, 48),\n",
       " ('Specialization_Rural and Agribusiness', False, 47),\n",
       " ('Specialization_Services Excellence', False, 26),\n",
       " ('Specialization_Travel and Tourism', False, 6),\n",
       " ('Occupation_Businessman', False, 50),\n",
       " ('Occupation_Housewife', False, 30),\n",
       " ('Occupation_Student', False, 35),\n",
       " ('Occupation_Unemployed', False, 34),\n",
       " ('Occupation_Working Professional', False, 11),\n",
       " ('City_Mumbai', False, 51),\n",
       " ('City_Other Cities of Maharashtra', False, 39),\n",
       " ('City_Other Metro Cities', False, 33),\n",
       " ('City_Thane & Outskirts', False, 44),\n",
       " ('City_Tier II Cities', False, 46),\n",
       " ('Last Activity_Converted to Lead', False, 8),\n",
       " ('Last Activity_Email Bounced', False, 10),\n",
       " ('Last Activity_Email Link Clicked', False, 49),\n",
       " ('Last Activity_Email Opened', False, 24),\n",
       " ('Last Activity_Form Submitted on Website', False, 25),\n",
       " ('Last Activity_Olark Chat Conversation', True, 1),\n",
       " ('Last Activity_Page Visited on Website', False, 16),\n",
       " ('Last Activity_SMS Sent', False, 18),\n",
       " ('Last Activity_Unsubscribed', False, 38),\n",
       " ('Tags_Already a student', True, 1),\n",
       " ('Tags_Busy', False, 13),\n",
       " ('Tags_Closed by Horizzon', True, 1),\n",
       " ('Tags_Diploma holder (Not Eligible)', True, 1),\n",
       " ('Tags_Graduation in progress', False, 12),\n",
       " ('Tags_Interested  in full time MBA', True, 1),\n",
       " ('Tags_Interested in other courses', True, 1),\n",
       " ('Tags_Not doing further education', True, 1),\n",
       " ('Tags_Others', False, 7),\n",
       " ('Tags_Ringing', True, 1),\n",
       " ('Tags_Will revert after reading the email', True, 1),\n",
       " ('Tags_switched off', True, 1),\n",
       " ('Last Notable Activity_Email Bounced', False, 9),\n",
       " ('Last Notable Activity_Email Link Clicked', False, 15),\n",
       " ('Last Notable Activity_Email Opened', False, 23),\n",
       " ('Last Notable Activity_Modified', False, 20),\n",
       " ('Last Notable Activity_Olark Chat Conversation', False, 19),\n",
       " ('Last Notable Activity_Page Visited on Website', False, 36),\n",
       " ('Last Notable Activity_SMS Sent', True, 1),\n",
       " ('Last Notable Activity_Unsubscribed', False, 37)]"
      ]
     },
     "execution_count": 113,
     "metadata": {},
     "output_type": "execute_result"
    }
   ],
   "source": [
    "list(zip(X_train.columns, rfe.support_, rfe.ranking_))"
   ]
  },
  {
   "cell_type": "code",
   "execution_count": 114,
   "id": "6b6cd2c3",
   "metadata": {},
   "outputs": [
    {
     "data": {
      "text/plain": [
       "Index(['Do Not Email', 'Lead Origin_Lead Add Form',\n",
       "       'Lead Source_Referral Sites', 'Lead Source_Welingak Website',\n",
       "       'Last Activity_Olark Chat Conversation', 'Tags_Already a student',\n",
       "       'Tags_Closed by Horizzon', 'Tags_Diploma holder (Not Eligible)',\n",
       "       'Tags_Interested  in full time MBA', 'Tags_Interested in other courses',\n",
       "       'Tags_Not doing further education', 'Tags_Ringing',\n",
       "       'Tags_Will revert after reading the email', 'Tags_switched off',\n",
       "       'Last Notable Activity_SMS Sent'],\n",
       "      dtype='object')"
      ]
     },
     "execution_count": 114,
     "metadata": {},
     "output_type": "execute_result"
    }
   ],
   "source": [
    "cols = X_train.columns[rfe.support_]\n",
    "cols"
   ]
  },
  {
   "cell_type": "code",
   "execution_count": 115,
   "id": "1d900fb1",
   "metadata": {},
   "outputs": [
    {
     "data": {
      "text/plain": [
       "Index(['TotalVisits', 'Total Time Spent on Website', 'Page Views Per Visit',\n",
       "       'A free copy of Mastering The Interview',\n",
       "       'Lead Origin_Landing Page Submission', 'Lead Origin_Lead Import',\n",
       "       'Lead Source_Direct Traffic', 'Lead Source_Facebook',\n",
       "       'Lead Source_Google', 'Lead Source_Olark Chat',\n",
       "       'Lead Source_Organic Search', 'Lead Source_Reference',\n",
       "       'Specialization_Banking, Investment And Insurance',\n",
       "       'Specialization_Business Administration', 'Specialization_E-Business',\n",
       "       'Specialization_E-COMMERCE', 'Specialization_International Business',\n",
       "       'Specialization_Management', 'Specialization_Media and Advertising',\n",
       "       'Specialization_Rural and Agribusiness',\n",
       "       'Specialization_Services Excellence',\n",
       "       'Specialization_Travel and Tourism', 'Occupation_Businessman',\n",
       "       'Occupation_Housewife', 'Occupation_Student', 'Occupation_Unemployed',\n",
       "       'Occupation_Working Professional', 'City_Mumbai',\n",
       "       'City_Other Cities of Maharashtra', 'City_Other Metro Cities',\n",
       "       'City_Thane & Outskirts', 'City_Tier II Cities',\n",
       "       'Last Activity_Converted to Lead', 'Last Activity_Email Bounced',\n",
       "       'Last Activity_Email Link Clicked', 'Last Activity_Email Opened',\n",
       "       'Last Activity_Form Submitted on Website',\n",
       "       'Last Activity_Page Visited on Website', 'Last Activity_SMS Sent',\n",
       "       'Last Activity_Unsubscribed', 'Tags_Busy',\n",
       "       'Tags_Graduation in progress', 'Tags_Others',\n",
       "       'Last Notable Activity_Email Bounced',\n",
       "       'Last Notable Activity_Email Link Clicked',\n",
       "       'Last Notable Activity_Email Opened', 'Last Notable Activity_Modified',\n",
       "       'Last Notable Activity_Olark Chat Conversation',\n",
       "       'Last Notable Activity_Page Visited on Website',\n",
       "       'Last Notable Activity_Unsubscribed'],\n",
       "      dtype='object')"
      ]
     },
     "execution_count": 115,
     "metadata": {},
     "output_type": "execute_result"
    }
   ],
   "source": [
    "X_train.columns[~rfe.support_]"
   ]
  },
  {
   "cell_type": "markdown",
   "id": "9366823b",
   "metadata": {},
   "source": [
    "## Assessing the model with StatsModels"
   ]
  },
  {
   "cell_type": "code",
   "execution_count": 116,
   "id": "33aeffc4",
   "metadata": {},
   "outputs": [
    {
     "data": {
      "text/html": [
       "<table class=\"simpletable\">\n",
       "<caption>Generalized Linear Model Regression Results</caption>\n",
       "<tr>\n",
       "  <th>Dep. Variable:</th>       <td>Converted</td>    <th>  No. Observations:  </th>  <td>  6267</td> \n",
       "</tr>\n",
       "<tr>\n",
       "  <th>Model:</th>                  <td>GLM</td>       <th>  Df Residuals:      </th>  <td>  6251</td> \n",
       "</tr>\n",
       "<tr>\n",
       "  <th>Model Family:</th>        <td>Binomial</td>     <th>  Df Model:          </th>  <td>    15</td> \n",
       "</tr>\n",
       "<tr>\n",
       "  <th>Link Function:</th>         <td>Logit</td>      <th>  Scale:             </th> <td>  1.0000</td>\n",
       "</tr>\n",
       "<tr>\n",
       "  <th>Method:</th>                <td>IRLS</td>       <th>  Log-Likelihood:    </th> <td> -1610.0</td>\n",
       "</tr>\n",
       "<tr>\n",
       "  <th>Date:</th>            <td>Sun, 26 Feb 2023</td> <th>  Deviance:          </th> <td>  3219.9</td>\n",
       "</tr>\n",
       "<tr>\n",
       "  <th>Time:</th>                <td>14:33:39</td>     <th>  Pearson chi2:      </th> <td>8.08e+03</td>\n",
       "</tr>\n",
       "<tr>\n",
       "  <th>No. Iterations:</th>          <td>8</td>        <th>  Pseudo R-squ. (CS):</th>  <td>0.5573</td> \n",
       "</tr>\n",
       "<tr>\n",
       "  <th>Covariance Type:</th>     <td>nonrobust</td>    <th>                     </th>     <td> </td>   \n",
       "</tr>\n",
       "</table>\n",
       "<table class=\"simpletable\">\n",
       "<tr>\n",
       "                      <td></td>                        <th>coef</th>     <th>std err</th>      <th>z</th>      <th>P>|z|</th>  <th>[0.025</th>    <th>0.975]</th>  \n",
       "</tr>\n",
       "<tr>\n",
       "  <th>const</th>                                    <td>   -1.3094</td> <td>    0.060</td> <td>  -21.878</td> <td> 0.000</td> <td>   -1.427</td> <td>   -1.192</td>\n",
       "</tr>\n",
       "<tr>\n",
       "  <th>Do Not Email</th>                             <td>   -1.3051</td> <td>    0.206</td> <td>   -6.340</td> <td> 0.000</td> <td>   -1.709</td> <td>   -0.902</td>\n",
       "</tr>\n",
       "<tr>\n",
       "  <th>Lead Origin_Lead Add Form</th>                <td>    1.4355</td> <td>    0.371</td> <td>    3.866</td> <td> 0.000</td> <td>    0.708</td> <td>    2.163</td>\n",
       "</tr>\n",
       "<tr>\n",
       "  <th>Lead Source_Referral Sites</th>               <td>   -0.3761</td> <td>    0.422</td> <td>   -0.892</td> <td> 0.372</td> <td>   -1.202</td> <td>    0.450</td>\n",
       "</tr>\n",
       "<tr>\n",
       "  <th>Lead Source_Welingak Website</th>             <td>    3.6796</td> <td>    1.080</td> <td>    3.408</td> <td> 0.001</td> <td>    1.563</td> <td>    5.796</td>\n",
       "</tr>\n",
       "<tr>\n",
       "  <th>Last Activity_Olark Chat Conversation</th>    <td>   -1.5142</td> <td>    0.197</td> <td>   -7.676</td> <td> 0.000</td> <td>   -1.901</td> <td>   -1.128</td>\n",
       "</tr>\n",
       "<tr>\n",
       "  <th>Tags_Already a student</th>                   <td>   -3.5517</td> <td>    0.712</td> <td>   -4.989</td> <td> 0.000</td> <td>   -4.947</td> <td>   -2.156</td>\n",
       "</tr>\n",
       "<tr>\n",
       "  <th>Tags_Closed by Horizzon</th>                  <td>    6.2905</td> <td>    1.008</td> <td>    6.242</td> <td> 0.000</td> <td>    4.315</td> <td>    8.266</td>\n",
       "</tr>\n",
       "<tr>\n",
       "  <th>Tags_Diploma holder (Not Eligible)</th>       <td>   -2.2027</td> <td>    1.017</td> <td>   -2.165</td> <td> 0.030</td> <td>   -4.197</td> <td>   -0.209</td>\n",
       "</tr>\n",
       "<tr>\n",
       "  <th>Tags_Interested  in full time MBA</th>        <td>   -1.7353</td> <td>    0.593</td> <td>   -2.926</td> <td> 0.003</td> <td>   -2.897</td> <td>   -0.573</td>\n",
       "</tr>\n",
       "<tr>\n",
       "  <th>Tags_Interested in other courses</th>         <td>   -2.2978</td> <td>    0.367</td> <td>   -6.264</td> <td> 0.000</td> <td>   -3.017</td> <td>   -1.579</td>\n",
       "</tr>\n",
       "<tr>\n",
       "  <th>Tags_Not doing further education</th>         <td>   -2.8276</td> <td>    1.009</td> <td>   -2.803</td> <td> 0.005</td> <td>   -4.805</td> <td>   -0.850</td>\n",
       "</tr>\n",
       "<tr>\n",
       "  <th>Tags_Ringing</th>                             <td>   -3.4116</td> <td>    0.228</td> <td>  -14.953</td> <td> 0.000</td> <td>   -3.859</td> <td>   -2.964</td>\n",
       "</tr>\n",
       "<tr>\n",
       "  <th>Tags_Will revert after reading the email</th> <td>    4.2576</td> <td>    0.169</td> <td>   25.206</td> <td> 0.000</td> <td>    3.927</td> <td>    4.589</td>\n",
       "</tr>\n",
       "<tr>\n",
       "  <th>Tags_switched off</th>                        <td>   -3.9123</td> <td>    0.594</td> <td>   -6.588</td> <td> 0.000</td> <td>   -5.076</td> <td>   -2.748</td>\n",
       "</tr>\n",
       "<tr>\n",
       "  <th>Last Notable Activity_SMS Sent</th>           <td>    2.1971</td> <td>    0.111</td> <td>   19.707</td> <td> 0.000</td> <td>    1.979</td> <td>    2.416</td>\n",
       "</tr>\n",
       "</table>"
      ],
      "text/plain": [
       "<class 'statsmodels.iolib.summary.Summary'>\n",
       "\"\"\"\n",
       "                 Generalized Linear Model Regression Results                  \n",
       "==============================================================================\n",
       "Dep. Variable:              Converted   No. Observations:                 6267\n",
       "Model:                            GLM   Df Residuals:                     6251\n",
       "Model Family:                Binomial   Df Model:                           15\n",
       "Link Function:                  Logit   Scale:                          1.0000\n",
       "Method:                          IRLS   Log-Likelihood:                -1610.0\n",
       "Date:                Sun, 26 Feb 2023   Deviance:                       3219.9\n",
       "Time:                        14:33:39   Pearson chi2:                 8.08e+03\n",
       "No. Iterations:                     8   Pseudo R-squ. (CS):             0.5573\n",
       "Covariance Type:            nonrobust                                         \n",
       "============================================================================================================\n",
       "                                               coef    std err          z      P>|z|      [0.025      0.975]\n",
       "------------------------------------------------------------------------------------------------------------\n",
       "const                                       -1.3094      0.060    -21.878      0.000      -1.427      -1.192\n",
       "Do Not Email                                -1.3051      0.206     -6.340      0.000      -1.709      -0.902\n",
       "Lead Origin_Lead Add Form                    1.4355      0.371      3.866      0.000       0.708       2.163\n",
       "Lead Source_Referral Sites                  -0.3761      0.422     -0.892      0.372      -1.202       0.450\n",
       "Lead Source_Welingak Website                 3.6796      1.080      3.408      0.001       1.563       5.796\n",
       "Last Activity_Olark Chat Conversation       -1.5142      0.197     -7.676      0.000      -1.901      -1.128\n",
       "Tags_Already a student                      -3.5517      0.712     -4.989      0.000      -4.947      -2.156\n",
       "Tags_Closed by Horizzon                      6.2905      1.008      6.242      0.000       4.315       8.266\n",
       "Tags_Diploma holder (Not Eligible)          -2.2027      1.017     -2.165      0.030      -4.197      -0.209\n",
       "Tags_Interested  in full time MBA           -1.7353      0.593     -2.926      0.003      -2.897      -0.573\n",
       "Tags_Interested in other courses            -2.2978      0.367     -6.264      0.000      -3.017      -1.579\n",
       "Tags_Not doing further education            -2.8276      1.009     -2.803      0.005      -4.805      -0.850\n",
       "Tags_Ringing                                -3.4116      0.228    -14.953      0.000      -3.859      -2.964\n",
       "Tags_Will revert after reading the email     4.2576      0.169     25.206      0.000       3.927       4.589\n",
       "Tags_switched off                           -3.9123      0.594     -6.588      0.000      -5.076      -2.748\n",
       "Last Notable Activity_SMS Sent               2.1971      0.111     19.707      0.000       1.979       2.416\n",
       "============================================================================================================\n",
       "\"\"\""
      ]
     },
     "execution_count": 116,
     "metadata": {},
     "output_type": "execute_result"
    }
   ],
   "source": [
    "X_train_sm = sm.add_constant(X_train[cols])\n",
    "logm2 = sm.GLM(y_train,X_train_sm, family = sm.families.Binomial())\n",
    "res = logm2.fit()\n",
    "res.summary()"
   ]
  },
  {
   "cell_type": "markdown",
   "id": "1d181421",
   "metadata": {},
   "source": [
    "\n",
    "<div class=\"alert-info\">\n",
    "    \n",
    "'Lead Source_Referral Sites' feature has higher p-value, hence we will drop this."
   ]
  },
  {
   "cell_type": "code",
   "execution_count": 117,
   "id": "5ba110d2",
   "metadata": {},
   "outputs": [
    {
     "data": {
      "text/html": [
       "<table class=\"simpletable\">\n",
       "<caption>Generalized Linear Model Regression Results</caption>\n",
       "<tr>\n",
       "  <th>Dep. Variable:</th>       <td>Converted</td>    <th>  No. Observations:  </th>  <td>  6267</td> \n",
       "</tr>\n",
       "<tr>\n",
       "  <th>Model:</th>                  <td>GLM</td>       <th>  Df Residuals:      </th>  <td>  6252</td> \n",
       "</tr>\n",
       "<tr>\n",
       "  <th>Model Family:</th>        <td>Binomial</td>     <th>  Df Model:          </th>  <td>    14</td> \n",
       "</tr>\n",
       "<tr>\n",
       "  <th>Link Function:</th>         <td>Logit</td>      <th>  Scale:             </th> <td>  1.0000</td>\n",
       "</tr>\n",
       "<tr>\n",
       "  <th>Method:</th>                <td>IRLS</td>       <th>  Log-Likelihood:    </th> <td> -1610.4</td>\n",
       "</tr>\n",
       "<tr>\n",
       "  <th>Date:</th>            <td>Sun, 26 Feb 2023</td> <th>  Deviance:          </th> <td>  3220.8</td>\n",
       "</tr>\n",
       "<tr>\n",
       "  <th>Time:</th>                <td>14:33:40</td>     <th>  Pearson chi2:      </th> <td>8.08e+03</td>\n",
       "</tr>\n",
       "<tr>\n",
       "  <th>No. Iterations:</th>          <td>8</td>        <th>  Pseudo R-squ. (CS):</th>  <td>0.5573</td> \n",
       "</tr>\n",
       "<tr>\n",
       "  <th>Covariance Type:</th>     <td>nonrobust</td>    <th>                     </th>     <td> </td>   \n",
       "</tr>\n",
       "</table>\n",
       "<table class=\"simpletable\">\n",
       "<tr>\n",
       "                      <td></td>                        <th>coef</th>     <th>std err</th>      <th>z</th>      <th>P>|z|</th>  <th>[0.025</th>    <th>0.975]</th>  \n",
       "</tr>\n",
       "<tr>\n",
       "  <th>const</th>                                    <td>   -1.3150</td> <td>    0.060</td> <td>  -22.073</td> <td> 0.000</td> <td>   -1.432</td> <td>   -1.198</td>\n",
       "</tr>\n",
       "<tr>\n",
       "  <th>Do Not Email</th>                             <td>   -1.3041</td> <td>    0.206</td> <td>   -6.338</td> <td> 0.000</td> <td>   -1.707</td> <td>   -0.901</td>\n",
       "</tr>\n",
       "<tr>\n",
       "  <th>Lead Origin_Lead Add Form</th>                <td>    1.4403</td> <td>    0.371</td> <td>    3.880</td> <td> 0.000</td> <td>    0.713</td> <td>    2.168</td>\n",
       "</tr>\n",
       "<tr>\n",
       "  <th>Lead Source_Welingak Website</th>             <td>    3.6798</td> <td>    1.080</td> <td>    3.408</td> <td> 0.001</td> <td>    1.563</td> <td>    5.796</td>\n",
       "</tr>\n",
       "<tr>\n",
       "  <th>Last Activity_Olark Chat Conversation</th>    <td>   -1.5124</td> <td>    0.197</td> <td>   -7.660</td> <td> 0.000</td> <td>   -1.899</td> <td>   -1.125</td>\n",
       "</tr>\n",
       "<tr>\n",
       "  <th>Tags_Already a student</th>                   <td>   -3.5465</td> <td>    0.712</td> <td>   -4.981</td> <td> 0.000</td> <td>   -4.942</td> <td>   -2.151</td>\n",
       "</tr>\n",
       "<tr>\n",
       "  <th>Tags_Closed by Horizzon</th>                  <td>    6.2921</td> <td>    1.008</td> <td>    6.244</td> <td> 0.000</td> <td>    4.317</td> <td>    8.267</td>\n",
       "</tr>\n",
       "<tr>\n",
       "  <th>Tags_Diploma holder (Not Eligible)</th>       <td>   -2.1975</td> <td>    1.017</td> <td>   -2.160</td> <td> 0.031</td> <td>   -4.191</td> <td>   -0.204</td>\n",
       "</tr>\n",
       "<tr>\n",
       "  <th>Tags_Interested  in full time MBA</th>        <td>   -1.7346</td> <td>    0.593</td> <td>   -2.925</td> <td> 0.003</td> <td>   -2.897</td> <td>   -0.572</td>\n",
       "</tr>\n",
       "<tr>\n",
       "  <th>Tags_Interested in other courses</th>         <td>   -2.3226</td> <td>    0.367</td> <td>   -6.337</td> <td> 0.000</td> <td>   -3.041</td> <td>   -1.604</td>\n",
       "</tr>\n",
       "<tr>\n",
       "  <th>Tags_Not doing further education</th>         <td>   -2.8222</td> <td>    1.009</td> <td>   -2.797</td> <td> 0.005</td> <td>   -4.800</td> <td>   -0.845</td>\n",
       "</tr>\n",
       "<tr>\n",
       "  <th>Tags_Ringing</th>                             <td>   -3.4104</td> <td>    0.228</td> <td>  -14.948</td> <td> 0.000</td> <td>   -3.858</td> <td>   -2.963</td>\n",
       "</tr>\n",
       "<tr>\n",
       "  <th>Tags_Will revert after reading the email</th> <td>    4.2552</td> <td>    0.169</td> <td>   25.208</td> <td> 0.000</td> <td>    3.924</td> <td>    4.586</td>\n",
       "</tr>\n",
       "<tr>\n",
       "  <th>Tags_switched off</th>                        <td>   -3.9159</td> <td>    0.594</td> <td>   -6.595</td> <td> 0.000</td> <td>   -5.080</td> <td>   -2.752</td>\n",
       "</tr>\n",
       "<tr>\n",
       "  <th>Last Notable Activity_SMS Sent</th>           <td>    2.2010</td> <td>    0.111</td> <td>   19.762</td> <td> 0.000</td> <td>    1.983</td> <td>    2.419</td>\n",
       "</tr>\n",
       "</table>"
      ],
      "text/plain": [
       "<class 'statsmodels.iolib.summary.Summary'>\n",
       "\"\"\"\n",
       "                 Generalized Linear Model Regression Results                  \n",
       "==============================================================================\n",
       "Dep. Variable:              Converted   No. Observations:                 6267\n",
       "Model:                            GLM   Df Residuals:                     6252\n",
       "Model Family:                Binomial   Df Model:                           14\n",
       "Link Function:                  Logit   Scale:                          1.0000\n",
       "Method:                          IRLS   Log-Likelihood:                -1610.4\n",
       "Date:                Sun, 26 Feb 2023   Deviance:                       3220.8\n",
       "Time:                        14:33:40   Pearson chi2:                 8.08e+03\n",
       "No. Iterations:                     8   Pseudo R-squ. (CS):             0.5573\n",
       "Covariance Type:            nonrobust                                         \n",
       "============================================================================================================\n",
       "                                               coef    std err          z      P>|z|      [0.025      0.975]\n",
       "------------------------------------------------------------------------------------------------------------\n",
       "const                                       -1.3150      0.060    -22.073      0.000      -1.432      -1.198\n",
       "Do Not Email                                -1.3041      0.206     -6.338      0.000      -1.707      -0.901\n",
       "Lead Origin_Lead Add Form                    1.4403      0.371      3.880      0.000       0.713       2.168\n",
       "Lead Source_Welingak Website                 3.6798      1.080      3.408      0.001       1.563       5.796\n",
       "Last Activity_Olark Chat Conversation       -1.5124      0.197     -7.660      0.000      -1.899      -1.125\n",
       "Tags_Already a student                      -3.5465      0.712     -4.981      0.000      -4.942      -2.151\n",
       "Tags_Closed by Horizzon                      6.2921      1.008      6.244      0.000       4.317       8.267\n",
       "Tags_Diploma holder (Not Eligible)          -2.1975      1.017     -2.160      0.031      -4.191      -0.204\n",
       "Tags_Interested  in full time MBA           -1.7346      0.593     -2.925      0.003      -2.897      -0.572\n",
       "Tags_Interested in other courses            -2.3226      0.367     -6.337      0.000      -3.041      -1.604\n",
       "Tags_Not doing further education            -2.8222      1.009     -2.797      0.005      -4.800      -0.845\n",
       "Tags_Ringing                                -3.4104      0.228    -14.948      0.000      -3.858      -2.963\n",
       "Tags_Will revert after reading the email     4.2552      0.169     25.208      0.000       3.924       4.586\n",
       "Tags_switched off                           -3.9159      0.594     -6.595      0.000      -5.080      -2.752\n",
       "Last Notable Activity_SMS Sent               2.2010      0.111     19.762      0.000       1.983       2.419\n",
       "============================================================================================================\n",
       "\"\"\""
      ]
     },
     "execution_count": 117,
     "metadata": {},
     "output_type": "execute_result"
    }
   ],
   "source": [
    "cols = cols.drop('Lead Source_Referral Sites', 1)\n",
    "\n",
    "\n",
    "X_train_sm = sm.add_constant(X_train[cols])\n",
    "logm2 = sm.GLM(y_train,X_train_sm, family = sm.families.Binomial())\n",
    "res = logm2.fit()\n",
    "res.summary()\n"
   ]
  },
  {
   "cell_type": "markdown",
   "id": "0db0b8e7",
   "metadata": {},
   "source": [
    "\n",
    "<div class=\"alert-info\">\n",
    "    \n",
    "'Tags_Diploma holder (Not Eligible)' feature has higher p-value, hence we will drop this."
   ]
  },
  {
   "cell_type": "code",
   "execution_count": 118,
   "id": "5e6a8c70",
   "metadata": {},
   "outputs": [
    {
     "data": {
      "text/html": [
       "<table class=\"simpletable\">\n",
       "<caption>Generalized Linear Model Regression Results</caption>\n",
       "<tr>\n",
       "  <th>Dep. Variable:</th>       <td>Converted</td>    <th>  No. Observations:  </th>  <td>  6267</td> \n",
       "</tr>\n",
       "<tr>\n",
       "  <th>Model:</th>                  <td>GLM</td>       <th>  Df Residuals:      </th>  <td>  6253</td> \n",
       "</tr>\n",
       "<tr>\n",
       "  <th>Model Family:</th>        <td>Binomial</td>     <th>  Df Model:          </th>  <td>    13</td> \n",
       "</tr>\n",
       "<tr>\n",
       "  <th>Link Function:</th>         <td>Logit</td>      <th>  Scale:             </th> <td>  1.0000</td>\n",
       "</tr>\n",
       "<tr>\n",
       "  <th>Method:</th>                <td>IRLS</td>       <th>  Log-Likelihood:    </th> <td> -1615.3</td>\n",
       "</tr>\n",
       "<tr>\n",
       "  <th>Date:</th>            <td>Sun, 26 Feb 2023</td> <th>  Deviance:          </th> <td>  3230.6</td>\n",
       "</tr>\n",
       "<tr>\n",
       "  <th>Time:</th>                <td>14:33:41</td>     <th>  Pearson chi2:      </th> <td>8.15e+03</td>\n",
       "</tr>\n",
       "<tr>\n",
       "  <th>No. Iterations:</th>          <td>8</td>        <th>  Pseudo R-squ. (CS):</th>  <td>0.5566</td> \n",
       "</tr>\n",
       "<tr>\n",
       "  <th>Covariance Type:</th>     <td>nonrobust</td>    <th>                     </th>     <td> </td>   \n",
       "</tr>\n",
       "</table>\n",
       "<table class=\"simpletable\">\n",
       "<tr>\n",
       "                      <td></td>                        <th>coef</th>     <th>std err</th>      <th>z</th>      <th>P>|z|</th>  <th>[0.025</th>    <th>0.975]</th>  \n",
       "</tr>\n",
       "<tr>\n",
       "  <th>const</th>                                    <td>   -1.3346</td> <td>    0.059</td> <td>  -22.478</td> <td> 0.000</td> <td>   -1.451</td> <td>   -1.218</td>\n",
       "</tr>\n",
       "<tr>\n",
       "  <th>Do Not Email</th>                             <td>   -1.3085</td> <td>    0.206</td> <td>   -6.353</td> <td> 0.000</td> <td>   -1.712</td> <td>   -0.905</td>\n",
       "</tr>\n",
       "<tr>\n",
       "  <th>Lead Origin_Lead Add Form</th>                <td>    1.4489</td> <td>    0.371</td> <td>    3.903</td> <td> 0.000</td> <td>    0.721</td> <td>    2.177</td>\n",
       "</tr>\n",
       "<tr>\n",
       "  <th>Lead Source_Welingak Website</th>             <td>    3.6895</td> <td>    1.080</td> <td>    3.416</td> <td> 0.001</td> <td>    1.573</td> <td>    5.806</td>\n",
       "</tr>\n",
       "<tr>\n",
       "  <th>Last Activity_Olark Chat Conversation</th>    <td>   -1.5026</td> <td>    0.197</td> <td>   -7.608</td> <td> 0.000</td> <td>   -1.890</td> <td>   -1.116</td>\n",
       "</tr>\n",
       "<tr>\n",
       "  <th>Tags_Already a student</th>                   <td>   -3.5273</td> <td>    0.712</td> <td>   -4.955</td> <td> 0.000</td> <td>   -4.923</td> <td>   -2.132</td>\n",
       "</tr>\n",
       "<tr>\n",
       "  <th>Tags_Closed by Horizzon</th>                  <td>    6.3094</td> <td>    1.008</td> <td>    6.261</td> <td> 0.000</td> <td>    4.334</td> <td>    8.285</td>\n",
       "</tr>\n",
       "<tr>\n",
       "  <th>Tags_Interested  in full time MBA</th>        <td>   -1.7154</td> <td>    0.593</td> <td>   -2.893</td> <td> 0.004</td> <td>   -2.878</td> <td>   -0.553</td>\n",
       "</tr>\n",
       "<tr>\n",
       "  <th>Tags_Interested in other courses</th>         <td>   -2.3057</td> <td>    0.367</td> <td>   -6.290</td> <td> 0.000</td> <td>   -3.024</td> <td>   -1.587</td>\n",
       "</tr>\n",
       "<tr>\n",
       "  <th>Tags_Not doing further education</th>         <td>   -2.8022</td> <td>    1.009</td> <td>   -2.777</td> <td> 0.005</td> <td>   -4.780</td> <td>   -0.825</td>\n",
       "</tr>\n",
       "<tr>\n",
       "  <th>Tags_Ringing</th>                             <td>   -3.4037</td> <td>    0.228</td> <td>  -14.910</td> <td> 0.000</td> <td>   -3.851</td> <td>   -2.956</td>\n",
       "</tr>\n",
       "<tr>\n",
       "  <th>Tags_Will revert after reading the email</th> <td>    4.2725</td> <td>    0.169</td> <td>   25.316</td> <td> 0.000</td> <td>    3.942</td> <td>    4.603</td>\n",
       "</tr>\n",
       "<tr>\n",
       "  <th>Tags_switched off</th>                        <td>   -3.9086</td> <td>    0.594</td> <td>   -6.581</td> <td> 0.000</td> <td>   -5.073</td> <td>   -2.745</td>\n",
       "</tr>\n",
       "<tr>\n",
       "  <th>Last Notable Activity_SMS Sent</th>           <td>    2.2163</td> <td>    0.111</td> <td>   19.921</td> <td> 0.000</td> <td>    1.998</td> <td>    2.434</td>\n",
       "</tr>\n",
       "</table>"
      ],
      "text/plain": [
       "<class 'statsmodels.iolib.summary.Summary'>\n",
       "\"\"\"\n",
       "                 Generalized Linear Model Regression Results                  \n",
       "==============================================================================\n",
       "Dep. Variable:              Converted   No. Observations:                 6267\n",
       "Model:                            GLM   Df Residuals:                     6253\n",
       "Model Family:                Binomial   Df Model:                           13\n",
       "Link Function:                  Logit   Scale:                          1.0000\n",
       "Method:                          IRLS   Log-Likelihood:                -1615.3\n",
       "Date:                Sun, 26 Feb 2023   Deviance:                       3230.6\n",
       "Time:                        14:33:41   Pearson chi2:                 8.15e+03\n",
       "No. Iterations:                     8   Pseudo R-squ. (CS):             0.5566\n",
       "Covariance Type:            nonrobust                                         \n",
       "============================================================================================================\n",
       "                                               coef    std err          z      P>|z|      [0.025      0.975]\n",
       "------------------------------------------------------------------------------------------------------------\n",
       "const                                       -1.3346      0.059    -22.478      0.000      -1.451      -1.218\n",
       "Do Not Email                                -1.3085      0.206     -6.353      0.000      -1.712      -0.905\n",
       "Lead Origin_Lead Add Form                    1.4489      0.371      3.903      0.000       0.721       2.177\n",
       "Lead Source_Welingak Website                 3.6895      1.080      3.416      0.001       1.573       5.806\n",
       "Last Activity_Olark Chat Conversation       -1.5026      0.197     -7.608      0.000      -1.890      -1.116\n",
       "Tags_Already a student                      -3.5273      0.712     -4.955      0.000      -4.923      -2.132\n",
       "Tags_Closed by Horizzon                      6.3094      1.008      6.261      0.000       4.334       8.285\n",
       "Tags_Interested  in full time MBA           -1.7154      0.593     -2.893      0.004      -2.878      -0.553\n",
       "Tags_Interested in other courses            -2.3057      0.367     -6.290      0.000      -3.024      -1.587\n",
       "Tags_Not doing further education            -2.8022      1.009     -2.777      0.005      -4.780      -0.825\n",
       "Tags_Ringing                                -3.4037      0.228    -14.910      0.000      -3.851      -2.956\n",
       "Tags_Will revert after reading the email     4.2725      0.169     25.316      0.000       3.942       4.603\n",
       "Tags_switched off                           -3.9086      0.594     -6.581      0.000      -5.073      -2.745\n",
       "Last Notable Activity_SMS Sent               2.2163      0.111     19.921      0.000       1.998       2.434\n",
       "============================================================================================================\n",
       "\"\"\""
      ]
     },
     "execution_count": 118,
     "metadata": {},
     "output_type": "execute_result"
    }
   ],
   "source": [
    "cols = cols.drop('Tags_Diploma holder (Not Eligible)', 1)\n",
    "\n",
    "\n",
    "X_train_sm = sm.add_constant(X_train[cols])\n",
    "logm2 = sm.GLM(y_train,X_train_sm, family = sm.families.Binomial())\n",
    "res = logm2.fit()\n",
    "res.summary()\n"
   ]
  },
  {
   "cell_type": "markdown",
   "id": "51ef6bb2",
   "metadata": {},
   "source": [
    "### Checking VIF's "
   ]
  },
  {
   "cell_type": "code",
   "execution_count": 119,
   "id": "e4521d49",
   "metadata": {},
   "outputs": [],
   "source": [
    "from statsmodels.stats.outliers_influence import variance_inflation_factor"
   ]
  },
  {
   "cell_type": "code",
   "execution_count": 120,
   "id": "4c26ce26",
   "metadata": {},
   "outputs": [
    {
     "data": {
      "text/html": [
       "<div>\n",
       "<style scoped>\n",
       "    .dataframe tbody tr th:only-of-type {\n",
       "        vertical-align: middle;\n",
       "    }\n",
       "\n",
       "    .dataframe tbody tr th {\n",
       "        vertical-align: top;\n",
       "    }\n",
       "\n",
       "    .dataframe thead th {\n",
       "        text-align: right;\n",
       "    }\n",
       "</style>\n",
       "<table border=\"1\" class=\"dataframe\">\n",
       "  <thead>\n",
       "    <tr style=\"text-align: right;\">\n",
       "      <th></th>\n",
       "      <th>Features</th>\n",
       "      <th>VIF</th>\n",
       "    </tr>\n",
       "  </thead>\n",
       "  <tbody>\n",
       "    <tr>\n",
       "      <th>1</th>\n",
       "      <td>Lead Origin_Lead Add Form</td>\n",
       "      <td>1.63</td>\n",
       "    </tr>\n",
       "    <tr>\n",
       "      <th>12</th>\n",
       "      <td>Last Notable Activity_SMS Sent</td>\n",
       "      <td>1.43</td>\n",
       "    </tr>\n",
       "    <tr>\n",
       "      <th>10</th>\n",
       "      <td>Tags_Will revert after reading the email</td>\n",
       "      <td>1.40</td>\n",
       "    </tr>\n",
       "    <tr>\n",
       "      <th>2</th>\n",
       "      <td>Lead Source_Welingak Website</td>\n",
       "      <td>1.33</td>\n",
       "    </tr>\n",
       "    <tr>\n",
       "      <th>5</th>\n",
       "      <td>Tags_Closed by Horizzon</td>\n",
       "      <td>1.13</td>\n",
       "    </tr>\n",
       "    <tr>\n",
       "      <th>9</th>\n",
       "      <td>Tags_Ringing</td>\n",
       "      <td>1.09</td>\n",
       "    </tr>\n",
       "    <tr>\n",
       "      <th>0</th>\n",
       "      <td>Do Not Email</td>\n",
       "      <td>1.06</td>\n",
       "    </tr>\n",
       "    <tr>\n",
       "      <th>3</th>\n",
       "      <td>Last Activity_Olark Chat Conversation</td>\n",
       "      <td>1.06</td>\n",
       "    </tr>\n",
       "    <tr>\n",
       "      <th>4</th>\n",
       "      <td>Tags_Already a student</td>\n",
       "      <td>1.03</td>\n",
       "    </tr>\n",
       "    <tr>\n",
       "      <th>7</th>\n",
       "      <td>Tags_Interested in other courses</td>\n",
       "      <td>1.03</td>\n",
       "    </tr>\n",
       "    <tr>\n",
       "      <th>8</th>\n",
       "      <td>Tags_Not doing further education</td>\n",
       "      <td>1.02</td>\n",
       "    </tr>\n",
       "    <tr>\n",
       "      <th>11</th>\n",
       "      <td>Tags_switched off</td>\n",
       "      <td>1.02</td>\n",
       "    </tr>\n",
       "    <tr>\n",
       "      <th>6</th>\n",
       "      <td>Tags_Interested  in full time MBA</td>\n",
       "      <td>1.00</td>\n",
       "    </tr>\n",
       "  </tbody>\n",
       "</table>\n",
       "</div>"
      ],
      "text/plain": [
       "                                    Features   VIF\n",
       "1                  Lead Origin_Lead Add Form  1.63\n",
       "12            Last Notable Activity_SMS Sent  1.43\n",
       "10  Tags_Will revert after reading the email  1.40\n",
       "2               Lead Source_Welingak Website  1.33\n",
       "5                    Tags_Closed by Horizzon  1.13\n",
       "9                               Tags_Ringing  1.09\n",
       "0                               Do Not Email  1.06\n",
       "3      Last Activity_Olark Chat Conversation  1.06\n",
       "4                     Tags_Already a student  1.03\n",
       "7           Tags_Interested in other courses  1.03\n",
       "8           Tags_Not doing further education  1.02\n",
       "11                         Tags_switched off  1.02\n",
       "6          Tags_Interested  in full time MBA  1.00"
      ]
     },
     "execution_count": 120,
     "metadata": {},
     "output_type": "execute_result"
    }
   ],
   "source": [
    "vif = pd.DataFrame()\n",
    "vif['Features'] = X_train[cols].columns\n",
    "vif['VIF'] = [variance_inflation_factor(X_train[cols].values, i) for i in range(X_train[cols].shape[1])]\n",
    "vif['VIF'] = round(vif['VIF'], 2)\n",
    "vif = vif.sort_values(by = \"VIF\", ascending = False)\n",
    "vif"
   ]
  },
  {
   "cell_type": "code",
   "execution_count": 121,
   "id": "8643b7ff",
   "metadata": {},
   "outputs": [
    {
     "data": {
      "text/plain": [
       "array([0.07433117, 0.07433117, 0.70717475, 0.00580706, 0.9496915 ,\n",
       "       0.20840311, 0.05534715, 0.20840311, 0.01042954, 0.20840311])"
      ]
     },
     "execution_count": 121,
     "metadata": {},
     "output_type": "execute_result"
    }
   ],
   "source": [
    "y_train_pred = res.predict(X_train_sm).values.reshape(-1)\n",
    "y_train_pred[:10]"
   ]
  },
  {
   "cell_type": "code",
   "execution_count": 122,
   "id": "3f1cd588",
   "metadata": {},
   "outputs": [
    {
     "data": {
      "text/html": [
       "<div>\n",
       "<style scoped>\n",
       "    .dataframe tbody tr th:only-of-type {\n",
       "        vertical-align: middle;\n",
       "    }\n",
       "\n",
       "    .dataframe tbody tr th {\n",
       "        vertical-align: top;\n",
       "    }\n",
       "\n",
       "    .dataframe thead th {\n",
       "        text-align: right;\n",
       "    }\n",
       "</style>\n",
       "<table border=\"1\" class=\"dataframe\">\n",
       "  <thead>\n",
       "    <tr style=\"text-align: right;\">\n",
       "      <th></th>\n",
       "      <th>Converted_Actual</th>\n",
       "      <th>Converted_Pred</th>\n",
       "      <th>Lead Number</th>\n",
       "      <th>Predicted</th>\n",
       "    </tr>\n",
       "  </thead>\n",
       "  <tbody>\n",
       "    <tr>\n",
       "      <th>9196</th>\n",
       "      <td>1</td>\n",
       "      <td>0.074331</td>\n",
       "      <td>579918</td>\n",
       "      <td>0</td>\n",
       "    </tr>\n",
       "    <tr>\n",
       "      <th>4696</th>\n",
       "      <td>0</td>\n",
       "      <td>0.074331</td>\n",
       "      <td>614744</td>\n",
       "      <td>0</td>\n",
       "    </tr>\n",
       "    <tr>\n",
       "      <th>3274</th>\n",
       "      <td>0</td>\n",
       "      <td>0.707175</td>\n",
       "      <td>628615</td>\n",
       "      <td>1</td>\n",
       "    </tr>\n",
       "    <tr>\n",
       "      <th>2164</th>\n",
       "      <td>0</td>\n",
       "      <td>0.005807</td>\n",
       "      <td>639044</td>\n",
       "      <td>0</td>\n",
       "    </tr>\n",
       "    <tr>\n",
       "      <th>1667</th>\n",
       "      <td>1</td>\n",
       "      <td>0.949692</td>\n",
       "      <td>643101</td>\n",
       "      <td>1</td>\n",
       "    </tr>\n",
       "    <tr>\n",
       "      <th>...</th>\n",
       "      <td>...</td>\n",
       "      <td>...</td>\n",
       "      <td>...</td>\n",
       "      <td>...</td>\n",
       "    </tr>\n",
       "    <tr>\n",
       "      <th>379</th>\n",
       "      <td>1</td>\n",
       "      <td>0.949692</td>\n",
       "      <td>656457</td>\n",
       "      <td>1</td>\n",
       "    </tr>\n",
       "    <tr>\n",
       "      <th>84</th>\n",
       "      <td>1</td>\n",
       "      <td>0.949692</td>\n",
       "      <td>659696</td>\n",
       "      <td>1</td>\n",
       "    </tr>\n",
       "    <tr>\n",
       "      <th>8313</th>\n",
       "      <td>0</td>\n",
       "      <td>0.007676</td>\n",
       "      <td>586377</td>\n",
       "      <td>0</td>\n",
       "    </tr>\n",
       "    <tr>\n",
       "      <th>7169</th>\n",
       "      <td>0</td>\n",
       "      <td>0.208403</td>\n",
       "      <td>594504</td>\n",
       "      <td>0</td>\n",
       "    </tr>\n",
       "    <tr>\n",
       "      <th>5825</th>\n",
       "      <td>1</td>\n",
       "      <td>0.998646</td>\n",
       "      <td>605210</td>\n",
       "      <td>1</td>\n",
       "    </tr>\n",
       "  </tbody>\n",
       "</table>\n",
       "<p>6267 rows × 4 columns</p>\n",
       "</div>"
      ],
      "text/plain": [
       "      Converted_Actual  Converted_Pred  Lead Number  Predicted\n",
       "9196                 1        0.074331       579918          0\n",
       "4696                 0        0.074331       614744          0\n",
       "3274                 0        0.707175       628615          1\n",
       "2164                 0        0.005807       639044          0\n",
       "1667                 1        0.949692       643101          1\n",
       "...                ...             ...          ...        ...\n",
       "379                  1        0.949692       656457          1\n",
       "84                   1        0.949692       659696          1\n",
       "8313                 0        0.007676       586377          0\n",
       "7169                 0        0.208403       594504          0\n",
       "5825                 1        0.998646       605210          1\n",
       "\n",
       "[6267 rows x 4 columns]"
      ]
     },
     "execution_count": 122,
     "metadata": {},
     "output_type": "execute_result"
    }
   ],
   "source": [
    "df = pd.DataFrame({'Converted_Actual':y_train, 'Converted_Pred':y_train_pred})\n",
    "df['Lead Number'] = final_train_leads\n",
    "\n",
    "# Creating new column 'predicted' with 1 if Churn_Prob > 0.5 else 0\n",
    "\n",
    "df['Predicted'] = df['Converted_Pred'].map(lambda x: 1 if x > 0.5 else 0)\n",
    "df"
   ]
  },
  {
   "cell_type": "markdown",
   "id": "b034ff4e",
   "metadata": {},
   "source": [
    "### Model evaluation on the train data"
   ]
  },
  {
   "cell_type": "code",
   "execution_count": 123,
   "id": "3ed0e68d",
   "metadata": {},
   "outputs": [],
   "source": [
    "from sklearn import metrics\n",
    "from sklearn.metrics import accuracy_score, recall_score, precision_score, f1_score, roc_auc_score"
   ]
  },
  {
   "cell_type": "code",
   "execution_count": 124,
   "id": "dd3ca747",
   "metadata": {},
   "outputs": [
    {
     "name": "stdout",
     "output_type": "stream",
     "text": [
      "Accuracy:  0.9041008456996968\n",
      "Sensitivity/Recall:  0.8218029350104822\n",
      "Precision:  0.9176029962546817\n",
      "F1-Score:  0.8670648086706481\n",
      "ROC AUC Score:  0.888232740045169\n"
     ]
    }
   ],
   "source": [
    "print(\"Accuracy: \",  accuracy_score(df['Converted_Actual'], df['Predicted']))\n",
    "print(\"Sensitivity/Recall: \", recall_score(df['Converted_Actual'], df['Predicted']))\n",
    "print(\"Precision: \", precision_score(df['Converted_Actual'], df['Predicted']))\n",
    "print(\"F1-Score: \", f1_score(df['Converted_Actual'], df['Predicted']))\n",
    "print(\"ROC AUC Score: \", roc_auc_score(df['Converted_Actual'], df['Predicted']))"
   ]
  },
  {
   "cell_type": "code",
   "execution_count": 125,
   "id": "f0fd5688",
   "metadata": {},
   "outputs": [
    {
     "data": {
      "text/plain": [
       "array([[3706,  176],\n",
       "       [ 425, 1960]], dtype=int64)"
      ]
     },
     "execution_count": 125,
     "metadata": {},
     "output_type": "execute_result"
    }
   ],
   "source": [
    "confusion = metrics.confusion_matrix(df['Converted_Actual'], df['Predicted'])\n",
    "confusion"
   ]
  },
  {
   "cell_type": "markdown",
   "id": "b28b3b92",
   "metadata": {},
   "source": [
    "### Metrics beyond simply accuracy "
   ]
  },
  {
   "cell_type": "code",
   "execution_count": 126,
   "id": "f04b097a",
   "metadata": {},
   "outputs": [],
   "source": [
    "TP = confusion[1,1] # true positive \n",
    "TN = confusion[0,0] # true negatives\n",
    "FP = confusion[0,1] # false positives\n",
    "FN = confusion[1,0] # false negatives"
   ]
  },
  {
   "cell_type": "code",
   "execution_count": 127,
   "id": "76c2b231",
   "metadata": {},
   "outputs": [
    {
     "data": {
      "text/plain": [
       "0.8218029350104822"
      ]
     },
     "execution_count": 127,
     "metadata": {},
     "output_type": "execute_result"
    }
   ],
   "source": [
    "# Let's see the sensitivity of our logistic regression model\n",
    "TP / float(TP+FN)"
   ]
  },
  {
   "cell_type": "code",
   "execution_count": 128,
   "id": "0e3c7acd",
   "metadata": {},
   "outputs": [
    {
     "data": {
      "text/plain": [
       "0.9546625450798557"
      ]
     },
     "execution_count": 128,
     "metadata": {},
     "output_type": "execute_result"
    }
   ],
   "source": [
    "# Let us calculate specificity\n",
    "TN / float(TN+FP)"
   ]
  },
  {
   "cell_type": "code",
   "execution_count": 129,
   "id": "78aa7531",
   "metadata": {},
   "outputs": [
    {
     "name": "stdout",
     "output_type": "stream",
     "text": [
      "0.04533745492014426\n"
     ]
    }
   ],
   "source": [
    "# Calculate false postive rate - predicting churn when customer does not have churned\n",
    "print(FP/ float(TN+FP))"
   ]
  },
  {
   "cell_type": "code",
   "execution_count": 130,
   "id": "d509a368",
   "metadata": {},
   "outputs": [
    {
     "name": "stdout",
     "output_type": "stream",
     "text": [
      "0.9176029962546817\n"
     ]
    }
   ],
   "source": [
    "# positive predictive value \n",
    "print (TP / float(TP+FP))"
   ]
  },
  {
   "cell_type": "code",
   "execution_count": 131,
   "id": "aafece3a",
   "metadata": {},
   "outputs": [
    {
     "name": "stdout",
     "output_type": "stream",
     "text": [
      "0.897119341563786\n"
     ]
    }
   ],
   "source": [
    "# Negative predictive value\n",
    "print (TN / float(TN+ FN))"
   ]
  },
  {
   "cell_type": "markdown",
   "id": "2c145cbb",
   "metadata": {},
   "source": [
    "### Plotting the ROC curve"
   ]
  },
  {
   "cell_type": "code",
   "execution_count": 132,
   "id": "a023568c",
   "metadata": {},
   "outputs": [],
   "source": [
    "def draw_roc( actual, probs ):\n",
    "    fpr, tpr, thresholds = metrics.roc_curve( actual, probs,\n",
    "                                              drop_intermediate = False )\n",
    "    auc_score = metrics.roc_auc_score( actual, probs )\n",
    "    plt.figure(figsize=(5, 5))\n",
    "    plt.plot( fpr, tpr, label='ROC curve (area = %0.2f)' % auc_score )\n",
    "    plt.plot([0, 1], [0, 1], 'k--')\n",
    "    plt.xlim([0.0, 1.0])\n",
    "    plt.ylim([0.0, 1.05])\n",
    "    plt.xlabel('False Positive Rate')\n",
    "    plt.ylabel('True Positive Rate')\n",
    "    plt.title('Receiver operating characteristic example')\n",
    "    plt.legend(loc=\"lower right\")\n",
    "    plt.show()\n",
    "\n",
    "    return None"
   ]
  },
  {
   "cell_type": "code",
   "execution_count": 133,
   "id": "6f9d59b8",
   "metadata": {},
   "outputs": [
    {
     "data": {
      "image/png": "[encoded data removed]",
      "text/plain": [
       "<Figure size 360x360 with 1 Axes>"
      ]
     },
     "metadata": {
      "needs_background": "light"
     },
     "output_type": "display_data"
    }
   ],
   "source": [
    "draw_roc(df['Converted_Actual'], df['Predicted'])"
   ]
  },
  {
   "cell_type": "markdown",
   "id": "0e6910ba",
   "metadata": {},
   "source": [
    "### Finding optimal cutoff point\n"
   ]
  },
  {
   "cell_type": "code",
   "execution_count": 134,
   "id": "d85b96d0",
   "metadata": {},
   "outputs": [
    {
     "data": {
      "text/html": [
       "<div>\n",
       "<style scoped>\n",
       "    .dataframe tbody tr th:only-of-type {\n",
       "        vertical-align: middle;\n",
       "    }\n",
       "\n",
       "    .dataframe tbody tr th {\n",
       "        vertical-align: top;\n",
       "    }\n",
       "\n",
       "    .dataframe thead th {\n",
       "        text-align: right;\n",
       "    }\n",
       "</style>\n",
       "<table border=\"1\" class=\"dataframe\">\n",
       "  <thead>\n",
       "    <tr style=\"text-align: right;\">\n",
       "      <th></th>\n",
       "      <th>Converted_Actual</th>\n",
       "      <th>Converted_Pred</th>\n",
       "      <th>Lead Number</th>\n",
       "      <th>Predicted</th>\n",
       "      <th>0.0</th>\n",
       "      <th>0.1</th>\n",
       "      <th>0.2</th>\n",
       "      <th>0.3</th>\n",
       "      <th>0.4</th>\n",
       "      <th>0.5</th>\n",
       "      <th>0.6</th>\n",
       "      <th>0.7</th>\n",
       "      <th>0.8</th>\n",
       "      <th>0.9</th>\n",
       "    </tr>\n",
       "  </thead>\n",
       "  <tbody>\n",
       "    <tr>\n",
       "      <th>9196</th>\n",
       "      <td>1</td>\n",
       "      <td>0.074331</td>\n",
       "      <td>579918</td>\n",
       "      <td>0</td>\n",
       "      <td>1</td>\n",
       "      <td>0</td>\n",
       "      <td>0</td>\n",
       "      <td>0</td>\n",
       "      <td>0</td>\n",
       "      <td>0</td>\n",
       "      <td>0</td>\n",
       "      <td>0</td>\n",
       "      <td>0</td>\n",
       "      <td>0</td>\n",
       "    </tr>\n",
       "    <tr>\n",
       "      <th>4696</th>\n",
       "      <td>0</td>\n",
       "      <td>0.074331</td>\n",
       "      <td>614744</td>\n",
       "      <td>0</td>\n",
       "      <td>1</td>\n",
       "      <td>0</td>\n",
       "      <td>0</td>\n",
       "      <td>0</td>\n",
       "      <td>0</td>\n",
       "      <td>0</td>\n",
       "      <td>0</td>\n",
       "      <td>0</td>\n",
       "      <td>0</td>\n",
       "      <td>0</td>\n",
       "    </tr>\n",
       "    <tr>\n",
       "      <th>3274</th>\n",
       "      <td>0</td>\n",
       "      <td>0.707175</td>\n",
       "      <td>628615</td>\n",
       "      <td>1</td>\n",
       "      <td>1</td>\n",
       "      <td>1</td>\n",
       "      <td>1</td>\n",
       "      <td>1</td>\n",
       "      <td>1</td>\n",
       "      <td>1</td>\n",
       "      <td>1</td>\n",
       "      <td>1</td>\n",
       "      <td>0</td>\n",
       "      <td>0</td>\n",
       "    </tr>\n",
       "    <tr>\n",
       "      <th>2164</th>\n",
       "      <td>0</td>\n",
       "      <td>0.005807</td>\n",
       "      <td>639044</td>\n",
       "      <td>0</td>\n",
       "      <td>1</td>\n",
       "      <td>0</td>\n",
       "      <td>0</td>\n",
       "      <td>0</td>\n",
       "      <td>0</td>\n",
       "      <td>0</td>\n",
       "      <td>0</td>\n",
       "      <td>0</td>\n",
       "      <td>0</td>\n",
       "      <td>0</td>\n",
       "    </tr>\n",
       "    <tr>\n",
       "      <th>1667</th>\n",
       "      <td>1</td>\n",
       "      <td>0.949692</td>\n",
       "      <td>643101</td>\n",
       "      <td>1</td>\n",
       "      <td>1</td>\n",
       "      <td>1</td>\n",
       "      <td>1</td>\n",
       "      <td>1</td>\n",
       "      <td>1</td>\n",
       "      <td>1</td>\n",
       "      <td>1</td>\n",
       "      <td>1</td>\n",
       "      <td>1</td>\n",
       "      <td>1</td>\n",
       "    </tr>\n",
       "  </tbody>\n",
       "</table>\n",
       "</div>"
      ],
      "text/plain": [
       "      Converted_Actual  Converted_Pred  Lead Number  Predicted  0.0  0.1  0.2  \\\n",
       "9196                 1        0.074331       579918          0    1    0    0   \n",
       "4696                 0        0.074331       614744          0    1    0    0   \n",
       "3274                 0        0.707175       628615          1    1    1    1   \n",
       "2164                 0        0.005807       639044          0    1    0    0   \n",
       "1667                 1        0.949692       643101          1    1    1    1   \n",
       "\n",
       "      0.3  0.4  0.5  0.6  0.7  0.8  0.9  \n",
       "9196    0    0    0    0    0    0    0  \n",
       "4696    0    0    0    0    0    0    0  \n",
       "3274    1    1    1    1    1    0    0  \n",
       "2164    0    0    0    0    0    0    0  \n",
       "1667    1    1    1    1    1    1    1  "
      ]
     },
     "execution_count": 134,
     "metadata": {},
     "output_type": "execute_result"
    }
   ],
   "source": [
    "nums = [float(i/10) for i in range(10)]\n",
    "\n",
    "for i in nums:\n",
    "    df[i] = df['Converted_Pred'].map(lambda x: 1 if x>i else 0)\n",
    "\n",
    "df.head()"
   ]
  },
  {
   "cell_type": "code",
   "execution_count": 135,
   "id": "60e657bc",
   "metadata": {},
   "outputs": [
    {
     "data": {
      "text/html": [
       "<div>\n",
       "<style scoped>\n",
       "    .dataframe tbody tr th:only-of-type {\n",
       "        vertical-align: middle;\n",
       "    }\n",
       "\n",
       "    .dataframe tbody tr th {\n",
       "        vertical-align: top;\n",
       "    }\n",
       "\n",
       "    .dataframe thead th {\n",
       "        text-align: right;\n",
       "    }\n",
       "</style>\n",
       "<table border=\"1\" class=\"dataframe\">\n",
       "  <thead>\n",
       "    <tr style=\"text-align: right;\">\n",
       "      <th></th>\n",
       "      <th>Prob</th>\n",
       "      <th>Accuracy</th>\n",
       "      <th>Sensitivity</th>\n",
       "      <th>Specificity</th>\n",
       "    </tr>\n",
       "  </thead>\n",
       "  <tbody>\n",
       "    <tr>\n",
       "      <th>0.0</th>\n",
       "      <td>0.0</td>\n",
       "      <td>0.380565</td>\n",
       "      <td>1.000000</td>\n",
       "      <td>0.000000</td>\n",
       "    </tr>\n",
       "    <tr>\n",
       "      <th>0.1</th>\n",
       "      <td>0.1</td>\n",
       "      <td>0.752194</td>\n",
       "      <td>0.970231</td>\n",
       "      <td>0.618238</td>\n",
       "    </tr>\n",
       "    <tr>\n",
       "      <th>0.2</th>\n",
       "      <td>0.2</td>\n",
       "      <td>0.751875</td>\n",
       "      <td>0.968134</td>\n",
       "      <td>0.619011</td>\n",
       "    </tr>\n",
       "    <tr>\n",
       "      <th>0.3</th>\n",
       "      <td>0.3</td>\n",
       "      <td>0.902984</td>\n",
       "      <td>0.826834</td>\n",
       "      <td>0.949768</td>\n",
       "    </tr>\n",
       "    <tr>\n",
       "      <th>0.4</th>\n",
       "      <td>0.4</td>\n",
       "      <td>0.904101</td>\n",
       "      <td>0.821803</td>\n",
       "      <td>0.954663</td>\n",
       "    </tr>\n",
       "    <tr>\n",
       "      <th>0.5</th>\n",
       "      <td>0.5</td>\n",
       "      <td>0.904101</td>\n",
       "      <td>0.821803</td>\n",
       "      <td>0.954663</td>\n",
       "    </tr>\n",
       "    <tr>\n",
       "      <th>0.6</th>\n",
       "      <td>0.6</td>\n",
       "      <td>0.903463</td>\n",
       "      <td>0.818449</td>\n",
       "      <td>0.955693</td>\n",
       "    </tr>\n",
       "    <tr>\n",
       "      <th>0.7</th>\n",
       "      <td>0.7</td>\n",
       "      <td>0.903463</td>\n",
       "      <td>0.818449</td>\n",
       "      <td>0.955693</td>\n",
       "    </tr>\n",
       "    <tr>\n",
       "      <th>0.8</th>\n",
       "      <td>0.8</td>\n",
       "      <td>0.874262</td>\n",
       "      <td>0.688050</td>\n",
       "      <td>0.988666</td>\n",
       "    </tr>\n",
       "    <tr>\n",
       "      <th>0.9</th>\n",
       "      <td>0.9</td>\n",
       "      <td>0.870432</td>\n",
       "      <td>0.674633</td>\n",
       "      <td>0.990726</td>\n",
       "    </tr>\n",
       "  </tbody>\n",
       "</table>\n",
       "</div>"
      ],
      "text/plain": [
       "     Prob  Accuracy  Sensitivity  Specificity\n",
       "0.0   0.0  0.380565     1.000000     0.000000\n",
       "0.1   0.1  0.752194     0.970231     0.618238\n",
       "0.2   0.2  0.751875     0.968134     0.619011\n",
       "0.3   0.3  0.902984     0.826834     0.949768\n",
       "0.4   0.4  0.904101     0.821803     0.954663\n",
       "0.5   0.5  0.904101     0.821803     0.954663\n",
       "0.6   0.6  0.903463     0.818449     0.955693\n",
       "0.7   0.7  0.903463     0.818449     0.955693\n",
       "0.8   0.8  0.874262     0.688050     0.988666\n",
       "0.9   0.9  0.870432     0.674633     0.990726"
      ]
     },
     "execution_count": 135,
     "metadata": {},
     "output_type": "execute_result"
    }
   ],
   "source": [
    "#lets calculate accuracy, sensitivity, specificity for various cutoffs\n",
    "\n",
    "cutoff_df = pd.DataFrame(columns=['Prob', 'Accuracy', 'Sensitivity', 'Specificity'])\n",
    "\n",
    "for i in nums:\n",
    "    c = metrics.confusion_matrix(df['Converted_Actual'], df[i])\n",
    "    accuracy = accuracy_score(df['Converted_Actual'], df[i])\n",
    "    sensitivity = recall_score(df['Converted_Actual'], df[i])\n",
    "    specificity = c[0,0]/(c[0,0]+c[0,1])\n",
    "    cutoff_df.loc[i] = [i, accuracy, sensitivity, specificity]\n",
    "    \n",
    "cutoff_df"
   ]
  },
  {
   "cell_type": "code",
   "execution_count": 136,
   "id": "ea5f6456",
   "metadata": {},
   "outputs": [
    {
     "data": {
      "image/png": "[encoded data removed]",
      "text/plain": [
       "<Figure size 432x288 with 1 Axes>"
      ]
     },
     "metadata": {},
     "output_type": "display_data"
    }
   ],
   "source": [
    "#plot accuracy, sensitivity and specificity for various cutoffs\n",
    "plt.style.use('ggplot')\n",
    "cutoff_df.plot(x='Prob',y=['Accuracy', 'Sensitivity', 'Specificity'])\n",
    "plt.show()"
   ]
  },
  {
   "cell_type": "markdown",
   "id": "ee501390",
   "metadata": {},
   "source": [
    " \n",
    "<div class=\"alert-info\">\n",
    " From the curve above, We can consider the cutoff probablity around 0.28 .\n"
   ]
  },
  {
   "cell_type": "code",
   "execution_count": 137,
   "id": "167f3b2e",
   "metadata": {},
   "outputs": [
    {
     "data": {
      "text/html": [
       "<div>\n",
       "<style scoped>\n",
       "    .dataframe tbody tr th:only-of-type {\n",
       "        vertical-align: middle;\n",
       "    }\n",
       "\n",
       "    .dataframe tbody tr th {\n",
       "        vertical-align: top;\n",
       "    }\n",
       "\n",
       "    .dataframe thead th {\n",
       "        text-align: right;\n",
       "    }\n",
       "</style>\n",
       "<table border=\"1\" class=\"dataframe\">\n",
       "  <thead>\n",
       "    <tr style=\"text-align: right;\">\n",
       "      <th></th>\n",
       "      <th>Converted_Actual</th>\n",
       "      <th>Converted_Pred</th>\n",
       "      <th>Lead Number</th>\n",
       "      <th>Predicted</th>\n",
       "      <th>0.0</th>\n",
       "      <th>0.1</th>\n",
       "      <th>0.2</th>\n",
       "      <th>0.3</th>\n",
       "      <th>0.4</th>\n",
       "      <th>0.5</th>\n",
       "      <th>0.6</th>\n",
       "      <th>0.7</th>\n",
       "      <th>0.8</th>\n",
       "      <th>0.9</th>\n",
       "    </tr>\n",
       "  </thead>\n",
       "  <tbody>\n",
       "    <tr>\n",
       "      <th>9196</th>\n",
       "      <td>1</td>\n",
       "      <td>0.074331</td>\n",
       "      <td>579918</td>\n",
       "      <td>0</td>\n",
       "      <td>1</td>\n",
       "      <td>0</td>\n",
       "      <td>0</td>\n",
       "      <td>0</td>\n",
       "      <td>0</td>\n",
       "      <td>0</td>\n",
       "      <td>0</td>\n",
       "      <td>0</td>\n",
       "      <td>0</td>\n",
       "      <td>0</td>\n",
       "    </tr>\n",
       "    <tr>\n",
       "      <th>4696</th>\n",
       "      <td>0</td>\n",
       "      <td>0.074331</td>\n",
       "      <td>614744</td>\n",
       "      <td>0</td>\n",
       "      <td>1</td>\n",
       "      <td>0</td>\n",
       "      <td>0</td>\n",
       "      <td>0</td>\n",
       "      <td>0</td>\n",
       "      <td>0</td>\n",
       "      <td>0</td>\n",
       "      <td>0</td>\n",
       "      <td>0</td>\n",
       "      <td>0</td>\n",
       "    </tr>\n",
       "    <tr>\n",
       "      <th>3274</th>\n",
       "      <td>0</td>\n",
       "      <td>0.707175</td>\n",
       "      <td>628615</td>\n",
       "      <td>1</td>\n",
       "      <td>1</td>\n",
       "      <td>1</td>\n",
       "      <td>1</td>\n",
       "      <td>1</td>\n",
       "      <td>1</td>\n",
       "      <td>1</td>\n",
       "      <td>1</td>\n",
       "      <td>1</td>\n",
       "      <td>0</td>\n",
       "      <td>0</td>\n",
       "    </tr>\n",
       "    <tr>\n",
       "      <th>2164</th>\n",
       "      <td>0</td>\n",
       "      <td>0.005807</td>\n",
       "      <td>639044</td>\n",
       "      <td>0</td>\n",
       "      <td>1</td>\n",
       "      <td>0</td>\n",
       "      <td>0</td>\n",
       "      <td>0</td>\n",
       "      <td>0</td>\n",
       "      <td>0</td>\n",
       "      <td>0</td>\n",
       "      <td>0</td>\n",
       "      <td>0</td>\n",
       "      <td>0</td>\n",
       "    </tr>\n",
       "    <tr>\n",
       "      <th>1667</th>\n",
       "      <td>1</td>\n",
       "      <td>0.949692</td>\n",
       "      <td>643101</td>\n",
       "      <td>1</td>\n",
       "      <td>1</td>\n",
       "      <td>1</td>\n",
       "      <td>1</td>\n",
       "      <td>1</td>\n",
       "      <td>1</td>\n",
       "      <td>1</td>\n",
       "      <td>1</td>\n",
       "      <td>1</td>\n",
       "      <td>1</td>\n",
       "      <td>1</td>\n",
       "    </tr>\n",
       "    <tr>\n",
       "      <th>...</th>\n",
       "      <td>...</td>\n",
       "      <td>...</td>\n",
       "      <td>...</td>\n",
       "      <td>...</td>\n",
       "      <td>...</td>\n",
       "      <td>...</td>\n",
       "      <td>...</td>\n",
       "      <td>...</td>\n",
       "      <td>...</td>\n",
       "      <td>...</td>\n",
       "      <td>...</td>\n",
       "      <td>...</td>\n",
       "      <td>...</td>\n",
       "      <td>...</td>\n",
       "    </tr>\n",
       "    <tr>\n",
       "      <th>379</th>\n",
       "      <td>1</td>\n",
       "      <td>0.949692</td>\n",
       "      <td>656457</td>\n",
       "      <td>1</td>\n",
       "      <td>1</td>\n",
       "      <td>1</td>\n",
       "      <td>1</td>\n",
       "      <td>1</td>\n",
       "      <td>1</td>\n",
       "      <td>1</td>\n",
       "      <td>1</td>\n",
       "      <td>1</td>\n",
       "      <td>1</td>\n",
       "      <td>1</td>\n",
       "    </tr>\n",
       "    <tr>\n",
       "      <th>84</th>\n",
       "      <td>1</td>\n",
       "      <td>0.949692</td>\n",
       "      <td>659696</td>\n",
       "      <td>1</td>\n",
       "      <td>1</td>\n",
       "      <td>1</td>\n",
       "      <td>1</td>\n",
       "      <td>1</td>\n",
       "      <td>1</td>\n",
       "      <td>1</td>\n",
       "      <td>1</td>\n",
       "      <td>1</td>\n",
       "      <td>1</td>\n",
       "      <td>1</td>\n",
       "    </tr>\n",
       "    <tr>\n",
       "      <th>8313</th>\n",
       "      <td>0</td>\n",
       "      <td>0.007676</td>\n",
       "      <td>586377</td>\n",
       "      <td>0</td>\n",
       "      <td>1</td>\n",
       "      <td>0</td>\n",
       "      <td>0</td>\n",
       "      <td>0</td>\n",
       "      <td>0</td>\n",
       "      <td>0</td>\n",
       "      <td>0</td>\n",
       "      <td>0</td>\n",
       "      <td>0</td>\n",
       "      <td>0</td>\n",
       "    </tr>\n",
       "    <tr>\n",
       "      <th>7169</th>\n",
       "      <td>0</td>\n",
       "      <td>0.208403</td>\n",
       "      <td>594504</td>\n",
       "      <td>0</td>\n",
       "      <td>1</td>\n",
       "      <td>1</td>\n",
       "      <td>1</td>\n",
       "      <td>0</td>\n",
       "      <td>0</td>\n",
       "      <td>0</td>\n",
       "      <td>0</td>\n",
       "      <td>0</td>\n",
       "      <td>0</td>\n",
       "      <td>0</td>\n",
       "    </tr>\n",
       "    <tr>\n",
       "      <th>5825</th>\n",
       "      <td>1</td>\n",
       "      <td>0.998646</td>\n",
       "      <td>605210</td>\n",
       "      <td>1</td>\n",
       "      <td>1</td>\n",
       "      <td>1</td>\n",
       "      <td>1</td>\n",
       "      <td>1</td>\n",
       "      <td>1</td>\n",
       "      <td>1</td>\n",
       "      <td>1</td>\n",
       "      <td>1</td>\n",
       "      <td>1</td>\n",
       "      <td>1</td>\n",
       "    </tr>\n",
       "  </tbody>\n",
       "</table>\n",
       "<p>6267 rows × 14 columns</p>\n",
       "</div>"
      ],
      "text/plain": [
       "      Converted_Actual  Converted_Pred  Lead Number  Predicted  0.0  0.1  0.2  \\\n",
       "9196                 1        0.074331       579918          0    1    0    0   \n",
       "4696                 0        0.074331       614744          0    1    0    0   \n",
       "3274                 0        0.707175       628615          1    1    1    1   \n",
       "2164                 0        0.005807       639044          0    1    0    0   \n",
       "1667                 1        0.949692       643101          1    1    1    1   \n",
       "...                ...             ...          ...        ...  ...  ...  ...   \n",
       "379                  1        0.949692       656457          1    1    1    1   \n",
       "84                   1        0.949692       659696          1    1    1    1   \n",
       "8313                 0        0.007676       586377          0    1    0    0   \n",
       "7169                 0        0.208403       594504          0    1    1    1   \n",
       "5825                 1        0.998646       605210          1    1    1    1   \n",
       "\n",
       "      0.3  0.4  0.5  0.6  0.7  0.8  0.9  \n",
       "9196    0    0    0    0    0    0    0  \n",
       "4696    0    0    0    0    0    0    0  \n",
       "3274    1    1    1    1    1    0    0  \n",
       "2164    0    0    0    0    0    0    0  \n",
       "1667    1    1    1    1    1    1    1  \n",
       "...   ...  ...  ...  ...  ...  ...  ...  \n",
       "379     1    1    1    1    1    1    1  \n",
       "84      1    1    1    1    1    1    1  \n",
       "8313    0    0    0    0    0    0    0  \n",
       "7169    0    0    0    0    0    0    0  \n",
       "5825    1    1    1    1    1    1    1  \n",
       "\n",
       "[6267 rows x 14 columns]"
      ]
     },
     "execution_count": 137,
     "metadata": {},
     "output_type": "execute_result"
    }
   ],
   "source": [
    "df['Predicted'] = df['Converted_Pred'].map(lambda x: 1 if x > 0.28 else 0)\n",
    "df"
   ]
  },
  {
   "cell_type": "code",
   "execution_count": 138,
   "id": "5b566bcf",
   "metadata": {},
   "outputs": [
    {
     "name": "stdout",
     "output_type": "stream",
     "text": [
      "Accuracy:  0.9029838838359662\n",
      "Sensitivity/Recall:  0.8268343815513627\n",
      "Precision:  0.9100138440239963\n",
      "F1-Score:  0.8664323374340949\n",
      "ROC AUC Score:  0.8883012711466242\n"
     ]
    }
   ],
   "source": [
    "print(\"Accuracy: \", accuracy_score(df['Converted_Actual'], df['Predicted']))\n",
    "print(\"Sensitivity/Recall: \", recall_score(df['Converted_Actual'], df['Predicted']))\n",
    "print(\"Precision: \", precision_score(df['Converted_Actual'], df['Predicted']))\n",
    "print(\"F1-Score: \", f1_score(df['Converted_Actual'], df['Predicted']))\n",
    "print(\"ROC AUC Score: \", roc_auc_score(df['Converted_Actual'], df['Predicted']))"
   ]
  },
  {
   "cell_type": "code",
   "execution_count": 139,
   "id": "85f475fa",
   "metadata": {},
   "outputs": [
    {
     "data": {
      "text/html": [
       "<div>\n",
       "<style scoped>\n",
       "    .dataframe tbody tr th:only-of-type {\n",
       "        vertical-align: middle;\n",
       "    }\n",
       "\n",
       "    .dataframe tbody tr th {\n",
       "        vertical-align: top;\n",
       "    }\n",
       "\n",
       "    .dataframe thead th {\n",
       "        text-align: right;\n",
       "    }\n",
       "</style>\n",
       "<table border=\"1\" class=\"dataframe\">\n",
       "  <thead>\n",
       "    <tr style=\"text-align: right;\">\n",
       "      <th></th>\n",
       "      <th>Converted_Actual</th>\n",
       "      <th>Converted_Pred</th>\n",
       "      <th>Lead Number</th>\n",
       "      <th>Predicted</th>\n",
       "    </tr>\n",
       "  </thead>\n",
       "  <tbody>\n",
       "    <tr>\n",
       "      <th>9196</th>\n",
       "      <td>1</td>\n",
       "      <td>0.074331</td>\n",
       "      <td>579918</td>\n",
       "      <td>0</td>\n",
       "    </tr>\n",
       "    <tr>\n",
       "      <th>4696</th>\n",
       "      <td>0</td>\n",
       "      <td>0.074331</td>\n",
       "      <td>614744</td>\n",
       "      <td>0</td>\n",
       "    </tr>\n",
       "    <tr>\n",
       "      <th>3274</th>\n",
       "      <td>0</td>\n",
       "      <td>0.707175</td>\n",
       "      <td>628615</td>\n",
       "      <td>1</td>\n",
       "    </tr>\n",
       "    <tr>\n",
       "      <th>2164</th>\n",
       "      <td>0</td>\n",
       "      <td>0.005807</td>\n",
       "      <td>639044</td>\n",
       "      <td>0</td>\n",
       "    </tr>\n",
       "    <tr>\n",
       "      <th>1667</th>\n",
       "      <td>1</td>\n",
       "      <td>0.949692</td>\n",
       "      <td>643101</td>\n",
       "      <td>1</td>\n",
       "    </tr>\n",
       "    <tr>\n",
       "      <th>...</th>\n",
       "      <td>...</td>\n",
       "      <td>...</td>\n",
       "      <td>...</td>\n",
       "      <td>...</td>\n",
       "    </tr>\n",
       "    <tr>\n",
       "      <th>379</th>\n",
       "      <td>1</td>\n",
       "      <td>0.949692</td>\n",
       "      <td>656457</td>\n",
       "      <td>1</td>\n",
       "    </tr>\n",
       "    <tr>\n",
       "      <th>84</th>\n",
       "      <td>1</td>\n",
       "      <td>0.949692</td>\n",
       "      <td>659696</td>\n",
       "      <td>1</td>\n",
       "    </tr>\n",
       "    <tr>\n",
       "      <th>8313</th>\n",
       "      <td>0</td>\n",
       "      <td>0.007676</td>\n",
       "      <td>586377</td>\n",
       "      <td>0</td>\n",
       "    </tr>\n",
       "    <tr>\n",
       "      <th>7169</th>\n",
       "      <td>0</td>\n",
       "      <td>0.208403</td>\n",
       "      <td>594504</td>\n",
       "      <td>0</td>\n",
       "    </tr>\n",
       "    <tr>\n",
       "      <th>5825</th>\n",
       "      <td>1</td>\n",
       "      <td>0.998646</td>\n",
       "      <td>605210</td>\n",
       "      <td>1</td>\n",
       "    </tr>\n",
       "  </tbody>\n",
       "</table>\n",
       "<p>6267 rows × 4 columns</p>\n",
       "</div>"
      ],
      "text/plain": [
       "      Converted_Actual  Converted_Pred  Lead Number  Predicted\n",
       "9196                 1        0.074331       579918          0\n",
       "4696                 0        0.074331       614744          0\n",
       "3274                 0        0.707175       628615          1\n",
       "2164                 0        0.005807       639044          0\n",
       "1667                 1        0.949692       643101          1\n",
       "...                ...             ...          ...        ...\n",
       "379                  1        0.949692       656457          1\n",
       "84                   1        0.949692       659696          1\n",
       "8313                 0        0.007676       586377          0\n",
       "7169                 0        0.208403       594504          0\n",
       "5825                 1        0.998646       605210          1\n",
       "\n",
       "[6267 rows x 4 columns]"
      ]
     },
     "execution_count": 139,
     "metadata": {},
     "output_type": "execute_result"
    }
   ],
   "source": [
    "for i in nums:\n",
    "    df.drop(i, 1, inplace=True)\n",
    "\n",
    "df"
   ]
  },
  {
   "cell_type": "code",
   "execution_count": 140,
   "id": "a28c4fce",
   "metadata": {},
   "outputs": [
    {
     "data": {
      "text/html": [
       "<div>\n",
       "<style scoped>\n",
       "    .dataframe tbody tr th:only-of-type {\n",
       "        vertical-align: middle;\n",
       "    }\n",
       "\n",
       "    .dataframe tbody tr th {\n",
       "        vertical-align: top;\n",
       "    }\n",
       "\n",
       "    .dataframe thead th {\n",
       "        text-align: right;\n",
       "    }\n",
       "</style>\n",
       "<table border=\"1\" class=\"dataframe\">\n",
       "  <thead>\n",
       "    <tr style=\"text-align: right;\">\n",
       "      <th></th>\n",
       "      <th>Converted_Actual</th>\n",
       "      <th>Converted_Pred</th>\n",
       "      <th>Lead Number</th>\n",
       "      <th>Predicted</th>\n",
       "      <th>Lead Score</th>\n",
       "    </tr>\n",
       "  </thead>\n",
       "  <tbody>\n",
       "    <tr>\n",
       "      <th>9196</th>\n",
       "      <td>1</td>\n",
       "      <td>0.074331</td>\n",
       "      <td>579918</td>\n",
       "      <td>0</td>\n",
       "      <td>7.0</td>\n",
       "    </tr>\n",
       "    <tr>\n",
       "      <th>4696</th>\n",
       "      <td>0</td>\n",
       "      <td>0.074331</td>\n",
       "      <td>614744</td>\n",
       "      <td>0</td>\n",
       "      <td>7.0</td>\n",
       "    </tr>\n",
       "    <tr>\n",
       "      <th>3274</th>\n",
       "      <td>0</td>\n",
       "      <td>0.707175</td>\n",
       "      <td>628615</td>\n",
       "      <td>1</td>\n",
       "      <td>71.0</td>\n",
       "    </tr>\n",
       "    <tr>\n",
       "      <th>2164</th>\n",
       "      <td>0</td>\n",
       "      <td>0.005807</td>\n",
       "      <td>639044</td>\n",
       "      <td>0</td>\n",
       "      <td>1.0</td>\n",
       "    </tr>\n",
       "    <tr>\n",
       "      <th>1667</th>\n",
       "      <td>1</td>\n",
       "      <td>0.949692</td>\n",
       "      <td>643101</td>\n",
       "      <td>1</td>\n",
       "      <td>95.0</td>\n",
       "    </tr>\n",
       "    <tr>\n",
       "      <th>...</th>\n",
       "      <td>...</td>\n",
       "      <td>...</td>\n",
       "      <td>...</td>\n",
       "      <td>...</td>\n",
       "      <td>...</td>\n",
       "    </tr>\n",
       "    <tr>\n",
       "      <th>379</th>\n",
       "      <td>1</td>\n",
       "      <td>0.949692</td>\n",
       "      <td>656457</td>\n",
       "      <td>1</td>\n",
       "      <td>95.0</td>\n",
       "    </tr>\n",
       "    <tr>\n",
       "      <th>84</th>\n",
       "      <td>1</td>\n",
       "      <td>0.949692</td>\n",
       "      <td>659696</td>\n",
       "      <td>1</td>\n",
       "      <td>95.0</td>\n",
       "    </tr>\n",
       "    <tr>\n",
       "      <th>8313</th>\n",
       "      <td>0</td>\n",
       "      <td>0.007676</td>\n",
       "      <td>586377</td>\n",
       "      <td>0</td>\n",
       "      <td>1.0</td>\n",
       "    </tr>\n",
       "    <tr>\n",
       "      <th>7169</th>\n",
       "      <td>0</td>\n",
       "      <td>0.208403</td>\n",
       "      <td>594504</td>\n",
       "      <td>0</td>\n",
       "      <td>21.0</td>\n",
       "    </tr>\n",
       "    <tr>\n",
       "      <th>5825</th>\n",
       "      <td>1</td>\n",
       "      <td>0.998646</td>\n",
       "      <td>605210</td>\n",
       "      <td>1</td>\n",
       "      <td>100.0</td>\n",
       "    </tr>\n",
       "  </tbody>\n",
       "</table>\n",
       "<p>6267 rows × 5 columns</p>\n",
       "</div>"
      ],
      "text/plain": [
       "      Converted_Actual  Converted_Pred  Lead Number  Predicted  Lead Score\n",
       "9196                 1        0.074331       579918          0         7.0\n",
       "4696                 0        0.074331       614744          0         7.0\n",
       "3274                 0        0.707175       628615          1        71.0\n",
       "2164                 0        0.005807       639044          0         1.0\n",
       "1667                 1        0.949692       643101          1        95.0\n",
       "...                ...             ...          ...        ...         ...\n",
       "379                  1        0.949692       656457          1        95.0\n",
       "84                   1        0.949692       659696          1        95.0\n",
       "8313                 0        0.007676       586377          0         1.0\n",
       "7169                 0        0.208403       594504          0        21.0\n",
       "5825                 1        0.998646       605210          1       100.0\n",
       "\n",
       "[6267 rows x 5 columns]"
      ]
     },
     "execution_count": 140,
     "metadata": {},
     "output_type": "execute_result"
    }
   ],
   "source": [
    "#Adding column for Lead Score\n",
    "df['Lead Score'] = round(df['Converted_Pred'],2)*100\n",
    "df"
   ]
  },
  {
   "cell_type": "code",
   "execution_count": 141,
   "id": "ffff6c38",
   "metadata": {},
   "outputs": [
    {
     "data": {
      "text/plain": [
       "0.9497681607418856"
      ]
     },
     "execution_count": 141,
     "metadata": {},
     "output_type": "execute_result"
    }
   ],
   "source": [
    "confusion = metrics.confusion_matrix(df['Converted_Actual'], df['Predicted'])\n",
    "\n",
    "specificity = confusion[0,0]/(confusion[0,0]+confusion[0,1])\n",
    "\n",
    "specificity"
   ]
  },
  {
   "cell_type": "code",
   "execution_count": 142,
   "id": "95310f38",
   "metadata": {},
   "outputs": [
    {
     "data": {
      "text/plain": [
       "array([[3687,  195],\n",
       "       [ 413, 1972]], dtype=int64)"
      ]
     },
     "execution_count": 142,
     "metadata": {},
     "output_type": "execute_result"
    }
   ],
   "source": [
    "confusion"
   ]
  },
  {
   "cell_type": "code",
   "execution_count": 143,
   "id": "dc5c031b",
   "metadata": {},
   "outputs": [],
   "source": [
    "# Precision and recall tradeoff\n",
    "\n",
    "from sklearn.metrics import precision_recall_curve"
   ]
  },
  {
   "cell_type": "code",
   "execution_count": 144,
   "id": "22f1bf2a",
   "metadata": {},
   "outputs": [
    {
     "data": {
      "text/plain": [
       "(9196    1\n",
       " 4696    0\n",
       " 3274    0\n",
       " 2164    0\n",
       " 1667    1\n",
       "        ..\n",
       " 379     1\n",
       " 84      1\n",
       " 8313    0\n",
       " 7169    0\n",
       " 5825    1\n",
       " Name: Converted_Actual, Length: 6267, dtype: int64,\n",
       " 9196    0\n",
       " 4696    0\n",
       " 3274    1\n",
       " 2164    0\n",
       " 1667    1\n",
       "        ..\n",
       " 379     1\n",
       " 84      1\n",
       " 8313    0\n",
       " 7169    0\n",
       " 5825    1\n",
       " Name: Predicted, Length: 6267, dtype: int64)"
      ]
     },
     "execution_count": 144,
     "metadata": {},
     "output_type": "execute_result"
    }
   ],
   "source": [
    "df['Converted_Actual'], df['Predicted']"
   ]
  },
  {
   "cell_type": "code",
   "execution_count": 145,
   "id": "cad44621",
   "metadata": {},
   "outputs": [],
   "source": [
    "p, r, thresholds = precision_recall_curve(df['Converted_Actual'], df['Predicted'])"
   ]
  },
  {
   "cell_type": "code",
   "execution_count": 146,
   "id": "f898f7a9",
   "metadata": {},
   "outputs": [
    {
     "data": {
      "image/png": "[encoded data removed]",
      "text/plain": [
       "<Figure size 432x288 with 1 Axes>"
      ]
     },
     "metadata": {},
     "output_type": "display_data"
    }
   ],
   "source": [
    "plt.plot(thresholds, p[:-1], \"g-\")\n",
    "plt.plot(thresholds, r[:-1], \"r-\")\n",
    "plt.show()"
   ]
  },
  {
   "cell_type": "markdown",
   "id": "0050ab02",
   "metadata": {},
   "source": [
    "<div class=\"alert-info\">\n",
    "    \n",
    "From the above data, we can see that model is performing well.\n",
    "- Accuracy = 90.29%\n",
    "- Sensitivity/Recall = 82.68%\n",
    "- Specificity = 94.97%\n",
    "- Precision = 91.00%\n",
    "- F1-Score = 86.64%\n",
    "- ROC AUC Score = 88.83%"
   ]
  },
  {
   "cell_type": "markdown",
   "id": "f11db5b7",
   "metadata": {},
   "source": [
    "### SCALING TEST DATA"
   ]
  },
  {
   "cell_type": "code",
   "execution_count": 147,
   "id": "b10337ff",
   "metadata": {},
   "outputs": [
    {
     "data": {
      "text/html": [
       "<div>\n",
       "<style scoped>\n",
       "    .dataframe tbody tr th:only-of-type {\n",
       "        vertical-align: middle;\n",
       "    }\n",
       "\n",
       "    .dataframe tbody tr th {\n",
       "        vertical-align: top;\n",
       "    }\n",
       "\n",
       "    .dataframe thead th {\n",
       "        text-align: right;\n",
       "    }\n",
       "</style>\n",
       "<table border=\"1\" class=\"dataframe\">\n",
       "  <thead>\n",
       "    <tr style=\"text-align: right;\">\n",
       "      <th></th>\n",
       "      <th>Do Not Email</th>\n",
       "      <th>TotalVisits</th>\n",
       "      <th>Total Time Spent on Website</th>\n",
       "      <th>Page Views Per Visit</th>\n",
       "      <th>A free copy of Mastering The Interview</th>\n",
       "      <th>Lead Origin_Landing Page Submission</th>\n",
       "      <th>Lead Origin_Lead Add Form</th>\n",
       "      <th>Lead Origin_Lead Import</th>\n",
       "      <th>Lead Source_Direct Traffic</th>\n",
       "      <th>Lead Source_Facebook</th>\n",
       "      <th>...</th>\n",
       "      <th>Tags_Will revert after reading the email</th>\n",
       "      <th>Tags_switched off</th>\n",
       "      <th>Last Notable Activity_Email Bounced</th>\n",
       "      <th>Last Notable Activity_Email Link Clicked</th>\n",
       "      <th>Last Notable Activity_Email Opened</th>\n",
       "      <th>Last Notable Activity_Modified</th>\n",
       "      <th>Last Notable Activity_Olark Chat Conversation</th>\n",
       "      <th>Last Notable Activity_Page Visited on Website</th>\n",
       "      <th>Last Notable Activity_SMS Sent</th>\n",
       "      <th>Last Notable Activity_Unsubscribed</th>\n",
       "    </tr>\n",
       "  </thead>\n",
       "  <tbody>\n",
       "    <tr>\n",
       "      <th>7681</th>\n",
       "      <td>0</td>\n",
       "      <td>0.668862</td>\n",
       "      <td>-0.304384</td>\n",
       "      <td>0.135997</td>\n",
       "      <td>1</td>\n",
       "      <td>1</td>\n",
       "      <td>0</td>\n",
       "      <td>0</td>\n",
       "      <td>1</td>\n",
       "      <td>0</td>\n",
       "      <td>...</td>\n",
       "      <td>0</td>\n",
       "      <td>0</td>\n",
       "      <td>0</td>\n",
       "      <td>0</td>\n",
       "      <td>0</td>\n",
       "      <td>0</td>\n",
       "      <td>0</td>\n",
       "      <td>0</td>\n",
       "      <td>1</td>\n",
       "      <td>0</td>\n",
       "    </tr>\n",
       "    <tr>\n",
       "      <th>984</th>\n",
       "      <td>0</td>\n",
       "      <td>-0.030697</td>\n",
       "      <td>-0.538073</td>\n",
       "      <td>0.399961</td>\n",
       "      <td>1</td>\n",
       "      <td>1</td>\n",
       "      <td>0</td>\n",
       "      <td>0</td>\n",
       "      <td>0</td>\n",
       "      <td>0</td>\n",
       "      <td>...</td>\n",
       "      <td>0</td>\n",
       "      <td>0</td>\n",
       "      <td>0</td>\n",
       "      <td>0</td>\n",
       "      <td>0</td>\n",
       "      <td>1</td>\n",
       "      <td>0</td>\n",
       "      <td>0</td>\n",
       "      <td>0</td>\n",
       "      <td>0</td>\n",
       "    </tr>\n",
       "    <tr>\n",
       "      <th>8135</th>\n",
       "      <td>1</td>\n",
       "      <td>-0.380477</td>\n",
       "      <td>0.794688</td>\n",
       "      <td>-0.127967</td>\n",
       "      <td>1</td>\n",
       "      <td>1</td>\n",
       "      <td>0</td>\n",
       "      <td>0</td>\n",
       "      <td>1</td>\n",
       "      <td>0</td>\n",
       "      <td>...</td>\n",
       "      <td>0</td>\n",
       "      <td>0</td>\n",
       "      <td>0</td>\n",
       "      <td>0</td>\n",
       "      <td>0</td>\n",
       "      <td>0</td>\n",
       "      <td>0</td>\n",
       "      <td>0</td>\n",
       "      <td>1</td>\n",
       "      <td>0</td>\n",
       "    </tr>\n",
       "    <tr>\n",
       "      <th>6915</th>\n",
       "      <td>0</td>\n",
       "      <td>0.319082</td>\n",
       "      <td>-0.614753</td>\n",
       "      <td>-0.127967</td>\n",
       "      <td>1</td>\n",
       "      <td>1</td>\n",
       "      <td>0</td>\n",
       "      <td>0</td>\n",
       "      <td>0</td>\n",
       "      <td>0</td>\n",
       "      <td>...</td>\n",
       "      <td>0</td>\n",
       "      <td>0</td>\n",
       "      <td>0</td>\n",
       "      <td>0</td>\n",
       "      <td>1</td>\n",
       "      <td>0</td>\n",
       "      <td>0</td>\n",
       "      <td>0</td>\n",
       "      <td>0</td>\n",
       "      <td>0</td>\n",
       "    </tr>\n",
       "    <tr>\n",
       "      <th>2712</th>\n",
       "      <td>0</td>\n",
       "      <td>-0.030697</td>\n",
       "      <td>-0.412100</td>\n",
       "      <td>0.399961</td>\n",
       "      <td>0</td>\n",
       "      <td>0</td>\n",
       "      <td>0</td>\n",
       "      <td>0</td>\n",
       "      <td>0</td>\n",
       "      <td>0</td>\n",
       "      <td>...</td>\n",
       "      <td>1</td>\n",
       "      <td>0</td>\n",
       "      <td>0</td>\n",
       "      <td>0</td>\n",
       "      <td>1</td>\n",
       "      <td>0</td>\n",
       "      <td>0</td>\n",
       "      <td>0</td>\n",
       "      <td>0</td>\n",
       "      <td>0</td>\n",
       "    </tr>\n",
       "  </tbody>\n",
       "</table>\n",
       "<p>5 rows × 65 columns</p>\n",
       "</div>"
      ],
      "text/plain": [
       "      Do Not Email  TotalVisits  Total Time Spent on Website  \\\n",
       "7681             0     0.668862                    -0.304384   \n",
       "984              0    -0.030697                    -0.538073   \n",
       "8135             1    -0.380477                     0.794688   \n",
       "6915             0     0.319082                    -0.614753   \n",
       "2712             0    -0.030697                    -0.412100   \n",
       "\n",
       "      Page Views Per Visit  A free copy of Mastering The Interview  \\\n",
       "7681              0.135997                                       1   \n",
       "984               0.399961                                       1   \n",
       "8135             -0.127967                                       1   \n",
       "6915             -0.127967                                       1   \n",
       "2712              0.399961                                       0   \n",
       "\n",
       "      Lead Origin_Landing Page Submission  Lead Origin_Lead Add Form  \\\n",
       "7681                                    1                          0   \n",
       "984                                     1                          0   \n",
       "8135                                    1                          0   \n",
       "6915                                    1                          0   \n",
       "2712                                    0                          0   \n",
       "\n",
       "      Lead Origin_Lead Import  Lead Source_Direct Traffic  \\\n",
       "7681                        0                           1   \n",
       "984                         0                           0   \n",
       "8135                        0                           1   \n",
       "6915                        0                           0   \n",
       "2712                        0                           0   \n",
       "\n",
       "      Lead Source_Facebook  ...  Tags_Will revert after reading the email  \\\n",
       "7681                     0  ...                                         0   \n",
       "984                      0  ...                                         0   \n",
       "8135                     0  ...                                         0   \n",
       "6915                     0  ...                                         0   \n",
       "2712                     0  ...                                         1   \n",
       "\n",
       "      Tags_switched off  Last Notable Activity_Email Bounced  \\\n",
       "7681                  0                                    0   \n",
       "984                   0                                    0   \n",
       "8135                  0                                    0   \n",
       "6915                  0                                    0   \n",
       "2712                  0                                    0   \n",
       "\n",
       "      Last Notable Activity_Email Link Clicked  \\\n",
       "7681                                         0   \n",
       "984                                          0   \n",
       "8135                                         0   \n",
       "6915                                         0   \n",
       "2712                                         0   \n",
       "\n",
       "      Last Notable Activity_Email Opened  Last Notable Activity_Modified  \\\n",
       "7681                                   0                               0   \n",
       "984                                    0                               1   \n",
       "8135                                   0                               0   \n",
       "6915                                   1                               0   \n",
       "2712                                   1                               0   \n",
       "\n",
       "      Last Notable Activity_Olark Chat Conversation  \\\n",
       "7681                                              0   \n",
       "984                                               0   \n",
       "8135                                              0   \n",
       "6915                                              0   \n",
       "2712                                              0   \n",
       "\n",
       "      Last Notable Activity_Page Visited on Website  \\\n",
       "7681                                              0   \n",
       "984                                               0   \n",
       "8135                                              0   \n",
       "6915                                              0   \n",
       "2712                                              0   \n",
       "\n",
       "      Last Notable Activity_SMS Sent  Last Notable Activity_Unsubscribed  \n",
       "7681                               1                                   0  \n",
       "984                                0                                   0  \n",
       "8135                               1                                   0  \n",
       "6915                               0                                   0  \n",
       "2712                               0                                   0  \n",
       "\n",
       "[5 rows x 65 columns]"
      ]
     },
     "execution_count": 147,
     "metadata": {},
     "output_type": "execute_result"
    }
   ],
   "source": [
    "X_test[['TotalVisits', 'Total Time Spent on Website', 'Page Views Per Visit']] = scaler.transform(X_test[['TotalVisits', 'Total Time Spent on Website', 'Page Views Per Visit']])\n",
    "X_test.head()"
   ]
  },
  {
   "cell_type": "code",
   "execution_count": 148,
   "id": "0cb63e98",
   "metadata": {},
   "outputs": [
    {
     "data": {
      "text/plain": [
       "7681    0.074331\n",
       "984     0.007676\n",
       "8135    0.394895\n",
       "6915    0.008678\n",
       "2712    0.949692\n",
       "          ...   \n",
       "9029    0.055347\n",
       "1420    0.055347\n",
       "5996    0.993138\n",
       "4143    0.025575\n",
       "1005    0.208403\n",
       "Length: 2686, dtype: float64"
      ]
     },
     "execution_count": 148,
     "metadata": {},
     "output_type": "execute_result"
    }
   ],
   "source": [
    "X_test_sm = sm.add_constant(X_test[cols])\n",
    "y_test_pred = res.predict(X_test_sm)\n",
    "y_test_pred"
   ]
  },
  {
   "cell_type": "code",
   "execution_count": 149,
   "id": "b2f33db1",
   "metadata": {},
   "outputs": [
    {
     "data": {
      "text/html": [
       "<div>\n",
       "<style scoped>\n",
       "    .dataframe tbody tr th:only-of-type {\n",
       "        vertical-align: middle;\n",
       "    }\n",
       "\n",
       "    .dataframe tbody tr th {\n",
       "        vertical-align: top;\n",
       "    }\n",
       "\n",
       "    .dataframe thead th {\n",
       "        text-align: right;\n",
       "    }\n",
       "</style>\n",
       "<table border=\"1\" class=\"dataframe\">\n",
       "  <thead>\n",
       "    <tr style=\"text-align: right;\">\n",
       "      <th></th>\n",
       "      <th>Converted_Pred</th>\n",
       "      <th>Converted_Actual</th>\n",
       "      <th>Lead Number</th>\n",
       "      <th>Predicted</th>\n",
       "    </tr>\n",
       "  </thead>\n",
       "  <tbody>\n",
       "    <tr>\n",
       "      <th>7681</th>\n",
       "      <td>0.074331</td>\n",
       "      <td>0</td>\n",
       "      <td>590917</td>\n",
       "      <td>0</td>\n",
       "    </tr>\n",
       "    <tr>\n",
       "      <th>984</th>\n",
       "      <td>0.007676</td>\n",
       "      <td>0</td>\n",
       "      <td>649656</td>\n",
       "      <td>0</td>\n",
       "    </tr>\n",
       "    <tr>\n",
       "      <th>8135</th>\n",
       "      <td>0.394895</td>\n",
       "      <td>0</td>\n",
       "      <td>587703</td>\n",
       "      <td>1</td>\n",
       "    </tr>\n",
       "    <tr>\n",
       "      <th>6915</th>\n",
       "      <td>0.008678</td>\n",
       "      <td>0</td>\n",
       "      <td>596565</td>\n",
       "      <td>0</td>\n",
       "    </tr>\n",
       "    <tr>\n",
       "      <th>2712</th>\n",
       "      <td>0.949692</td>\n",
       "      <td>1</td>\n",
       "      <td>633680</td>\n",
       "      <td>1</td>\n",
       "    </tr>\n",
       "    <tr>\n",
       "      <th>...</th>\n",
       "      <td>...</td>\n",
       "      <td>...</td>\n",
       "      <td>...</td>\n",
       "      <td>...</td>\n",
       "    </tr>\n",
       "    <tr>\n",
       "      <th>9029</th>\n",
       "      <td>0.055347</td>\n",
       "      <td>1</td>\n",
       "      <td>581159</td>\n",
       "      <td>0</td>\n",
       "    </tr>\n",
       "    <tr>\n",
       "      <th>1420</th>\n",
       "      <td>0.055347</td>\n",
       "      <td>0</td>\n",
       "      <td>645215</td>\n",
       "      <td>0</td>\n",
       "    </tr>\n",
       "    <tr>\n",
       "      <th>5996</th>\n",
       "      <td>0.993138</td>\n",
       "      <td>1</td>\n",
       "      <td>603809</td>\n",
       "      <td>1</td>\n",
       "    </tr>\n",
       "    <tr>\n",
       "      <th>4143</th>\n",
       "      <td>0.025575</td>\n",
       "      <td>0</td>\n",
       "      <td>620226</td>\n",
       "      <td>0</td>\n",
       "    </tr>\n",
       "    <tr>\n",
       "      <th>1005</th>\n",
       "      <td>0.208403</td>\n",
       "      <td>1</td>\n",
       "      <td>649409</td>\n",
       "      <td>0</td>\n",
       "    </tr>\n",
       "  </tbody>\n",
       "</table>\n",
       "<p>2686 rows × 4 columns</p>\n",
       "</div>"
      ],
      "text/plain": [
       "      Converted_Pred  Converted_Actual  Lead Number  Predicted\n",
       "7681        0.074331                 0       590917          0\n",
       "984         0.007676                 0       649656          0\n",
       "8135        0.394895                 0       587703          1\n",
       "6915        0.008678                 0       596565          0\n",
       "2712        0.949692                 1       633680          1\n",
       "...              ...               ...          ...        ...\n",
       "9029        0.055347                 1       581159          0\n",
       "1420        0.055347                 0       645215          0\n",
       "5996        0.993138                 1       603809          1\n",
       "4143        0.025575                 0       620226          0\n",
       "1005        0.208403                 1       649409          0\n",
       "\n",
       "[2686 rows x 4 columns]"
      ]
     },
     "execution_count": 149,
     "metadata": {},
     "output_type": "execute_result"
    }
   ],
   "source": [
    "df_test = pd.DataFrame()\n",
    "df_test['Converted_Pred'] = y_test_pred\n",
    "df_test['Converted_Actual'] = y_test\n",
    "df_test['Lead Number'] = final_test_leads\n",
    "df_test['Predicted'] = df_test['Converted_Pred'].map(lambda x: 1 if x > 0.28 else 0)\n",
    "df_test"
   ]
  },
  {
   "cell_type": "code",
   "execution_count": 150,
   "id": "ace7d289",
   "metadata": {},
   "outputs": [
    {
     "data": {
      "text/plain": [
       "0.9032017870439315"
      ]
     },
     "execution_count": 150,
     "metadata": {},
     "output_type": "execute_result"
    }
   ],
   "source": [
    "#accuracy\n",
    "metrics.accuracy_score(df_test['Converted_Actual'], df_test['Predicted'])"
   ]
  },
  {
   "cell_type": "code",
   "execution_count": 151,
   "id": "be38e909",
   "metadata": {},
   "outputs": [
    {
     "data": {
      "text/plain": [
       "0.8198019801980198"
      ]
     },
     "execution_count": 151,
     "metadata": {},
     "output_type": "execute_result"
    }
   ],
   "source": [
    "#recall/sensitivity\n",
    "metrics.recall_score(df_test['Converted_Actual'], df_test['Predicted'])"
   ]
  },
  {
   "cell_type": "code",
   "execution_count": 152,
   "id": "a9a51bb4",
   "metadata": {},
   "outputs": [
    {
     "data": {
      "text/plain": [
       "0.9139072847682119"
      ]
     },
     "execution_count": 152,
     "metadata": {},
     "output_type": "execute_result"
    }
   ],
   "source": [
    "#precision\n",
    "metrics.precision_score(df_test['Converted_Actual'], df_test['Predicted'])"
   ]
  },
  {
   "cell_type": "code",
   "execution_count": 153,
   "id": "514452e7",
   "metadata": {},
   "outputs": [
    {
     "data": {
      "text/plain": [
       "0.8643006263048016"
      ]
     },
     "execution_count": 153,
     "metadata": {},
     "output_type": "execute_result"
    }
   ],
   "source": [
    "#F1-score\n",
    "metrics.f1_score(df_test['Converted_Actual'], df_test['Predicted'])"
   ]
  },
  {
   "cell_type": "code",
   "execution_count": 154,
   "id": "d7a7f7bf",
   "metadata": {},
   "outputs": [
    {
     "data": {
      "text/plain": [
       "0.8866313003615396"
      ]
     },
     "execution_count": 154,
     "metadata": {},
     "output_type": "execute_result"
    }
   ],
   "source": [
    "#Area under ROC curve\n",
    "metrics.roc_auc_score(df_test['Converted_Actual'], df_test['Predicted'])"
   ]
  },
  {
   "cell_type": "code",
   "execution_count": 155,
   "id": "81b20876",
   "metadata": {},
   "outputs": [
    {
     "data": {
      "text/plain": [
       "0.990726429675425"
      ]
     },
     "execution_count": 155,
     "metadata": {},
     "output_type": "execute_result"
    }
   ],
   "source": [
    "#specificity\n",
    "conprd = metrics.confusion_matrix(df_test['Converted_Actual'], df_test['Predicted'])\n",
    "\n",
    "specificity = c[0,0]/(c[0,0] + c[0,1])\n",
    "\n",
    "specificity"
   ]
  },
  {
   "cell_type": "code",
   "execution_count": 156,
   "id": "c96c3475",
   "metadata": {},
   "outputs": [
    {
     "data": {
      "text/plain": [
       "array([[1598,   78],\n",
       "       [ 182,  828]], dtype=int64)"
      ]
     },
     "execution_count": 156,
     "metadata": {},
     "output_type": "execute_result"
    }
   ],
   "source": [
    "conprd"
   ]
  },
  {
   "cell_type": "markdown",
   "id": "786094b0",
   "metadata": {},
   "source": [
    "<div class=\"alert-info\">\n",
    "\n",
    "### TRAIN DATA SET\n",
    "- Accuracy = 90.29%\n",
    "- Sensitivity/Recall = 82.68%\n",
    "- Specificity = 94.97%\n",
    "- Precision = 91.00%\n",
    "- F1-Score = 86.64%\n",
    "- ROC AUC Score = 88.83"
   ]
  },
  {
   "cell_type": "markdown",
   "id": "b3e56c82",
   "metadata": {},
   "source": [
    "<div class=\"alert-info\">\n",
    "\n",
    "### TEST DATA SET\n",
    "- Accuracy = 90.32%\n",
    "- Sensitivity/Recall = 81.98%\n",
    "- Specificity = 95.34%\n",
    "- Precision = 91.39%\n",
    "- F1-Score = 86.43%\n",
    "- ROC AUC Score = 88.66"
   ]
  },
  {
   "cell_type": "code",
   "execution_count": null,
   "id": "a2428c04",
   "metadata": {},
   "outputs": [],
   "source": []
  },
  {
   "cell_type": "code",
   "execution_count": null,
   "id": "834b8eff",
   "metadata": {},
   "outputs": [],
   "source": []
  },
  {
   "cell_type": "code",
   "execution_count": null,
   "id": "ca3e0ae2",
   "metadata": {},
   "outputs": [],
   "source": []
  },
  {
   "cell_type": "code",
   "execution_count": null,
   "id": "7213eb83",
   "metadata": {},
   "outputs": [],
   "source": []
  }
 ],
 "metadata": {
  "kernelspec": {
   "display_name": "Python 3 (ipykernel)",
   "language": "python",
   "name": "python3"
  },
  "language_info": {
   "codemirror_mode": {
    "name": "ipython",
    "version": 3
   },
   "file_extension": ".py",
   "mimetype": "text/x-python",
   "name": "python",
   "nbconvert_exporter": "python",
   "pygments_lexer": "ipython3",
   "version": "3.11.7"
  }
 },
 "nbformat": 4,
 "nbformat_minor": 5
}
